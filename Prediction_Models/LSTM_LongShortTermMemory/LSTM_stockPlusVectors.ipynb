{
  "nbformat": 4,
  "nbformat_minor": 0,
  "metadata": {
    "colab": {
      "name": "LSTM_stockPlusVectors.ipynb",
      "provenance": [],
      "collapsed_sections": []
    },
    "kernelspec": {
      "name": "python3",
      "display_name": "Python 3"
    }
  },
  "cells": [
    {
      "cell_type": "markdown",
      "metadata": {
        "id": "B-fL-w8HWLVd"
      },
      "source": [
        "<font color=\"green\">**LSTM model for predictions on stock data only**</font>"
      ]
    },
    {
      "cell_type": "markdown",
      "metadata": {
        "id": "EFBIwrx3YapN"
      },
      "source": [
        "**Import libraries**"
      ]
    },
    {
      "cell_type": "code",
      "metadata": {
        "id": "pvLGz5Zi0J7f"
      },
      "source": [
        "#Import the libraries\n",
        "import math\n",
        "import pandas_datareader as web\n",
        "import numpy as np\n",
        "import pandas as pd\n",
        "from sklearn.preprocessing import MinMaxScaler\n",
        "from keras.models import Sequential\n",
        "from keras.layers import Dense, LSTM\n",
        "import matplotlib.pyplot as plt\n",
        "plt.style.use('fivethirtyeight')"
      ],
      "execution_count": null,
      "outputs": []
    },
    {
      "cell_type": "markdown",
      "metadata": {
        "id": "Q55N0zPDYf0V"
      },
      "source": [
        "**Get stock data and visualize**"
      ]
    },
    {
      "cell_type": "code",
      "metadata": {
        "id": "BoCI4RWY0OK_",
        "colab": {
          "base_uri": "https://localhost:8080/",
          "height": 225
        },
        "outputId": "194ebcb9-5308-4242-b79c-bd756d678188"
      },
      "source": [
        "#Get the stock quote \n",
        "df = web.DataReader('AMD', data_source='yahoo', start='2016-07-22', end='2020-05-26') \n",
        "\n",
        "#To get the stock quote for other companies like Apple, Disney, Tesla=> Uncomment the required line below\n",
        "#df = web.DataReader('AAPL', data_source='yahoo', start='2016-07-22', end='2020-05-26')\n",
        "#df = web.DataReader('DIS', data_source='yahoo', start='2016-07-22', end='2020-05-26')\n",
        "#df = web.DataReader('TSLA', data_source='yahoo', start='2016-07-22', end='2020-05-26')\n",
        "\n",
        "#Show the data \n",
        "df.head(5)"
      ],
      "execution_count": null,
      "outputs": [
        {
          "output_type": "execute_result",
          "data": {
            "text/html": [
              "<div>\n",
              "<style scoped>\n",
              "    .dataframe tbody tr th:only-of-type {\n",
              "        vertical-align: middle;\n",
              "    }\n",
              "\n",
              "    .dataframe tbody tr th {\n",
              "        vertical-align: top;\n",
              "    }\n",
              "\n",
              "    .dataframe thead th {\n",
              "        text-align: right;\n",
              "    }\n",
              "</style>\n",
              "<table border=\"1\" class=\"dataframe\">\n",
              "  <thead>\n",
              "    <tr style=\"text-align: right;\">\n",
              "      <th></th>\n",
              "      <th>High</th>\n",
              "      <th>Low</th>\n",
              "      <th>Open</th>\n",
              "      <th>Close</th>\n",
              "      <th>Volume</th>\n",
              "      <th>Adj Close</th>\n",
              "    </tr>\n",
              "    <tr>\n",
              "      <th>Date</th>\n",
              "      <th></th>\n",
              "      <th></th>\n",
              "      <th></th>\n",
              "      <th></th>\n",
              "      <th></th>\n",
              "      <th></th>\n",
              "    </tr>\n",
              "  </thead>\n",
              "  <tbody>\n",
              "    <tr>\n",
              "      <th>2016-07-22</th>\n",
              "      <td>5.97</td>\n",
              "      <td>5.45</td>\n",
              "      <td>5.73</td>\n",
              "      <td>5.84</td>\n",
              "      <td>101838300</td>\n",
              "      <td>5.84</td>\n",
              "    </tr>\n",
              "    <tr>\n",
              "      <th>2016-07-25</th>\n",
              "      <td>6.95</td>\n",
              "      <td>5.92</td>\n",
              "      <td>5.93</td>\n",
              "      <td>6.70</td>\n",
              "      <td>118328600</td>\n",
              "      <td>6.70</td>\n",
              "    </tr>\n",
              "    <tr>\n",
              "      <th>2016-07-26</th>\n",
              "      <td>7.16</td>\n",
              "      <td>6.71</td>\n",
              "      <td>6.76</td>\n",
              "      <td>6.98</td>\n",
              "      <td>81230600</td>\n",
              "      <td>6.98</td>\n",
              "    </tr>\n",
              "    <tr>\n",
              "      <th>2016-07-27</th>\n",
              "      <td>6.98</td>\n",
              "      <td>6.68</td>\n",
              "      <td>6.93</td>\n",
              "      <td>6.85</td>\n",
              "      <td>38567300</td>\n",
              "      <td>6.85</td>\n",
              "    </tr>\n",
              "    <tr>\n",
              "      <th>2016-07-28</th>\n",
              "      <td>6.98</td>\n",
              "      <td>6.74</td>\n",
              "      <td>6.79</td>\n",
              "      <td>6.82</td>\n",
              "      <td>27515600</td>\n",
              "      <td>6.82</td>\n",
              "    </tr>\n",
              "  </tbody>\n",
              "</table>\n",
              "</div>"
            ],
            "text/plain": [
              "            High   Low  Open  Close     Volume  Adj Close\n",
              "Date                                                     \n",
              "2016-07-22  5.97  5.45  5.73   5.84  101838300       5.84\n",
              "2016-07-25  6.95  5.92  5.93   6.70  118328600       6.70\n",
              "2016-07-26  7.16  6.71  6.76   6.98   81230600       6.98\n",
              "2016-07-27  6.98  6.68  6.93   6.85   38567300       6.85\n",
              "2016-07-28  6.98  6.74  6.79   6.82   27515600       6.82"
            ]
          },
          "metadata": {
            "tags": []
          },
          "execution_count": 2
        }
      ]
    },
    {
      "cell_type": "code",
      "metadata": {
        "id": "38DWsM6_0Sgw",
        "colab": {
          "base_uri": "https://localhost:8080/",
          "height": 518
        },
        "outputId": "ebef95ea-94a2-4644-902a-ab0f1e72096f"
      },
      "source": [
        "#Visualize the closing price history\n",
        "plt.figure(figsize=(16,8))\n",
        "plt.title('Close Price History')\n",
        "plt.plot(df['Close'])\n",
        "plt.xlabel('Date',fontsize=18)\n",
        "plt.ylabel('Close Price USD ($)',fontsize=18)\n",
        "plt.show()"
      ],
      "execution_count": null,
      "outputs": [
        {
          "output_type": "display_data",
          "data": {
            "image/png": "[encoded data removed]",
            "text/plain": [
              "<Figure size 1152x576 with 1 Axes>"
            ]
          },
          "metadata": {
            "tags": [],
            "needs_background": "light"
          }
        }
      ]
    },
    {
      "cell_type": "markdown",
      "metadata": {
        "id": "DkBHThTJYlwj"
      },
      "source": [
        "**Preprocess data and split into train-test dataset**"
      ]
    },
    {
      "cell_type": "code",
      "metadata": {
        "id": "31sAbQIN0aGN"
      },
      "source": [
        "#Create a new dataframe with only the 'Close' column\n",
        "data = df.filter(['Close'])\n",
        "#Converting the dataframe to a numpy array\n",
        "dataset = data.values\n",
        "#Get /Compute the number of rows to train the model on\n",
        "training_data_len = math.ceil( len(dataset) *.8)"
      ],
      "execution_count": null,
      "outputs": []
    },
    {
      "cell_type": "code",
      "metadata": {
        "id": "rQ-_qVOX0drL"
      },
      "source": [
        "#Scale the all of the data to be values between 0 and 1 \n",
        "scaler = MinMaxScaler(feature_range=(0, 1)) \n",
        "scaled_data = scaler.fit_transform(dataset)"
      ],
      "execution_count": null,
      "outputs": []
    },
    {
      "cell_type": "code",
      "metadata": {
        "id": "xDd2QO_f0glF"
      },
      "source": [
        "#Create the scaled training data set \n",
        "train_data = scaled_data[0:training_data_len  , : ]\n",
        "#Split the data into x_train and y_train data sets\n",
        "x_train=[]\n",
        "y_train = []\n",
        "for i in range(60,len(train_data)):\n",
        "  x_train.append(train_data[i-60:i,0])\n",
        "  y_train.append(train_data[i,0])"
      ],
      "execution_count": null,
      "outputs": []
    },
    {
      "cell_type": "code",
      "metadata": {
        "id": "CBdM9wRd0jVP"
      },
      "source": [
        "#Convert x_train and y_train to numpy arrays\n",
        "x_train, y_train = np.array(x_train), np.array(y_train)"
      ],
      "execution_count": null,
      "outputs": []
    },
    {
      "cell_type": "code",
      "metadata": {
        "id": "TXrjwiY80maQ"
      },
      "source": [
        "#Test data set\n",
        "test_data = scaled_data[training_data_len - 60: , : ]\n",
        "#Create the x_test and y_test data sets\n",
        "x_test = []\n",
        "y_test =  dataset[training_data_len : , : ] #Get all of the rows from index 1603 to the rest and all of the columns (in this case it's only column 'Close'), so 2003 - 1603 = 400 rows of data\n",
        "for i in range(60,len(test_data)):\n",
        "  x_test.append(test_data[i-60:i,0])"
      ],
      "execution_count": null,
      "outputs": []
    },
    {
      "cell_type": "code",
      "metadata": {
        "id": "Pz1TITyJ0pmb"
      },
      "source": [
        "#Convert x_test to a numpy array \n",
        "x_test = np.array(x_test)"
      ],
      "execution_count": null,
      "outputs": []
    },
    {
      "cell_type": "markdown",
      "metadata": {
        "id": "dvChNnJyYszm"
      },
      "source": [
        "**Build model and train on training data**"
      ]
    },
    {
      "cell_type": "code",
      "metadata": {
        "id": "BanuWRyr0vzI"
      },
      "source": [
        "#Build the LSTM network model\n",
        "model = Sequential()\n",
        "model.add(LSTM(units=50, return_sequences=True,input_shape=(x_train.shape[1],1)))\n",
        "model.add(LSTM(units=50, return_sequences=False))\n",
        "model.add(Dense(units=25))\n",
        "model.add(Dense(units=1))"
      ],
      "execution_count": null,
      "outputs": []
    },
    {
      "cell_type": "code",
      "metadata": {
        "id": "XoOEieNd0zOU"
      },
      "source": [
        "#Compile the model\n",
        "model.compile(optimizer='adam', loss='mean_squared_error')\n",
        "#model.compile(optimizer='adam',loss='mean_absolute_error')"
      ],
      "execution_count": null,
      "outputs": []
    },
    {
      "cell_type": "code",
      "metadata": {
        "id": "n5tkAYHE021Q"
      },
      "source": [
        "#Reshape the data into the shape accepted by the LSTM\n",
        "x_train = np.reshape(x_train, (x_train.shape[0],x_train.shape[1],1))"
      ],
      "execution_count": null,
      "outputs": []
    },
    {
      "cell_type": "code",
      "metadata": {
        "id": "G8nsKmSb062q",
        "colab": {
          "base_uri": "https://localhost:8080/",
          "height": 50
        },
        "outputId": "56df324e-397e-4eeb-b229-797f4b95556e"
      },
      "source": [
        "#Train the model\n",
        "model.fit(x_train, y_train, batch_size=1, epochs=1)"
      ],
      "execution_count": null,
      "outputs": [
        {
          "output_type": "stream",
          "text": [
            "714/714 [==============================] - 15s 21ms/step - loss: 0.0019\n"
          ],
          "name": "stdout"
        },
        {
          "output_type": "execute_result",
          "data": {
            "text/plain": [
              "<tensorflow.python.keras.callbacks.History at 0x7f3961430fd0>"
            ]
          },
          "metadata": {
            "tags": []
          },
          "execution_count": 13
        }
      ]
    },
    {
      "cell_type": "code",
      "metadata": {
        "id": "MTQ9ZBUo0_E4"
      },
      "source": [
        "#Reshape the data into the shape accepted by the LSTM\n",
        "x_test = np.reshape(x_test, (x_test.shape[0],x_test.shape[1],1))"
      ],
      "execution_count": null,
      "outputs": []
    },
    {
      "cell_type": "markdown",
      "metadata": {
        "id": "LL0rmOWKYxdl"
      },
      "source": [
        "**Predict on testing data and visualize predictions**"
      ]
    },
    {
      "cell_type": "code",
      "metadata": {
        "id": "C6lUynV11IxZ"
      },
      "source": [
        "#Getting the models predicted price values\n",
        "predictions = model.predict(x_test) \n",
        "predictions = scaler.inverse_transform(predictions)#Undo scaling"
      ],
      "execution_count": null,
      "outputs": []
    },
    {
      "cell_type": "code",
      "metadata": {
        "id": "E_bZY1-i1MDX",
        "colab": {
          "base_uri": "https://localhost:8080/",
          "height": 34
        },
        "outputId": "c253a26d-84ca-4e4f-c46c-a24388e63431"
      },
      "source": [
        "#Calculate/Get the value of RMSE\n",
        "rmse=np.sqrt(np.mean(((predictions- y_test)**2)))\n",
        "rmse"
      ],
      "execution_count": null,
      "outputs": [
        {
          "output_type": "execute_result",
          "data": {
            "text/plain": [
              "3.640197749552294"
            ]
          },
          "metadata": {
            "tags": []
          },
          "execution_count": 16
        }
      ]
    },
    {
      "cell_type": "code",
      "metadata": {
        "id": "8XDhQoUE1Quz",
        "colab": {
          "base_uri": "https://localhost:8080/",
          "height": 619
        },
        "outputId": "46c69d07-00b6-464c-d5fa-0f588d67f914"
      },
      "source": [
        "#Plot/Create the data for the graph\n",
        "train = data[:training_data_len]\n",
        "valid = data[training_data_len:]\n",
        "valid['Predictions'] = predictions\n",
        "#Visualize the data\n",
        "plt.figure(figsize=(16,8))\n",
        "plt.title('AMD')\n",
        "plt.xlabel('Date', fontsize=18)\n",
        "plt.ylabel('Close Price USD ($)', fontsize=18)\n",
        "plt.plot(train['Close'])\n",
        "plt.plot(valid[['Close', 'Predictions']])\n",
        "plt.legend(['Train', 'Val', 'Predictions'], loc='lower right')\n",
        "plt.show()"
      ],
      "execution_count": null,
      "outputs": [
        {
          "output_type": "stream",
          "text": [
            "/usr/local/lib/python3.6/dist-packages/ipykernel_launcher.py:4: SettingWithCopyWarning: \n",
            "A value is trying to be set on a copy of a slice from a DataFrame.\n",
            "Try using .loc[row_indexer,col_indexer] = value instead\n",
            "\n",
            "See the caveats in the documentation: https://pandas.pydata.org/pandas-docs/stable/user_guide/indexing.html#returning-a-view-versus-a-copy\n",
            "  after removing the cwd from sys.path.\n"
          ],
          "name": "stderr"
        },
        {
          "output_type": "display_data",
          "data": {
            "image/png": "[encoded data removed]",
            "text/plain": [
              "<Figure size 1152x576 with 1 Axes>"
            ]
          },
          "metadata": {
            "tags": [],
            "needs_background": "light"
          }
        }
      ]
    },
    {
      "cell_type": "markdown",
      "metadata": {
        "id": "6RxHXArDWWTn"
      },
      "source": [
        "<font color=\"green\">**LSTM model for stock prediction using stock data and news vectors data**</font>"
      ]
    },
    {
      "cell_type": "markdown",
      "metadata": {
        "id": "Ry0sDyrGY-Mg"
      },
      "source": [
        "**Get news vectors data and preprocess**"
      ]
    },
    {
      "cell_type": "code",
      "metadata": {
        "id": "dYn6gw_lw0mz",
        "colab": {
          "base_uri": "https://localhost:8080/",
          "height": 136
        },
        "outputId": "a34738ca-6bc2-438d-89f8-b462798360ce"
      },
      "source": [
        "#Read news vectors data from provided data file\n",
        "newsVectors=pd.read_csv('vectorAMD.csv')\n",
        "newsVectors.head(3)"
      ],
      "execution_count": null,
      "outputs": [
        {
          "output_type": "execute_result",
          "data": {
            "text/html": [
              "<div>\n",
              "<style scoped>\n",
              "    .dataframe tbody tr th:only-of-type {\n",
              "        vertical-align: middle;\n",
              "    }\n",
              "\n",
              "    .dataframe tbody tr th {\n",
              "        vertical-align: top;\n",
              "    }\n",
              "\n",
              "    .dataframe thead th {\n",
              "        text-align: right;\n",
              "    }\n",
              "</style>\n",
              "<table border=\"1\" class=\"dataframe\">\n",
              "  <thead>\n",
              "    <tr style=\"text-align: right;\">\n",
              "      <th></th>\n",
              "      <th>date</th>\n",
              "      <th>news</th>\n",
              "      <th>vectors</th>\n",
              "    </tr>\n",
              "  </thead>\n",
              "  <tbody>\n",
              "    <tr>\n",
              "      <th>0</th>\n",
              "      <td>2020-05-26</td>\n",
              "      <td>BLICKNovartisAugenarznei Beovu kommt künftig a...</td>\n",
              "      <td>[ 5.07812500e-02 -3.95329781e-02  1.02132158e-...</td>\n",
              "    </tr>\n",
              "    <tr>\n",
              "      <th>1</th>\n",
              "      <td>2020-05-19</td>\n",
              "      <td>Brazil stock exchange B3 operation despite hol...</td>\n",
              "      <td>[-0.00317383  0.05178223 -0.00095215 -0.041371...</td>\n",
              "    </tr>\n",
              "    <tr>\n",
              "      <th>2</th>\n",
              "      <td>2020-05-11</td>\n",
              "      <td>Kodiak Sciences Announces Q1 2020 Financial Re...</td>\n",
              "      <td>[-1.43147781e-01 -8.14208984e-02 -5.43619804e-...</td>\n",
              "    </tr>\n",
              "  </tbody>\n",
              "</table>\n",
              "</div>"
            ],
            "text/plain": [
              "         date  ...                                            vectors\n",
              "0  2020-05-26  ...  [ 5.07812500e-02 -3.95329781e-02  1.02132158e-...\n",
              "1  2020-05-19  ...  [-0.00317383  0.05178223 -0.00095215 -0.041371...\n",
              "2  2020-05-11  ...  [-1.43147781e-01 -8.14208984e-02 -5.43619804e-...\n",
              "\n",
              "[3 rows x 3 columns]"
            ]
          },
          "metadata": {
            "tags": []
          },
          "execution_count": 34
        }
      ]
    },
    {
      "cell_type": "code",
      "metadata": {
        "id": "gOH1EcxZS-JU",
        "colab": {
          "base_uri": "https://localhost:8080/",
          "height": 136
        },
        "outputId": "b8ede93c-bf24-42ff-879c-966a861af510"
      },
      "source": [
        "#Data preprocessing steps\n",
        "newsVectors=newsVectors.drop('news',axis=1)\n",
        "newsVectors['date'] = pd.to_datetime(newsVectors['date'])\n",
        "newsVectors['date'] = newsVectors['date'].dt.date\n",
        "grouped=newsVectors.groupby('date').sum()\n",
        "grouped=grouped.reset_index()\n",
        "grouped.head(3)\n",
        "#newsVectors.head(3)\n",
        "#grouped=newsVectors.groupby('date').mean()"
      ],
      "execution_count": null,
      "outputs": [
        {
          "output_type": "execute_result",
          "data": {
            "text/html": [
              "<div>\n",
              "<style scoped>\n",
              "    .dataframe tbody tr th:only-of-type {\n",
              "        vertical-align: middle;\n",
              "    }\n",
              "\n",
              "    .dataframe tbody tr th {\n",
              "        vertical-align: top;\n",
              "    }\n",
              "\n",
              "    .dataframe thead th {\n",
              "        text-align: right;\n",
              "    }\n",
              "</style>\n",
              "<table border=\"1\" class=\"dataframe\">\n",
              "  <thead>\n",
              "    <tr style=\"text-align: right;\">\n",
              "      <th></th>\n",
              "      <th>date</th>\n",
              "      <th>vectors</th>\n",
              "    </tr>\n",
              "  </thead>\n",
              "  <tbody>\n",
              "    <tr>\n",
              "      <th>0</th>\n",
              "      <td>2016-07-22</td>\n",
              "      <td>[-0.00675456  0.04950969 -0.00374349  0.153157...</td>\n",
              "    </tr>\n",
              "    <tr>\n",
              "      <th>1</th>\n",
              "      <td>2016-08-03</td>\n",
              "      <td>[ 1.18029788e-01  2.70996094e-02 -1.37069700e-...</td>\n",
              "    </tr>\n",
              "    <tr>\n",
              "      <th>2</th>\n",
              "      <td>2016-08-25</td>\n",
              "      <td>[-3.05175781e-04  4.10766602e-02  6.50721937e-...</td>\n",
              "    </tr>\n",
              "  </tbody>\n",
              "</table>\n",
              "</div>"
            ],
            "text/plain": [
              "         date                                            vectors\n",
              "0  2016-07-22  [-0.00675456  0.04950969 -0.00374349  0.153157...\n",
              "1  2016-08-03  [ 1.18029788e-01  2.70996094e-02 -1.37069700e-...\n",
              "2  2016-08-25  [-3.05175781e-04  4.10766602e-02  6.50721937e-..."
            ]
          },
          "metadata": {
            "tags": []
          },
          "execution_count": 35
        }
      ]
    },
    {
      "cell_type": "code",
      "metadata": {
        "id": "l45mJ861xKXU",
        "colab": {
          "base_uri": "https://localhost:8080/",
          "height": 136
        },
        "outputId": "db5f9da6-c42b-4c7d-e40b-67598782a6e5"
      },
      "source": [
        "#Populate missing values using imputation method\n",
        "r = pd.date_range(start=grouped.date.min(), end=grouped.date.max())\n",
        "grouped=grouped.set_index('date').reindex(r).rename_axis('date').reset_index()\n",
        "grouped=grouped.ffill(axis=0)\n",
        "grouped.head(3)"
      ],
      "execution_count": null,
      "outputs": [
        {
          "output_type": "execute_result",
          "data": {
            "text/html": [
              "<div>\n",
              "<style scoped>\n",
              "    .dataframe tbody tr th:only-of-type {\n",
              "        vertical-align: middle;\n",
              "    }\n",
              "\n",
              "    .dataframe tbody tr th {\n",
              "        vertical-align: top;\n",
              "    }\n",
              "\n",
              "    .dataframe thead th {\n",
              "        text-align: right;\n",
              "    }\n",
              "</style>\n",
              "<table border=\"1\" class=\"dataframe\">\n",
              "  <thead>\n",
              "    <tr style=\"text-align: right;\">\n",
              "      <th></th>\n",
              "      <th>date</th>\n",
              "      <th>vectors</th>\n",
              "    </tr>\n",
              "  </thead>\n",
              "  <tbody>\n",
              "    <tr>\n",
              "      <th>0</th>\n",
              "      <td>2016-07-22</td>\n",
              "      <td>[-0.00675456  0.04950969 -0.00374349  0.153157...</td>\n",
              "    </tr>\n",
              "    <tr>\n",
              "      <th>1</th>\n",
              "      <td>2016-07-23</td>\n",
              "      <td>[-0.00675456  0.04950969 -0.00374349  0.153157...</td>\n",
              "    </tr>\n",
              "    <tr>\n",
              "      <th>2</th>\n",
              "      <td>2016-07-24</td>\n",
              "      <td>[-0.00675456  0.04950969 -0.00374349  0.153157...</td>\n",
              "    </tr>\n",
              "  </tbody>\n",
              "</table>\n",
              "</div>"
            ],
            "text/plain": [
              "        date                                            vectors\n",
              "0 2016-07-22  [-0.00675456  0.04950969 -0.00374349  0.153157...\n",
              "1 2016-07-23  [-0.00675456  0.04950969 -0.00374349  0.153157...\n",
              "2 2016-07-24  [-0.00675456  0.04950969 -0.00374349  0.153157..."
            ]
          },
          "metadata": {
            "tags": []
          },
          "execution_count": 36
        }
      ]
    },
    {
      "cell_type": "code",
      "metadata": {
        "id": "LmUj0qbVyAkg",
        "colab": {
          "base_uri": "https://localhost:8080/",
          "height": 136
        },
        "outputId": "fba87d12-91e6-47fe-85b3-83945d68fd18"
      },
      "source": [
        "df1=df.reset_index()\n",
        "df1.head(3)"
      ],
      "execution_count": null,
      "outputs": [
        {
          "output_type": "execute_result",
          "data": {
            "text/html": [
              "<div>\n",
              "<style scoped>\n",
              "    .dataframe tbody tr th:only-of-type {\n",
              "        vertical-align: middle;\n",
              "    }\n",
              "\n",
              "    .dataframe tbody tr th {\n",
              "        vertical-align: top;\n",
              "    }\n",
              "\n",
              "    .dataframe thead th {\n",
              "        text-align: right;\n",
              "    }\n",
              "</style>\n",
              "<table border=\"1\" class=\"dataframe\">\n",
              "  <thead>\n",
              "    <tr style=\"text-align: right;\">\n",
              "      <th></th>\n",
              "      <th>Date</th>\n",
              "      <th>High</th>\n",
              "      <th>Low</th>\n",
              "      <th>Open</th>\n",
              "      <th>Close</th>\n",
              "      <th>Volume</th>\n",
              "      <th>Adj Close</th>\n",
              "    </tr>\n",
              "  </thead>\n",
              "  <tbody>\n",
              "    <tr>\n",
              "      <th>0</th>\n",
              "      <td>2016-07-22</td>\n",
              "      <td>5.97</td>\n",
              "      <td>5.45</td>\n",
              "      <td>5.73</td>\n",
              "      <td>5.84</td>\n",
              "      <td>101838300</td>\n",
              "      <td>5.84</td>\n",
              "    </tr>\n",
              "    <tr>\n",
              "      <th>1</th>\n",
              "      <td>2016-07-25</td>\n",
              "      <td>6.95</td>\n",
              "      <td>5.92</td>\n",
              "      <td>5.93</td>\n",
              "      <td>6.70</td>\n",
              "      <td>118328600</td>\n",
              "      <td>6.70</td>\n",
              "    </tr>\n",
              "    <tr>\n",
              "      <th>2</th>\n",
              "      <td>2016-07-26</td>\n",
              "      <td>7.16</td>\n",
              "      <td>6.71</td>\n",
              "      <td>6.76</td>\n",
              "      <td>6.98</td>\n",
              "      <td>81230600</td>\n",
              "      <td>6.98</td>\n",
              "    </tr>\n",
              "  </tbody>\n",
              "</table>\n",
              "</div>"
            ],
            "text/plain": [
              "        Date  High   Low  Open  Close     Volume  Adj Close\n",
              "0 2016-07-22  5.97  5.45  5.73   5.84  101838300       5.84\n",
              "1 2016-07-25  6.95  5.92  5.93   6.70  118328600       6.70\n",
              "2 2016-07-26  7.16  6.71  6.76   6.98   81230600       6.98"
            ]
          },
          "metadata": {
            "tags": []
          },
          "execution_count": 37
        }
      ]
    },
    {
      "cell_type": "code",
      "metadata": {
        "id": "uZapep4LzCNU",
        "colab": {
          "base_uri": "https://localhost:8080/",
          "height": 67
        },
        "outputId": "cbe706df-a22c-4640-8bff-ad658edb36f5"
      },
      "source": [
        "grouped.dtypes"
      ],
      "execution_count": null,
      "outputs": [
        {
          "output_type": "execute_result",
          "data": {
            "text/plain": [
              "date       datetime64[ns]\n",
              "vectors            object\n",
              "dtype: object"
            ]
          },
          "metadata": {
            "tags": []
          },
          "execution_count": 38
        }
      ]
    },
    {
      "cell_type": "code",
      "metadata": {
        "id": "ZX95_KHXzPNh"
      },
      "source": [
        "newsScores['date'] = pd.to_datetime(newsScores['date'])"
      ],
      "execution_count": null,
      "outputs": []
    },
    {
      "cell_type": "markdown",
      "metadata": {
        "id": "lptlPcWKZDnU"
      },
      "source": [
        "**Combine news data with stock data and visualize**"
      ]
    },
    {
      "cell_type": "code",
      "metadata": {
        "id": "29azhAjiyGum",
        "colab": {
          "base_uri": "https://localhost:8080/",
          "height": 136
        },
        "outputId": "a648a097-39dc-4461-ee95-1954755dcd2f"
      },
      "source": [
        "#Merge stock data with news vectors data\n",
        "merged_data = pd.merge(left=df1, right=grouped, left_on='Date', right_on='date') #merge datasets\n",
        "merged_data.drop(['date'], axis=1,inplace=True) #remove redundant column\n",
        "merged_data.head(3)"
      ],
      "execution_count": null,
      "outputs": [
        {
          "output_type": "execute_result",
          "data": {
            "text/html": [
              "<div>\n",
              "<style scoped>\n",
              "    .dataframe tbody tr th:only-of-type {\n",
              "        vertical-align: middle;\n",
              "    }\n",
              "\n",
              "    .dataframe tbody tr th {\n",
              "        vertical-align: top;\n",
              "    }\n",
              "\n",
              "    .dataframe thead th {\n",
              "        text-align: right;\n",
              "    }\n",
              "</style>\n",
              "<table border=\"1\" class=\"dataframe\">\n",
              "  <thead>\n",
              "    <tr style=\"text-align: right;\">\n",
              "      <th></th>\n",
              "      <th>Date</th>\n",
              "      <th>High</th>\n",
              "      <th>Low</th>\n",
              "      <th>Open</th>\n",
              "      <th>Close</th>\n",
              "      <th>Volume</th>\n",
              "      <th>Adj Close</th>\n",
              "      <th>vectors</th>\n",
              "    </tr>\n",
              "  </thead>\n",
              "  <tbody>\n",
              "    <tr>\n",
              "      <th>0</th>\n",
              "      <td>2016-07-22</td>\n",
              "      <td>5.97</td>\n",
              "      <td>5.45</td>\n",
              "      <td>5.73</td>\n",
              "      <td>5.84</td>\n",
              "      <td>101838300</td>\n",
              "      <td>5.84</td>\n",
              "      <td>[-0.00675456  0.04950969 -0.00374349  0.153157...</td>\n",
              "    </tr>\n",
              "    <tr>\n",
              "      <th>1</th>\n",
              "      <td>2016-07-25</td>\n",
              "      <td>6.95</td>\n",
              "      <td>5.92</td>\n",
              "      <td>5.93</td>\n",
              "      <td>6.70</td>\n",
              "      <td>118328600</td>\n",
              "      <td>6.70</td>\n",
              "      <td>[-0.00675456  0.04950969 -0.00374349  0.153157...</td>\n",
              "    </tr>\n",
              "    <tr>\n",
              "      <th>2</th>\n",
              "      <td>2016-07-26</td>\n",
              "      <td>7.16</td>\n",
              "      <td>6.71</td>\n",
              "      <td>6.76</td>\n",
              "      <td>6.98</td>\n",
              "      <td>81230600</td>\n",
              "      <td>6.98</td>\n",
              "      <td>[-0.00675456  0.04950969 -0.00374349  0.153157...</td>\n",
              "    </tr>\n",
              "  </tbody>\n",
              "</table>\n",
              "</div>"
            ],
            "text/plain": [
              "        Date  ...                                            vectors\n",
              "0 2016-07-22  ...  [-0.00675456  0.04950969 -0.00374349  0.153157...\n",
              "1 2016-07-25  ...  [-0.00675456  0.04950969 -0.00374349  0.153157...\n",
              "2 2016-07-26  ...  [-0.00675456  0.04950969 -0.00374349  0.153157...\n",
              "\n",
              "[3 rows x 8 columns]"
            ]
          },
          "metadata": {
            "tags": []
          },
          "execution_count": 39
        }
      ]
    },
    {
      "cell_type": "code",
      "metadata": {
        "id": "LLQesrxczkC4",
        "colab": {
          "base_uri": "https://localhost:8080/",
          "height": 136
        },
        "outputId": "5f4a5e02-ffee-4fa9-bba9-9f730c44d816"
      },
      "source": [
        "merged_data.set_index('Date')\n",
        "merged_data.head(3)"
      ],
      "execution_count": null,
      "outputs": [
        {
          "output_type": "execute_result",
          "data": {
            "text/html": [
              "<div>\n",
              "<style scoped>\n",
              "    .dataframe tbody tr th:only-of-type {\n",
              "        vertical-align: middle;\n",
              "    }\n",
              "\n",
              "    .dataframe tbody tr th {\n",
              "        vertical-align: top;\n",
              "    }\n",
              "\n",
              "    .dataframe thead th {\n",
              "        text-align: right;\n",
              "    }\n",
              "</style>\n",
              "<table border=\"1\" class=\"dataframe\">\n",
              "  <thead>\n",
              "    <tr style=\"text-align: right;\">\n",
              "      <th></th>\n",
              "      <th>Date</th>\n",
              "      <th>High</th>\n",
              "      <th>Low</th>\n",
              "      <th>Open</th>\n",
              "      <th>Close</th>\n",
              "      <th>Volume</th>\n",
              "      <th>Adj Close</th>\n",
              "      <th>vectors</th>\n",
              "    </tr>\n",
              "  </thead>\n",
              "  <tbody>\n",
              "    <tr>\n",
              "      <th>0</th>\n",
              "      <td>2016-07-22</td>\n",
              "      <td>5.97</td>\n",
              "      <td>5.45</td>\n",
              "      <td>5.73</td>\n",
              "      <td>5.84</td>\n",
              "      <td>101838300</td>\n",
              "      <td>5.84</td>\n",
              "      <td>[-0.00675456  0.04950969 -0.00374349  0.153157...</td>\n",
              "    </tr>\n",
              "    <tr>\n",
              "      <th>1</th>\n",
              "      <td>2016-07-25</td>\n",
              "      <td>6.95</td>\n",
              "      <td>5.92</td>\n",
              "      <td>5.93</td>\n",
              "      <td>6.70</td>\n",
              "      <td>118328600</td>\n",
              "      <td>6.70</td>\n",
              "      <td>[-0.00675456  0.04950969 -0.00374349  0.153157...</td>\n",
              "    </tr>\n",
              "    <tr>\n",
              "      <th>2</th>\n",
              "      <td>2016-07-26</td>\n",
              "      <td>7.16</td>\n",
              "      <td>6.71</td>\n",
              "      <td>6.76</td>\n",
              "      <td>6.98</td>\n",
              "      <td>81230600</td>\n",
              "      <td>6.98</td>\n",
              "      <td>[-0.00675456  0.04950969 -0.00374349  0.153157...</td>\n",
              "    </tr>\n",
              "  </tbody>\n",
              "</table>\n",
              "</div>"
            ],
            "text/plain": [
              "        Date  ...                                            vectors\n",
              "0 2016-07-22  ...  [-0.00675456  0.04950969 -0.00374349  0.153157...\n",
              "1 2016-07-25  ...  [-0.00675456  0.04950969 -0.00374349  0.153157...\n",
              "2 2016-07-26  ...  [-0.00675456  0.04950969 -0.00374349  0.153157...\n",
              "\n",
              "[3 rows x 8 columns]"
            ]
          },
          "metadata": {
            "tags": []
          },
          "execution_count": 40
        }
      ]
    },
    {
      "cell_type": "code",
      "metadata": {
        "id": "-qgZlrppz4Cz",
        "colab": {
          "base_uri": "https://localhost:8080/",
          "height": 518
        },
        "outputId": "e75bbcfd-3ee9-45b8-a8ab-03ce5dc8d3d5"
      },
      "source": [
        "#Visualize the closing price history\n",
        "plt.figure(figsize=(16,8))\n",
        "plt.title('Close Price History')\n",
        "plt.plot(merged_data['Close'])\n",
        "plt.xlabel('Date',fontsize=18)\n",
        "plt.ylabel('Close Price USD ($)',fontsize=18)\n",
        "plt.show()"
      ],
      "execution_count": null,
      "outputs": [
        {
          "output_type": "display_data",
          "data": {
            "image/png": "[encoded data removed]",
            "text/plain": [
              "<Figure size 1152x576 with 1 Axes>"
            ]
          },
          "metadata": {
            "tags": [],
            "needs_background": "light"
          }
        }
      ]
    },
    {
      "cell_type": "markdown",
      "metadata": {
        "id": "GYboVnOPZOZx"
      },
      "source": [
        "**Preprocess merged data and split into train-test dataset**"
      ]
    },
    {
      "cell_type": "code",
      "metadata": {
        "id": "5gSTSPRi0Axg"
      },
      "source": [
        "#Create a new dataframe with 'Close' column\n",
        "data = merged_data.filter(['Close'])\n",
        "#Converting the dataframe to a numpy array\n",
        "dataset = data.values\n",
        "#Get /Compute the number of rows to train the model on\n",
        "training_data_len = math.ceil( len(dataset) *.8)"
      ],
      "execution_count": null,
      "outputs": []
    },
    {
      "cell_type": "code",
      "metadata": {
        "id": "lu5-QDC-0HpW"
      },
      "source": [
        "#Scale the all of the data to be values between 0 and 1 \n",
        "scaler = MinMaxScaler(feature_range=(0, 1)) \n",
        "scaled_data = scaler.fit_transform(dataset)"
      ],
      "execution_count": null,
      "outputs": []
    },
    {
      "cell_type": "code",
      "metadata": {
        "id": "B44Kie_70M-R"
      },
      "source": [
        "#Create the scaled training data set \n",
        "train_data = scaled_data[0:training_data_len  , : ]\n",
        "#Split the data into x_train and y_train data sets\n",
        "x_train=[]\n",
        "y_train = []\n",
        "for i in range(60,len(train_data)):\n",
        "  x_train.append(train_data[i-60:i,0])\n",
        "  y_train.append(train_data[i,0])"
      ],
      "execution_count": null,
      "outputs": []
    },
    {
      "cell_type": "code",
      "metadata": {
        "id": "zRXF90SR0Rxu"
      },
      "source": [
        "#Convert x_train and y_train to numpy arrays\n",
        "x_train, y_train = np.array(x_train), np.array(y_train)"
      ],
      "execution_count": null,
      "outputs": []
    },
    {
      "cell_type": "code",
      "metadata": {
        "id": "46ChkGN60dfc"
      },
      "source": [
        "#Test data set\n",
        "test_data = scaled_data[training_data_len - 60: , : ]\n",
        "#Create the x_test and y_test data sets\n",
        "x_test = []\n",
        "y_test =  dataset[training_data_len : , : ] #Get all of the rows from index 1603 to the rest and all of the columns (in this case it's only column 'Close'), so 2003 - 1603 = 400 rows of data\n",
        "for i in range(60,len(test_data)):\n",
        "  x_test.append(test_data[i-60:i,0])"
      ],
      "execution_count": null,
      "outputs": []
    },
    {
      "cell_type": "code",
      "metadata": {
        "id": "bwX7045Z0jD4"
      },
      "source": [
        "#Convert x_test to a numpy array \n",
        "x_test = np.array(x_test)"
      ],
      "execution_count": null,
      "outputs": []
    },
    {
      "cell_type": "markdown",
      "metadata": {
        "id": "8SZirnM5ZUYQ"
      },
      "source": [
        "**Build model and train on training data**"
      ]
    },
    {
      "cell_type": "code",
      "metadata": {
        "id": "z11vapkP0oIC"
      },
      "source": [
        "#Build the LSTM network model\n",
        "model = Sequential()\n",
        "model.add(LSTM(units=50, return_sequences=True,input_shape=(x_train.shape[1],1)))\n",
        "model.add(LSTM(units=50, return_sequences=False))\n",
        "model.add(Dense(units=25))\n",
        "model.add(Dense(units=1))"
      ],
      "execution_count": null,
      "outputs": []
    },
    {
      "cell_type": "code",
      "metadata": {
        "id": "20MEB0Qw0tWV"
      },
      "source": [
        "#Compile the model\n",
        "model.compile(optimizer='adam', loss='mean_squared_error')"
      ],
      "execution_count": null,
      "outputs": []
    },
    {
      "cell_type": "code",
      "metadata": {
        "id": "uXq0chO40zd3"
      },
      "source": [
        "#Reshape the data into the shape accepted by the LSTM\n",
        "x_train = np.reshape(x_train, (x_train.shape[0],x_train.shape[1],1))"
      ],
      "execution_count": null,
      "outputs": []
    },
    {
      "cell_type": "code",
      "metadata": {
        "id": "PpQNoUep03k3",
        "colab": {
          "base_uri": "https://localhost:8080/",
          "height": 50
        },
        "outputId": "092a2bdb-c6d2-45de-8bd7-bbeae2023a9f"
      },
      "source": [
        "#Train the model\n",
        "model.fit(x_train, y_train, batch_size=1, epochs=1)"
      ],
      "execution_count": null,
      "outputs": [
        {
          "output_type": "stream",
          "text": [
            "714/714 [==============================] - 17s 23ms/step - loss: 0.0015\n"
          ],
          "name": "stdout"
        },
        {
          "output_type": "execute_result",
          "data": {
            "text/plain": [
              "<tensorflow.python.keras.callbacks.History at 0x7f3956749780>"
            ]
          },
          "metadata": {
            "tags": []
          },
          "execution_count": 51
        }
      ]
    },
    {
      "cell_type": "code",
      "metadata": {
        "id": "_jlmkHcI1Ipv"
      },
      "source": [
        "#Reshape the data into the shape accepted by the LSTM\n",
        "x_test = np.reshape(x_test, (x_test.shape[0],x_test.shape[1],1))"
      ],
      "execution_count": null,
      "outputs": []
    },
    {
      "cell_type": "markdown",
      "metadata": {
        "id": "PvTBTlEsZYsf"
      },
      "source": [
        "**Predict on testing data and visualize predictions**"
      ]
    },
    {
      "cell_type": "code",
      "metadata": {
        "id": "ly-rHGxH1NhI"
      },
      "source": [
        "#Getting the models predicted price values\n",
        "predictions = model.predict(x_test) \n",
        "predictions = scaler.inverse_transform(predictions)#Undo scaling"
      ],
      "execution_count": null,
      "outputs": []
    },
    {
      "cell_type": "code",
      "metadata": {
        "id": "6xw8qq4w1SnO",
        "colab": {
          "base_uri": "https://localhost:8080/",
          "height": 34
        },
        "outputId": "72225d3e-cb20-4036-d9fb-17e14208320b"
      },
      "source": [
        "#Calculate/Get the value of RMSE\n",
        "rmse=np.sqrt(np.mean(((predictions- y_test)**2)))\n",
        "rmse"
      ],
      "execution_count": null,
      "outputs": [
        {
          "output_type": "execute_result",
          "data": {
            "text/plain": [
              "2.483905463752487"
            ]
          },
          "metadata": {
            "tags": []
          },
          "execution_count": 54
        }
      ]
    },
    {
      "cell_type": "code",
      "metadata": {
        "id": "0RO8kXXu1Yl6",
        "colab": {
          "base_uri": "https://localhost:8080/",
          "height": 619
        },
        "outputId": "df27eee6-4329-4ce6-813b-14b4e0dff90a"
      },
      "source": [
        "#Plot/Create the data for the graph\n",
        "train = data[:training_data_len]\n",
        "valid = data[training_data_len:]\n",
        "valid['Predictions'] = predictions\n",
        "#Visualize the data\n",
        "plt.figure(figsize=(16,8))\n",
        "plt.title('AMD')\n",
        "plt.xlabel('Date', fontsize=18)\n",
        "plt.ylabel('Close Price USD ($)', fontsize=18)\n",
        "plt.plot(train['Close'])\n",
        "plt.plot(valid[['Close', 'Predictions']])\n",
        "plt.legend(['Train', 'Val', 'Predictions'], loc='lower right')\n",
        "plt.show()"
      ],
      "execution_count": null,
      "outputs": [
        {
          "output_type": "stream",
          "text": [
            "/usr/local/lib/python3.6/dist-packages/ipykernel_launcher.py:4: SettingWithCopyWarning: \n",
            "A value is trying to be set on a copy of a slice from a DataFrame.\n",
            "Try using .loc[row_indexer,col_indexer] = value instead\n",
            "\n",
            "See the caveats in the documentation: https://pandas.pydata.org/pandas-docs/stable/user_guide/indexing.html#returning-a-view-versus-a-copy\n",
            "  after removing the cwd from sys.path.\n"
          ],
          "name": "stderr"
        },
        {
          "output_type": "display_data",
          "data": {
            "image/png": "[encoded data removed]",
            "text/plain": [
              "<Figure size 1152x576 with 1 Axes>"
            ]
          },
          "metadata": {
            "tags": [],
            "needs_background": "light"
          }
        }
      ]
    }
  ]
}