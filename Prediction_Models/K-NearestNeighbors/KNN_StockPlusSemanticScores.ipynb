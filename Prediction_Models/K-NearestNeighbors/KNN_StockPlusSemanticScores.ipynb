{
  "nbformat": 4,
  "nbformat_minor": 0,
  "metadata": {
    "colab": {
      "name": "KNN_StockPlusSemanticScores.ipynb",
      "provenance": []
    },
    "kernelspec": {
      "name": "python3",
      "display_name": "Python 3"
    }
  },
  "cells": [
    {
      "cell_type": "markdown",
      "metadata": {
        "id": "iN0s1_6LbV_7"
      },
      "source": [
        "<font color=\"green\">**K-Nearest Neighbor model for stock prediction using stock data**</font>"
      ]
    },
    {
      "cell_type": "markdown",
      "metadata": {
        "id": "mP8qRLldcOCB"
      },
      "source": [
        "**Import Libraries**"
      ]
    },
    {
      "cell_type": "code",
      "metadata": {
        "id": "iuGX_XZj5jmr"
      },
      "source": [
        "#Import the libraries\n",
        "import math\n",
        "import pandas_datareader as web\n",
        "import numpy as np\n",
        "import pandas as pd\n",
        "\n",
        "#Data Scaling Library\n",
        "from sklearn.preprocessing import MinMaxScaler\n",
        "\n",
        "#Error Metrics Library\n",
        "from sklearn.metrics import mean_squared_error\n",
        "import matplotlib.pyplot as plt\n",
        "\n",
        "#KNN Libraries\n",
        "from sklearn import neighbors\n",
        "from sklearn.model_selection import GridSearchCV\n",
        "\n",
        "#Data Visualization Library\n",
        "plt.style.use('fivethirtyeight')"
      ],
      "execution_count": 1,
      "outputs": []
    },
    {
      "cell_type": "markdown",
      "metadata": {
        "id": "-QQ1TiJ-ciQF"
      },
      "source": [
        "**Get stock data and visualize**"
      ]
    },
    {
      "cell_type": "code",
      "metadata": {
        "id": "yq-XFlrd5ppD",
        "colab": {
          "base_uri": "https://localhost:8080/",
          "height": 235
        },
        "outputId": "0f6378b5-89d0-41b9-9322-5d84bd116f3a"
      },
      "source": [
        "#Get the stock quote for Disney\n",
        "df = web.DataReader('AMD', data_source='yahoo', start='2016-07-22', end='2020-05-26') \n",
        "\n",
        "#Use the below code to get stock quotes for other companies: Apple, AMD, Tesla\n",
        "#df = web.DataReader('AAPL', data_source='yahoo', start='2016-07-22', end='2020-10-30')\n",
        "#df = web.DataReader('AMD', data_source='yahoo', start='2016-07-22', end='2020-10-30')\n",
        "#df = web.DataReader('TSLA', data_source='yahoo', start='2016-07-22', end='2020-10-30')\n",
        "\n",
        "#Show the data \n",
        "df.head(5)"
      ],
      "execution_count": 2,
      "outputs": [
        {
          "output_type": "execute_result",
          "data": {
            "text/html": [
              "<div>\n",
              "<style scoped>\n",
              "    .dataframe tbody tr th:only-of-type {\n",
              "        vertical-align: middle;\n",
              "    }\n",
              "\n",
              "    .dataframe tbody tr th {\n",
              "        vertical-align: top;\n",
              "    }\n",
              "\n",
              "    .dataframe thead th {\n",
              "        text-align: right;\n",
              "    }\n",
              "</style>\n",
              "<table border=\"1\" class=\"dataframe\">\n",
              "  <thead>\n",
              "    <tr style=\"text-align: right;\">\n",
              "      <th></th>\n",
              "      <th>High</th>\n",
              "      <th>Low</th>\n",
              "      <th>Open</th>\n",
              "      <th>Close</th>\n",
              "      <th>Volume</th>\n",
              "      <th>Adj Close</th>\n",
              "    </tr>\n",
              "    <tr>\n",
              "      <th>Date</th>\n",
              "      <th></th>\n",
              "      <th></th>\n",
              "      <th></th>\n",
              "      <th></th>\n",
              "      <th></th>\n",
              "      <th></th>\n",
              "    </tr>\n",
              "  </thead>\n",
              "  <tbody>\n",
              "    <tr>\n",
              "      <th>2016-07-22</th>\n",
              "      <td>5.97</td>\n",
              "      <td>5.45</td>\n",
              "      <td>5.73</td>\n",
              "      <td>5.84</td>\n",
              "      <td>101838300</td>\n",
              "      <td>5.84</td>\n",
              "    </tr>\n",
              "    <tr>\n",
              "      <th>2016-07-25</th>\n",
              "      <td>6.95</td>\n",
              "      <td>5.92</td>\n",
              "      <td>5.93</td>\n",
              "      <td>6.70</td>\n",
              "      <td>118328600</td>\n",
              "      <td>6.70</td>\n",
              "    </tr>\n",
              "    <tr>\n",
              "      <th>2016-07-26</th>\n",
              "      <td>7.16</td>\n",
              "      <td>6.71</td>\n",
              "      <td>6.76</td>\n",
              "      <td>6.98</td>\n",
              "      <td>81230600</td>\n",
              "      <td>6.98</td>\n",
              "    </tr>\n",
              "    <tr>\n",
              "      <th>2016-07-27</th>\n",
              "      <td>6.98</td>\n",
              "      <td>6.68</td>\n",
              "      <td>6.93</td>\n",
              "      <td>6.85</td>\n",
              "      <td>38567300</td>\n",
              "      <td>6.85</td>\n",
              "    </tr>\n",
              "    <tr>\n",
              "      <th>2016-07-28</th>\n",
              "      <td>6.98</td>\n",
              "      <td>6.74</td>\n",
              "      <td>6.79</td>\n",
              "      <td>6.82</td>\n",
              "      <td>27515600</td>\n",
              "      <td>6.82</td>\n",
              "    </tr>\n",
              "  </tbody>\n",
              "</table>\n",
              "</div>"
            ],
            "text/plain": [
              "            High   Low  Open  Close     Volume  Adj Close\n",
              "Date                                                     \n",
              "2016-07-22  5.97  5.45  5.73   5.84  101838300       5.84\n",
              "2016-07-25  6.95  5.92  5.93   6.70  118328600       6.70\n",
              "2016-07-26  7.16  6.71  6.76   6.98   81230600       6.98\n",
              "2016-07-27  6.98  6.68  6.93   6.85   38567300       6.85\n",
              "2016-07-28  6.98  6.74  6.79   6.82   27515600       6.82"
            ]
          },
          "metadata": {
            "tags": []
          },
          "execution_count": 2
        }
      ]
    },
    {
      "cell_type": "code",
      "metadata": {
        "colab": {
          "base_uri": "https://localhost:8080/",
          "height": 518
        },
        "id": "mrCLRG_ydIGJ",
        "outputId": "05443f73-5993-4acc-cb9b-0657981ca824"
      },
      "source": [
        "#Visualize the closing price history\n",
        "plt.figure(figsize=(16,8))\n",
        "plt.title('AMD: Close Price History')\n",
        "plt.plot(df['Close'])\n",
        "plt.xlabel('Date',fontsize=18)\n",
        "plt.ylabel('Close Price USD ($)',fontsize=18)\n",
        "plt.show()"
      ],
      "execution_count": 3,
      "outputs": [
        {
          "output_type": "display_data",
          "data": {
            "image/png": "[encoded data removed]",
            "text/plain": [
              "<Figure size 1152x576 with 1 Axes>"
            ]
          },
          "metadata": {
            "tags": [],
            "needs_background": "light"
          }
        }
      ]
    },
    {
      "cell_type": "markdown",
      "metadata": {
        "id": "ajsGLltAdS2-"
      },
      "source": [
        "**Preprocess data and split into train-test datasets**"
      ]
    },
    {
      "cell_type": "code",
      "metadata": {
        "id": "uqgAbIhK5rwd",
        "colab": {
          "base_uri": "https://localhost:8080/"
        },
        "outputId": "81506e97-df78-4d2b-f46d-04be429277cc"
      },
      "source": [
        "#Create a new dataframe with only the 'Close' column\n",
        "data = df.filter(['Close'])\n",
        "\n",
        "#Converting the dataframe to a numpy array\n",
        "dataset = data.values\n",
        "\n",
        "#Get /Compute the number of rows to train the model on\n",
        "training_data_len = math.ceil( len(dataset) *.8)\n",
        "\n",
        "print(\"Training Data Length: \", training_data_len)"
      ],
      "execution_count": 4,
      "outputs": [
        {
          "output_type": "stream",
          "text": [
            "Training Data Length:  774\n"
          ],
          "name": "stdout"
        }
      ]
    },
    {
      "cell_type": "code",
      "metadata": {
        "id": "jfjdpswH5w3U"
      },
      "source": [
        "#Scale the all of the data to be values between 0 to 1 range\n",
        "scaler = MinMaxScaler(feature_range=(0, 1)) \n",
        "scaled_data = scaler.fit_transform(dataset)"
      ],
      "execution_count": 5,
      "outputs": []
    },
    {
      "cell_type": "code",
      "metadata": {
        "id": "9PKiee7K5xfk"
      },
      "source": [
        "#Create the scaled training data set \n",
        "train_data = scaled_data[0:training_data_len  , : ]\n",
        "\n",
        "#Split the data into x_train and y_train data sets\n",
        "x_train=[]\n",
        "y_train = []\n",
        "\n",
        "for i in range(60,len(train_data)):\n",
        "  x_train.append(train_data[i-60:i,0])\n",
        "  y_train.append(train_data[i,0])"
      ],
      "execution_count": 6,
      "outputs": []
    },
    {
      "cell_type": "code",
      "metadata": {
        "id": "eSb-ygZY5y8H"
      },
      "source": [
        "#Convert x_train and y_train to numpy arrays\n",
        "x_train, y_train = np.array(x_train), np.array(y_train)"
      ],
      "execution_count": 7,
      "outputs": []
    },
    {
      "cell_type": "code",
      "metadata": {
        "id": "1wmjHWHX508F"
      },
      "source": [
        "#Test data set\n",
        "test_data = scaled_data[training_data_len - 60: , : ]\n",
        "\n",
        "#Create the x_test and y_test data sets\n",
        "x_test = []\n",
        "y_test =  dataset[training_data_len : , : ] \n",
        "\n",
        "for i in range(60,len(test_data)):\n",
        "  x_test.append(test_data[i-60:i,0])\n",
        "\n",
        "#Convert x_test to a numpy array \n",
        "x_test = np.array(x_test)"
      ],
      "execution_count": 8,
      "outputs": []
    },
    {
      "cell_type": "code",
      "metadata": {
        "id": "du1kOWG854lW",
        "colab": {
          "base_uri": "https://localhost:8080/"
        },
        "outputId": "93fe7fec-1ff9-4e06-a804-917d44551536"
      },
      "source": [
        "x_train.shape"
      ],
      "execution_count": 9,
      "outputs": [
        {
          "output_type": "execute_result",
          "data": {
            "text/plain": [
              "(714, 60)"
            ]
          },
          "metadata": {
            "tags": []
          },
          "execution_count": 9
        }
      ]
    },
    {
      "cell_type": "code",
      "metadata": {
        "id": "WuRHYI-m6Bjz",
        "colab": {
          "base_uri": "https://localhost:8080/"
        },
        "outputId": "88fc66f7-48ae-4b9d-e616-762701e5b1c3"
      },
      "source": [
        "x_test.shape"
      ],
      "execution_count": 10,
      "outputs": [
        {
          "output_type": "execute_result",
          "data": {
            "text/plain": [
              "(193, 60)"
            ]
          },
          "metadata": {
            "tags": []
          },
          "execution_count": 10
        }
      ]
    },
    {
      "cell_type": "markdown",
      "metadata": {
        "id": "_fM30oq455q-"
      },
      "source": [
        "**KNN: Build model and train using the training data**"
      ]
    },
    {
      "cell_type": "code",
      "metadata": {
        "colab": {
          "base_uri": "https://localhost:8080/"
        },
        "id": "yTK_XyrUapgb",
        "outputId": "9a9690e2-b9f9-4620-ac08-169c9ca4555b"
      },
      "source": [
        "#using gridsearch to find the best parameter\n",
        "params = {'n_neighbors':[1,2,3,4,5]}\n",
        "knn = neighbors.KNeighborsRegressor(n_neighbors=5)  ## Neighbors with size 1,5,20 is tested with 5 as the optimal performer\n",
        "model = GridSearchCV(knn, params, cv=10)\n",
        "\n",
        "x_train = x_train.reshape(714,60)\n",
        "\n",
        "#fit the model on training data\n",
        "model.fit(x_train,y_train)"
      ],
      "execution_count": 11,
      "outputs": [
        {
          "output_type": "execute_result",
          "data": {
            "text/plain": [
              "GridSearchCV(cv=10, error_score=nan,\n",
              "             estimator=KNeighborsRegressor(algorithm='auto', leaf_size=30,\n",
              "                                           metric='minkowski',\n",
              "                                           metric_params=None, n_jobs=None,\n",
              "                                           n_neighbors=5, p=2,\n",
              "                                           weights='uniform'),\n",
              "             iid='deprecated', n_jobs=None,\n",
              "             param_grid={'n_neighbors': [1, 2, 3, 4, 5]},\n",
              "             pre_dispatch='2*n_jobs', refit=True, return_train_score=False,\n",
              "             scoring=None, verbose=0)"
            ]
          },
          "metadata": {
            "tags": []
          },
          "execution_count": 11
        }
      ]
    },
    {
      "cell_type": "markdown",
      "metadata": {
        "id": "Fx43iLSZfFte"
      },
      "source": [
        "**Predict on testing data and visualize predictions**"
      ]
    },
    {
      "cell_type": "code",
      "metadata": {
        "id": "A7RGZXmjasFP"
      },
      "source": [
        "x_test = x_test.reshape(193,60)"
      ],
      "execution_count": 12,
      "outputs": []
    },
    {
      "cell_type": "code",
      "metadata": {
        "colab": {
          "base_uri": "https://localhost:8080/"
        },
        "id": "D_jbFLsVat5o",
        "outputId": "a5896c93-79f4-4627-a8bd-eb3a02e5842f"
      },
      "source": [
        "preds = model.predict(x_test)\n",
        "preds = preds.reshape(-1,1)\n",
        "preds = scaler.inverse_transform(preds)#Undo scaling\n",
        "\n",
        "rms=np.sqrt(np.mean(np.power((np.array(y_test)-np.array(preds)),2)))\n",
        "print(\"RMS: \",rms)"
      ],
      "execution_count": 13,
      "outputs": [
        {
          "output_type": "stream",
          "text": [
            "RMS:  15.00470216849413\n"
          ],
          "name": "stdout"
        }
      ]
    },
    {
      "cell_type": "code",
      "metadata": {
        "colab": {
          "base_uri": "https://localhost:8080/"
        },
        "id": "sNl-777Zavut",
        "outputId": "6c218ac6-83dd-462d-8c09-191772e7107c"
      },
      "source": [
        "#Create the data for the graph\n",
        "train = data[:training_data_len]\n",
        "valid = data[training_data_len:]\n",
        "valid['Predictions'] = preds"
      ],
      "execution_count": 14,
      "outputs": [
        {
          "output_type": "stream",
          "text": [
            "/usr/local/lib/python3.6/dist-packages/ipykernel_launcher.py:4: SettingWithCopyWarning: \n",
            "A value is trying to be set on a copy of a slice from a DataFrame.\n",
            "Try using .loc[row_indexer,col_indexer] = value instead\n",
            "\n",
            "See the caveats in the documentation: https://pandas.pydata.org/pandas-docs/stable/user_guide/indexing.html#returning-a-view-versus-a-copy\n",
            "  after removing the cwd from sys.path.\n"
          ],
          "name": "stderr"
        }
      ]
    },
    {
      "cell_type": "code",
      "metadata": {
        "colab": {
          "base_uri": "https://localhost:8080/",
          "height": 518
        },
        "id": "t9YAxs8Uax0u",
        "outputId": "f76acd02-113c-4ed8-db5c-def393faed3c"
      },
      "source": [
        "# Visualize the data\n",
        "plt.figure(figsize=(16,8))\n",
        "plt.title('KNN: DIS')\n",
        "plt.xlabel('Date', fontsize=18)\n",
        "plt.ylabel('Close Price USD ($)', fontsize=18)\n",
        "plt.plot(train['Close'])\n",
        "plt.plot(valid[['Close', 'Predictions']])\n",
        "plt.legend(['Train', 'Val', 'Predictions'], loc='lower right')\n",
        "plt.show()"
      ],
      "execution_count": 15,
      "outputs": [
        {
          "output_type": "display_data",
          "data": {
            "image/png": "[encoded data removed]",
            "text/plain": [
              "<Figure size 1152x576 with 1 Axes>"
            ]
          },
          "metadata": {
            "tags": [],
            "needs_background": "light"
          }
        }
      ]
    },
    {
      "cell_type": "markdown",
      "metadata": {
        "id": "VPDemaYzb4jR"
      },
      "source": [
        "<font color=\"green\">**K-Nearest Neighbor model for stock prediction using stock data and semantic scores**</font>"
      ]
    },
    {
      "cell_type": "markdown",
      "metadata": {
        "id": "29i9w6LGb_CK"
      },
      "source": [
        "**Get semantic scores data and preprocess**"
      ]
    },
    {
      "cell_type": "code",
      "metadata": {
        "colab": {
          "base_uri": "https://localhost:8080/",
          "height": 142
        },
        "id": "U_jasyOVcAEi",
        "outputId": "e67f6642-ee1b-4e36-e404-5a7509277f4c"
      },
      "source": [
        "#Read semantic scores data from file\n",
        "newsScores=pd.read_csv('amd-scores.csv')\n",
        "newsScores.head(3)"
      ],
      "execution_count": 16,
      "outputs": [
        {
          "output_type": "execute_result",
          "data": {
            "text/html": [
              "<div>\n",
              "<style scoped>\n",
              "    .dataframe tbody tr th:only-of-type {\n",
              "        vertical-align: middle;\n",
              "    }\n",
              "\n",
              "    .dataframe tbody tr th {\n",
              "        vertical-align: top;\n",
              "    }\n",
              "\n",
              "    .dataframe thead th {\n",
              "        text-align: right;\n",
              "    }\n",
              "</style>\n",
              "<table border=\"1\" class=\"dataframe\">\n",
              "  <thead>\n",
              "    <tr style=\"text-align: right;\">\n",
              "      <th></th>\n",
              "      <th>date</th>\n",
              "      <th>final_semantic_score</th>\n",
              "    </tr>\n",
              "  </thead>\n",
              "  <tbody>\n",
              "    <tr>\n",
              "      <th>0</th>\n",
              "      <td>2016-07-22</td>\n",
              "      <td>0.291504</td>\n",
              "    </tr>\n",
              "    <tr>\n",
              "      <th>1</th>\n",
              "      <td>2016-07-23</td>\n",
              "      <td>NaN</td>\n",
              "    </tr>\n",
              "    <tr>\n",
              "      <th>2</th>\n",
              "      <td>2016-07-24</td>\n",
              "      <td>NaN</td>\n",
              "    </tr>\n",
              "  </tbody>\n",
              "</table>\n",
              "</div>"
            ],
            "text/plain": [
              "         date  final_semantic_score\n",
              "0  2016-07-22              0.291504\n",
              "1  2016-07-23                   NaN\n",
              "2  2016-07-24                   NaN"
            ]
          },
          "metadata": {
            "tags": []
          },
          "execution_count": 16
        }
      ]
    },
    {
      "cell_type": "code",
      "metadata": {
        "colab": {
          "base_uri": "https://localhost:8080/",
          "height": 142
        },
        "id": "kfenaGZzcC9R",
        "outputId": "dadcb60b-3bd2-460f-bf62-8a1cae55536f"
      },
      "source": [
        "#Impute missing values\n",
        "newsScores=newsScores.ffill(axis=0)\n",
        "newsScores.head(3)"
      ],
      "execution_count": 17,
      "outputs": [
        {
          "output_type": "execute_result",
          "data": {
            "text/html": [
              "<div>\n",
              "<style scoped>\n",
              "    .dataframe tbody tr th:only-of-type {\n",
              "        vertical-align: middle;\n",
              "    }\n",
              "\n",
              "    .dataframe tbody tr th {\n",
              "        vertical-align: top;\n",
              "    }\n",
              "\n",
              "    .dataframe thead th {\n",
              "        text-align: right;\n",
              "    }\n",
              "</style>\n",
              "<table border=\"1\" class=\"dataframe\">\n",
              "  <thead>\n",
              "    <tr style=\"text-align: right;\">\n",
              "      <th></th>\n",
              "      <th>date</th>\n",
              "      <th>final_semantic_score</th>\n",
              "    </tr>\n",
              "  </thead>\n",
              "  <tbody>\n",
              "    <tr>\n",
              "      <th>0</th>\n",
              "      <td>2016-07-22</td>\n",
              "      <td>0.291504</td>\n",
              "    </tr>\n",
              "    <tr>\n",
              "      <th>1</th>\n",
              "      <td>2016-07-23</td>\n",
              "      <td>0.291504</td>\n",
              "    </tr>\n",
              "    <tr>\n",
              "      <th>2</th>\n",
              "      <td>2016-07-24</td>\n",
              "      <td>0.291504</td>\n",
              "    </tr>\n",
              "  </tbody>\n",
              "</table>\n",
              "</div>"
            ],
            "text/plain": [
              "         date  final_semantic_score\n",
              "0  2016-07-22              0.291504\n",
              "1  2016-07-23              0.291504\n",
              "2  2016-07-24              0.291504"
            ]
          },
          "metadata": {
            "tags": []
          },
          "execution_count": 17
        }
      ]
    },
    {
      "cell_type": "code",
      "metadata": {
        "colab": {
          "base_uri": "https://localhost:8080/",
          "height": 142
        },
        "id": "SItYhXg9cEYa",
        "outputId": "95376292-0084-43a3-9644-ff5fcd3318d4"
      },
      "source": [
        "df1=df.reset_index()\n",
        "df1.head(3)"
      ],
      "execution_count": 18,
      "outputs": [
        {
          "output_type": "execute_result",
          "data": {
            "text/html": [
              "<div>\n",
              "<style scoped>\n",
              "    .dataframe tbody tr th:only-of-type {\n",
              "        vertical-align: middle;\n",
              "    }\n",
              "\n",
              "    .dataframe tbody tr th {\n",
              "        vertical-align: top;\n",
              "    }\n",
              "\n",
              "    .dataframe thead th {\n",
              "        text-align: right;\n",
              "    }\n",
              "</style>\n",
              "<table border=\"1\" class=\"dataframe\">\n",
              "  <thead>\n",
              "    <tr style=\"text-align: right;\">\n",
              "      <th></th>\n",
              "      <th>Date</th>\n",
              "      <th>High</th>\n",
              "      <th>Low</th>\n",
              "      <th>Open</th>\n",
              "      <th>Close</th>\n",
              "      <th>Volume</th>\n",
              "      <th>Adj Close</th>\n",
              "    </tr>\n",
              "  </thead>\n",
              "  <tbody>\n",
              "    <tr>\n",
              "      <th>0</th>\n",
              "      <td>2016-07-22</td>\n",
              "      <td>5.97</td>\n",
              "      <td>5.45</td>\n",
              "      <td>5.73</td>\n",
              "      <td>5.84</td>\n",
              "      <td>101838300</td>\n",
              "      <td>5.84</td>\n",
              "    </tr>\n",
              "    <tr>\n",
              "      <th>1</th>\n",
              "      <td>2016-07-25</td>\n",
              "      <td>6.95</td>\n",
              "      <td>5.92</td>\n",
              "      <td>5.93</td>\n",
              "      <td>6.70</td>\n",
              "      <td>118328600</td>\n",
              "      <td>6.70</td>\n",
              "    </tr>\n",
              "    <tr>\n",
              "      <th>2</th>\n",
              "      <td>2016-07-26</td>\n",
              "      <td>7.16</td>\n",
              "      <td>6.71</td>\n",
              "      <td>6.76</td>\n",
              "      <td>6.98</td>\n",
              "      <td>81230600</td>\n",
              "      <td>6.98</td>\n",
              "    </tr>\n",
              "  </tbody>\n",
              "</table>\n",
              "</div>"
            ],
            "text/plain": [
              "        Date  High   Low  Open  Close     Volume  Adj Close\n",
              "0 2016-07-22  5.97  5.45  5.73   5.84  101838300       5.84\n",
              "1 2016-07-25  6.95  5.92  5.93   6.70  118328600       6.70\n",
              "2 2016-07-26  7.16  6.71  6.76   6.98   81230600       6.98"
            ]
          },
          "metadata": {
            "tags": []
          },
          "execution_count": 18
        }
      ]
    },
    {
      "cell_type": "code",
      "metadata": {
        "colab": {
          "base_uri": "https://localhost:8080/"
        },
        "id": "cwMMHM-qcF-7",
        "outputId": "2b4f7955-c8ef-459b-b1f6-c7481a560ae0"
      },
      "source": [
        "newsScores.dtypes"
      ],
      "execution_count": 19,
      "outputs": [
        {
          "output_type": "execute_result",
          "data": {
            "text/plain": [
              "date                     object\n",
              "final_semantic_score    float64\n",
              "dtype: object"
            ]
          },
          "metadata": {
            "tags": []
          },
          "execution_count": 19
        }
      ]
    },
    {
      "cell_type": "code",
      "metadata": {
        "id": "hG_kQwT_cH83"
      },
      "source": [
        "newsScores['date'] = pd.to_datetime(newsScores['date'])"
      ],
      "execution_count": 20,
      "outputs": []
    },
    {
      "cell_type": "markdown",
      "metadata": {
        "id": "Sono4kXT2TmZ"
      },
      "source": [
        "**Merge stock data with semantic scores data and visualize**"
      ]
    },
    {
      "cell_type": "code",
      "metadata": {
        "id": "PYv9nCri2RjQ",
        "colab": {
          "base_uri": "https://localhost:8080/",
          "height": 142
        },
        "outputId": "5fa88c58-a4d0-486e-db4e-af9ede17a4fb"
      },
      "source": [
        "#Merge two datasets\n",
        "merged_data = pd.merge(left=df1, right=newsScores, left_on='Date', right_on='date') #merge datasets\n",
        "merged_data.drop(['date'], axis=1,inplace=True) #remove redundant column\n",
        "merged_data.head(3)"
      ],
      "execution_count": 21,
      "outputs": [
        {
          "output_type": "execute_result",
          "data": {
            "text/html": [
              "<div>\n",
              "<style scoped>\n",
              "    .dataframe tbody tr th:only-of-type {\n",
              "        vertical-align: middle;\n",
              "    }\n",
              "\n",
              "    .dataframe tbody tr th {\n",
              "        vertical-align: top;\n",
              "    }\n",
              "\n",
              "    .dataframe thead th {\n",
              "        text-align: right;\n",
              "    }\n",
              "</style>\n",
              "<table border=\"1\" class=\"dataframe\">\n",
              "  <thead>\n",
              "    <tr style=\"text-align: right;\">\n",
              "      <th></th>\n",
              "      <th>Date</th>\n",
              "      <th>High</th>\n",
              "      <th>Low</th>\n",
              "      <th>Open</th>\n",
              "      <th>Close</th>\n",
              "      <th>Volume</th>\n",
              "      <th>Adj Close</th>\n",
              "      <th>final_semantic_score</th>\n",
              "    </tr>\n",
              "  </thead>\n",
              "  <tbody>\n",
              "    <tr>\n",
              "      <th>0</th>\n",
              "      <td>2016-07-22</td>\n",
              "      <td>5.97</td>\n",
              "      <td>5.45</td>\n",
              "      <td>5.73</td>\n",
              "      <td>5.84</td>\n",
              "      <td>101838300</td>\n",
              "      <td>5.84</td>\n",
              "      <td>0.291504</td>\n",
              "    </tr>\n",
              "    <tr>\n",
              "      <th>1</th>\n",
              "      <td>2016-07-25</td>\n",
              "      <td>6.95</td>\n",
              "      <td>5.92</td>\n",
              "      <td>5.93</td>\n",
              "      <td>6.70</td>\n",
              "      <td>118328600</td>\n",
              "      <td>6.70</td>\n",
              "      <td>0.291504</td>\n",
              "    </tr>\n",
              "    <tr>\n",
              "      <th>2</th>\n",
              "      <td>2016-07-26</td>\n",
              "      <td>7.16</td>\n",
              "      <td>6.71</td>\n",
              "      <td>6.76</td>\n",
              "      <td>6.98</td>\n",
              "      <td>81230600</td>\n",
              "      <td>6.98</td>\n",
              "      <td>0.291504</td>\n",
              "    </tr>\n",
              "  </tbody>\n",
              "</table>\n",
              "</div>"
            ],
            "text/plain": [
              "        Date  High   Low  ...     Volume  Adj Close  final_semantic_score\n",
              "0 2016-07-22  5.97  5.45  ...  101838300       5.84              0.291504\n",
              "1 2016-07-25  6.95  5.92  ...  118328600       6.70              0.291504\n",
              "2 2016-07-26  7.16  6.71  ...   81230600       6.98              0.291504\n",
              "\n",
              "[3 rows x 8 columns]"
            ]
          },
          "metadata": {
            "tags": []
          },
          "execution_count": 21
        }
      ]
    },
    {
      "cell_type": "code",
      "metadata": {
        "id": "89Z7G8NL2XL2",
        "colab": {
          "base_uri": "https://localhost:8080/",
          "height": 142
        },
        "outputId": "cd0de15e-df12-49d6-db24-026b327b3235"
      },
      "source": [
        "merged_data.set_index('Date')\n",
        "merged_data.head(3)"
      ],
      "execution_count": 22,
      "outputs": [
        {
          "output_type": "execute_result",
          "data": {
            "text/html": [
              "<div>\n",
              "<style scoped>\n",
              "    .dataframe tbody tr th:only-of-type {\n",
              "        vertical-align: middle;\n",
              "    }\n",
              "\n",
              "    .dataframe tbody tr th {\n",
              "        vertical-align: top;\n",
              "    }\n",
              "\n",
              "    .dataframe thead th {\n",
              "        text-align: right;\n",
              "    }\n",
              "</style>\n",
              "<table border=\"1\" class=\"dataframe\">\n",
              "  <thead>\n",
              "    <tr style=\"text-align: right;\">\n",
              "      <th></th>\n",
              "      <th>Date</th>\n",
              "      <th>High</th>\n",
              "      <th>Low</th>\n",
              "      <th>Open</th>\n",
              "      <th>Close</th>\n",
              "      <th>Volume</th>\n",
              "      <th>Adj Close</th>\n",
              "      <th>final_semantic_score</th>\n",
              "    </tr>\n",
              "  </thead>\n",
              "  <tbody>\n",
              "    <tr>\n",
              "      <th>0</th>\n",
              "      <td>2016-07-22</td>\n",
              "      <td>5.97</td>\n",
              "      <td>5.45</td>\n",
              "      <td>5.73</td>\n",
              "      <td>5.84</td>\n",
              "      <td>101838300</td>\n",
              "      <td>5.84</td>\n",
              "      <td>0.291504</td>\n",
              "    </tr>\n",
              "    <tr>\n",
              "      <th>1</th>\n",
              "      <td>2016-07-25</td>\n",
              "      <td>6.95</td>\n",
              "      <td>5.92</td>\n",
              "      <td>5.93</td>\n",
              "      <td>6.70</td>\n",
              "      <td>118328600</td>\n",
              "      <td>6.70</td>\n",
              "      <td>0.291504</td>\n",
              "    </tr>\n",
              "    <tr>\n",
              "      <th>2</th>\n",
              "      <td>2016-07-26</td>\n",
              "      <td>7.16</td>\n",
              "      <td>6.71</td>\n",
              "      <td>6.76</td>\n",
              "      <td>6.98</td>\n",
              "      <td>81230600</td>\n",
              "      <td>6.98</td>\n",
              "      <td>0.291504</td>\n",
              "    </tr>\n",
              "  </tbody>\n",
              "</table>\n",
              "</div>"
            ],
            "text/plain": [
              "        Date  High   Low  ...     Volume  Adj Close  final_semantic_score\n",
              "0 2016-07-22  5.97  5.45  ...  101838300       5.84              0.291504\n",
              "1 2016-07-25  6.95  5.92  ...  118328600       6.70              0.291504\n",
              "2 2016-07-26  7.16  6.71  ...   81230600       6.98              0.291504\n",
              "\n",
              "[3 rows x 8 columns]"
            ]
          },
          "metadata": {
            "tags": []
          },
          "execution_count": 22
        }
      ]
    },
    {
      "cell_type": "code",
      "metadata": {
        "id": "xu_lxv_P2e1R",
        "colab": {
          "base_uri": "https://localhost:8080/",
          "height": 518
        },
        "outputId": "abcb4ec7-3ee2-4027-a476-309376a1927a"
      },
      "source": [
        "#Visualize the closing price history\n",
        "plt.figure(figsize=(16,8))\n",
        "plt.title('Linear Regression - Close Price History')\n",
        "plt.plot(merged_data['Close'])\n",
        "plt.xlabel('Date',fontsize=18)\n",
        "plt.ylabel('Close Price USD ($)',fontsize=18)\n",
        "plt.show()"
      ],
      "execution_count": 23,
      "outputs": [
        {
          "output_type": "display_data",
          "data": {
            "image/png": "[encoded data removed]",
            "text/plain": [
              "<Figure size 1152x576 with 1 Axes>"
            ]
          },
          "metadata": {
            "tags": [],
            "needs_background": "light"
          }
        }
      ]
    },
    {
      "cell_type": "markdown",
      "metadata": {
        "id": "NVCPi4922uSE"
      },
      "source": [
        "**Preprocess merged data and split into train-test datasets**"
      ]
    },
    {
      "cell_type": "code",
      "metadata": {
        "id": "vdgSvuCg2r5b"
      },
      "source": [
        "#Create a new dataframe with only the 'Close' column\n",
        "data = merged_data.filter(['Close', 'Open','final_semantic_score'])\n",
        "#Converting the dataframe to a numpy array\n",
        "dataset = data.values\n",
        "#Get /Compute the number of rows to train the model on\n",
        "training_data_len = math.ceil( len(dataset) *.8)"
      ],
      "execution_count": 24,
      "outputs": []
    },
    {
      "cell_type": "code",
      "metadata": {
        "id": "n7nH1R5D2x1a"
      },
      "source": [
        "#Scale the all of the data to be values between 0 and 1 \n",
        "scaler = MinMaxScaler(feature_range=(0, 1)) \n",
        "scaled_data = scaler.fit_transform(dataset)"
      ],
      "execution_count": 25,
      "outputs": []
    },
    {
      "cell_type": "code",
      "metadata": {
        "id": "_IHfCr5N2ztg"
      },
      "source": [
        "#Create the scaled training data set \n",
        "train_data = scaled_data[0:training_data_len  , : ]\n",
        "#Split the data into x_train and y_train data sets\n",
        "x_train=[]\n",
        "y_train = []\n",
        "for i in range(60,len(train_data)):\n",
        "  x_train.append(train_data[i-60:i,:])\n",
        "  y_train.append(dataset[i,0])"
      ],
      "execution_count": 26,
      "outputs": []
    },
    {
      "cell_type": "code",
      "metadata": {
        "id": "5Fb-tDTT22HR"
      },
      "source": [
        "#Convert x_train and y_train to numpy arrays\n",
        "x_train, y_train = np.array(x_train), np.array(y_train)"
      ],
      "execution_count": 27,
      "outputs": []
    },
    {
      "cell_type": "code",
      "metadata": {
        "id": "19ywGYru23v5"
      },
      "source": [
        "#Test data set\n",
        "test_data = scaled_data[training_data_len - 60: , : ]\n",
        "\n",
        "#Create the x_test and y_test data sets\n",
        "x_test = []\n",
        "y_test =  df['Close'][training_data_len :]\n",
        "# y_test =  dataset[training_data_len : , : ] \n",
        "for i in range(60,len(test_data)):\n",
        "  x_test.append(test_data[i-60:i,:])\n",
        "\n",
        "#Convert x_test to a numpy array \n",
        "x_test = np.array(x_test)"
      ],
      "execution_count": 28,
      "outputs": []
    },
    {
      "cell_type": "code",
      "metadata": {
        "id": "16rLgplC253U"
      },
      "source": [
        "#Convert x_test to a numpy array \n",
        "x_test = np.array(x_test)"
      ],
      "execution_count": 29,
      "outputs": []
    },
    {
      "cell_type": "markdown",
      "metadata": {
        "id": "vSwmzErU29em"
      },
      "source": [
        "**KNN: Build model and train using the training datat**"
      ]
    },
    {
      "cell_type": "code",
      "metadata": {
        "colab": {
          "base_uri": "https://localhost:8080/"
        },
        "id": "rzHSFBggazs2",
        "outputId": "cc55ee1b-cf2a-4866-fd12-99fa827801a4"
      },
      "source": [
        "#using gridsearch to find the best parameter\n",
        "params = {'n_neighbors':[1,2,3,4,5]}\n",
        "knn = neighbors.KNeighborsRegressor(n_neighbors=5)  ## Neighbors with size 1,5,20 is tested with 5 as the optimal performer\n",
        "model = GridSearchCV(knn, params, cv=10)\n",
        "\n",
        "nsamples, nx, ny = x_train.shape\n",
        "x_train = x_train.reshape((nsamples,nx*ny))\n",
        "\n",
        "#fit the model on training data\n",
        "model.fit(x_train,y_train)"
      ],
      "execution_count": 30,
      "outputs": [
        {
          "output_type": "execute_result",
          "data": {
            "text/plain": [
              "GridSearchCV(cv=10, error_score=nan,\n",
              "             estimator=KNeighborsRegressor(algorithm='auto', leaf_size=30,\n",
              "                                           metric='minkowski',\n",
              "                                           metric_params=None, n_jobs=None,\n",
              "                                           n_neighbors=5, p=2,\n",
              "                                           weights='uniform'),\n",
              "             iid='deprecated', n_jobs=None,\n",
              "             param_grid={'n_neighbors': [1, 2, 3, 4, 5]},\n",
              "             pre_dispatch='2*n_jobs', refit=True, return_train_score=False,\n",
              "             scoring=None, verbose=0)"
            ]
          },
          "metadata": {
            "tags": []
          },
          "execution_count": 30
        }
      ]
    },
    {
      "cell_type": "markdown",
      "metadata": {
        "id": "TKLYoO4UGiQ5"
      },
      "source": [
        "**Predict on testing data and visualize predictions**"
      ]
    },
    {
      "cell_type": "code",
      "metadata": {
        "id": "HX8_FMq3a3IL"
      },
      "source": [
        "nsamples_test, nx_test, ny_test = x_test.shape\n",
        "x_test = x_test.reshape((nsamples_test,nx_test*ny_test))"
      ],
      "execution_count": 31,
      "outputs": []
    },
    {
      "cell_type": "code",
      "metadata": {
        "colab": {
          "base_uri": "https://localhost:8080/"
        },
        "id": "xxCh1O0Na4jR",
        "outputId": "36322ac2-5217-487a-b29b-9743240c2d24"
      },
      "source": [
        "preds = model.predict(x_test)\n",
        "preds = preds.reshape(-1,1)\n",
        "# preds = scaler.inverse_transform(preds)#Undo scaling\n",
        "\n",
        "rms=np.sqrt(np.mean(np.power((np.array(y_test)-np.array(preds)),2)))\n",
        "print(\"RMS: \",rms)"
      ],
      "execution_count": 32,
      "outputs": [
        {
          "output_type": "stream",
          "text": [
            "RMS:  14.568507238951515\n"
          ],
          "name": "stdout"
        }
      ]
    },
    {
      "cell_type": "code",
      "metadata": {
        "colab": {
          "base_uri": "https://localhost:8080/"
        },
        "id": "hgv5PXTja5CE",
        "outputId": "7de5772c-63cb-4ced-94d7-356c07950ff1"
      },
      "source": [
        "#Create the data for the graph\n",
        "train = data[:training_data_len]\n",
        "valid = data[training_data_len:]\n",
        "valid['Predictions'] = preds"
      ],
      "execution_count": 33,
      "outputs": [
        {
          "output_type": "stream",
          "text": [
            "/usr/local/lib/python3.6/dist-packages/ipykernel_launcher.py:4: SettingWithCopyWarning: \n",
            "A value is trying to be set on a copy of a slice from a DataFrame.\n",
            "Try using .loc[row_indexer,col_indexer] = value instead\n",
            "\n",
            "See the caveats in the documentation: https://pandas.pydata.org/pandas-docs/stable/user_guide/indexing.html#returning-a-view-versus-a-copy\n",
            "  after removing the cwd from sys.path.\n"
          ],
          "name": "stderr"
        }
      ]
    },
    {
      "cell_type": "code",
      "metadata": {
        "colab": {
          "base_uri": "https://localhost:8080/",
          "height": 518
        },
        "id": "Hxd2UvLka65l",
        "outputId": "8c03854f-c7a9-45fa-f16e-3601668f7905"
      },
      "source": [
        "# Visualize the data\n",
        "plt.figure(figsize=(16,8))\n",
        "plt.title('KNN: DIS')\n",
        "plt.xlabel('Date', fontsize=18)\n",
        "plt.ylabel('Close Price USD ($)', fontsize=18)\n",
        "plt.plot(train['Close'])\n",
        "plt.plot(valid[['Close', 'Predictions']])\n",
        "plt.legend(['Train', 'Val', 'Predictions'], loc='lower right')\n",
        "plt.show()"
      ],
      "execution_count": 34,
      "outputs": [
        {
          "output_type": "display_data",
          "data": {
            "image/png": "[encoded data removed]",
            "text/plain": [
              "<Figure size 1152x576 with 1 Axes>"
            ]
          },
          "metadata": {
            "tags": [],
            "needs_background": "light"
          }
        }
      ]
    }
  ]
}