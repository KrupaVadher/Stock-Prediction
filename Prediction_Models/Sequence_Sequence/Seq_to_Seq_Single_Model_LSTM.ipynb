{
  "nbformat": 4,
  "nbformat_minor": 0,
  "metadata": {
    "colab": {
      "name": "Seq_to_Seq_Single_Model_LSTM.ipynb",
      "provenance": [],
      "collapsed_sections": []
    },
    "kernelspec": {
      "display_name": "Python 3",
      "language": "python",
      "name": "python3"
    },
    "language_info": {
      "codemirror_mode": {
        "name": "ipython",
        "version": 3
      },
      "file_extension": ".py",
      "mimetype": "text/x-python",
      "name": "python",
      "nbconvert_exporter": "python",
      "pygments_lexer": "ipython3",
      "version": "3.7.1"
    }
  },
  "cells": [
    {
      "cell_type": "markdown",
      "metadata": {
        "id": "8XG0PdJ80rnR"
      },
      "source": [
        "<font color=\"green\">**Generate a single sequence to sequence model for the entire predictions. The model predicts the first 15 days of the test data. Then using the actual 15 day prices, predicts the next 15 days. This process continues till all the test values are predicted.**</font>"
      ]
    },
    {
      "cell_type": "code",
      "metadata": {
        "id": "VnPiBg4O_Rxv"
      },
      "source": [
        "import numpy as np\n",
        "from random import randint\n",
        "from numpy import array\n",
        "from numpy import argmax\n",
        "from numpy import array_equal\n",
        "from keras.utils import to_categorical\n",
        "from keras.models import Model\n",
        "from keras.layers import Input\n",
        "from keras.layers import LSTM\n",
        "from keras.layers import Dense\n",
        "import pandas_datareader as web\n",
        "import keras\n",
        "from matplotlib import pyplot as plt\n",
        "import matplotlib.pyplot as plt\n",
        "from sklearn.metrics import mean_squared_error\n",
        "from sklearn.metrics import mean_absolute_error"
      ],
      "execution_count": 1,
      "outputs": []
    },
    {
      "cell_type": "markdown",
      "metadata": {
        "id": "eRnighf5xcT1"
      },
      "source": [
        "**Get stock data**"
      ]
    },
    {
      "cell_type": "code",
      "metadata": {
        "colab": {
          "base_uri": "https://localhost:8080/",
          "height": 225
        },
        "id": "QcZy4VU9X9Kc",
        "outputId": "1841b615-2f42-4237-84e0-70864674a851"
      },
      "source": [
        "#Get the stock quote \n",
        "df = web.DataReader('AAPL', data_source='yahoo', start='2015-01-01', end='2020-09-02') \n",
        "#Show the data \n",
        "df.head(5)"
      ],
      "execution_count": 2,
      "outputs": [
        {
          "output_type": "execute_result",
          "data": {
            "text/html": [
              "<div>\n",
              "<style scoped>\n",
              "    .dataframe tbody tr th:only-of-type {\n",
              "        vertical-align: middle;\n",
              "    }\n",
              "\n",
              "    .dataframe tbody tr th {\n",
              "        vertical-align: top;\n",
              "    }\n",
              "\n",
              "    .dataframe thead th {\n",
              "        text-align: right;\n",
              "    }\n",
              "</style>\n",
              "<table border=\"1\" class=\"dataframe\">\n",
              "  <thead>\n",
              "    <tr style=\"text-align: right;\">\n",
              "      <th></th>\n",
              "      <th>High</th>\n",
              "      <th>Low</th>\n",
              "      <th>Open</th>\n",
              "      <th>Close</th>\n",
              "      <th>Volume</th>\n",
              "      <th>Adj Close</th>\n",
              "    </tr>\n",
              "    <tr>\n",
              "      <th>Date</th>\n",
              "      <th></th>\n",
              "      <th></th>\n",
              "      <th></th>\n",
              "      <th></th>\n",
              "      <th></th>\n",
              "      <th></th>\n",
              "    </tr>\n",
              "  </thead>\n",
              "  <tbody>\n",
              "    <tr>\n",
              "      <th>2015-01-02</th>\n",
              "      <td>27.860001</td>\n",
              "      <td>26.837500</td>\n",
              "      <td>27.847500</td>\n",
              "      <td>27.332500</td>\n",
              "      <td>212818400.0</td>\n",
              "      <td>24.696352</td>\n",
              "    </tr>\n",
              "    <tr>\n",
              "      <th>2015-01-05</th>\n",
              "      <td>27.162500</td>\n",
              "      <td>26.352501</td>\n",
              "      <td>27.072500</td>\n",
              "      <td>26.562500</td>\n",
              "      <td>257142000.0</td>\n",
              "      <td>24.000614</td>\n",
              "    </tr>\n",
              "    <tr>\n",
              "      <th>2015-01-06</th>\n",
              "      <td>26.857500</td>\n",
              "      <td>26.157499</td>\n",
              "      <td>26.635000</td>\n",
              "      <td>26.565001</td>\n",
              "      <td>263188400.0</td>\n",
              "      <td>24.002876</td>\n",
              "    </tr>\n",
              "    <tr>\n",
              "      <th>2015-01-07</th>\n",
              "      <td>27.049999</td>\n",
              "      <td>26.674999</td>\n",
              "      <td>26.799999</td>\n",
              "      <td>26.937500</td>\n",
              "      <td>160423600.0</td>\n",
              "      <td>24.339447</td>\n",
              "    </tr>\n",
              "    <tr>\n",
              "      <th>2015-01-08</th>\n",
              "      <td>28.037500</td>\n",
              "      <td>27.174999</td>\n",
              "      <td>27.307501</td>\n",
              "      <td>27.972500</td>\n",
              "      <td>237458000.0</td>\n",
              "      <td>25.274624</td>\n",
              "    </tr>\n",
              "  </tbody>\n",
              "</table>\n",
              "</div>"
            ],
            "text/plain": [
              "                 High        Low       Open      Close       Volume  Adj Close\n",
              "Date                                                                          \n",
              "2015-01-02  27.860001  26.837500  27.847500  27.332500  212818400.0  24.696352\n",
              "2015-01-05  27.162500  26.352501  27.072500  26.562500  257142000.0  24.000614\n",
              "2015-01-06  26.857500  26.157499  26.635000  26.565001  263188400.0  24.002876\n",
              "2015-01-07  27.049999  26.674999  26.799999  26.937500  160423600.0  24.339447\n",
              "2015-01-08  28.037500  27.174999  27.307501  27.972500  237458000.0  25.274624"
            ]
          },
          "metadata": {
            "tags": []
          },
          "execution_count": 2
        }
      ]
    },
    {
      "cell_type": "markdown",
      "metadata": {
        "id": "J-rLtYLTxcT1"
      },
      "source": [
        "**Train test data split and generate batches of 15 day prices. This is because a sequence to sequence model uses 15 day window to predict next 15 day prices.**"
      ]
    },
    {
      "cell_type": "code",
      "metadata": {
        "id": "SId6KSI8btd8"
      },
      "source": [
        "train_data_df, test_data_df = df[0:int(len(df)*0.8)], df[int(len(df)*0.8):]\n",
        "train_data = train_data_df['Close'].values\n",
        "test_data = test_data_df['Close'].values"
      ],
      "execution_count": 3,
      "outputs": []
    },
    {
      "cell_type": "code",
      "metadata": {
        "id": "X_6WesaobxhY"
      },
      "source": [
        "trainlist = train_data.tolist()\n",
        "decoder_input = []\n",
        "x_train = []\n",
        "y_train = []\n",
        "for i in range(15,len(trainlist)-15):\n",
        "  decoder_input.append(15*[0])\n",
        "  x_train.append(trainlist[i-15:i])\n",
        "  y_train.append(trainlist[i:i+15])"
      ],
      "execution_count": 4,
      "outputs": []
    },
    {
      "cell_type": "code",
      "metadata": {
        "id": "lF6_syFZb1dx"
      },
      "source": [
        "#Convert x_train and y_train to numpy arrays\n",
        "x_train, y_train = np.array(x_train), np.array(y_train)\n",
        "decoder_input = np.array(decoder_input)"
      ],
      "execution_count": 5,
      "outputs": []
    },
    {
      "cell_type": "code",
      "metadata": {
        "id": "wI_3v_ipd6lS"
      },
      "source": [
        "testlist = test_data.tolist()\n",
        "decoder_input_test = []\n",
        "x_test = [trainlist[-15:]]\n",
        "y_test = [testlist[:15]]\n",
        "decoder_input_test.append(15*[0])\n",
        "for i in range(15,len(testlist)-15,15):\n",
        "  decoder_input_test.append(15*[0])\n",
        "  x_test.append(testlist[i-15:i])\n",
        "  y_test.append(testlist[i:i+15])"
      ],
      "execution_count": 6,
      "outputs": []
    },
    {
      "cell_type": "code",
      "metadata": {
        "id": "1inHCNOkeNss"
      },
      "source": [
        "#Convert x_train and y_train to numpy arrays\n",
        "x_test, y_test = np.array(x_test), np.array(y_test)\n",
        "decoder_input_test = np.array(decoder_input_test)"
      ],
      "execution_count": 7,
      "outputs": []
    },
    {
      "cell_type": "code",
      "metadata": {
        "colab": {
          "base_uri": "https://localhost:8080/"
        },
        "id": "Lo9_ayG1j84P",
        "outputId": "13e0dd3c-d4f0-46d7-aa74-c669a65723e5"
      },
      "source": [
        "print(x_train.shape)"
      ],
      "execution_count": 8,
      "outputs": [
        {
          "output_type": "stream",
          "text": [
            "(1112, 15)\n"
          ],
          "name": "stdout"
        }
      ]
    },
    {
      "cell_type": "markdown",
      "metadata": {
        "id": "uMVFjdjPxcT1"
      },
      "source": [
        "**Initialize hyperparameters**"
      ]
    },
    {
      "cell_type": "code",
      "metadata": {
        "id": "2pTtZVOjDXwE"
      },
      "source": [
        "keras.backend.clear_session()\n",
        "\n",
        "layers = [35, 35] # Number of hidden neuros in each layer of the encoder and decoder\n",
        "\n",
        "learning_rate = 0.01\n",
        "decay = 0 # Learning rate decay\n",
        "optimiser = keras.optimizers.Adam(lr=learning_rate, decay=decay) # Other possible optimiser \"sgd\" (Stochastic Gradient Descent)\n",
        "\n",
        "num_input_features = 1 # The dimensionality of the input at each time step. In this case a 1D signal.\n",
        "num_output_features = 1 # The dimensionality of the output at each time step. In this case a 1D signal.\n",
        "# There is no reason for the input sequence to be of same dimension as the ouput sequence.\n",
        "# For instance, using 3 input signals: consumer confidence, inflation and house prices to predict the future house prices.\n",
        "\n",
        "loss = \"mse\" # Other loss functions are possible, see Keras documentation.\n",
        "\n",
        "# Regularisation isn't really needed for this application\n",
        "lambda_regulariser = 0.000001 # Will not be used if regulariser is None\n",
        "regulariser = None # Possible regulariser: keras.regularizers.l2(lambda_regulariser)\n",
        "\n",
        "batch_size = 15\n",
        "steps_per_epoch = 200 # batch_size * steps_per_epoch = total number of training examples\n",
        "epochs = 15\n",
        "\n",
        "input_sequence_length = 15 # Length of the sequence used by the encoder\n",
        "target_sequence_length = 15 # Length of the sequence predicted by the decoder\n",
        "num_steps_to_predict = 20 # Length to use when testing the model\n",
        "\n",
        "num_signals = 2 # The number of random sine waves the compose the signal. The more sine waves, the harder the problem."
      ],
      "execution_count": 9,
      "outputs": []
    },
    {
      "cell_type": "markdown",
      "metadata": {
        "id": "YCW62E5VxcT1"
      },
      "source": [
        "**Model Encoder neural network using LSTM**"
      ]
    },
    {
      "cell_type": "code",
      "metadata": {
        "colab": {
          "base_uri": "https://localhost:8080/"
        },
        "id": "uDbgRhgkDl3s",
        "outputId": "32c98cf1-b0c7-48d9-e377-17727ac9db1c"
      },
      "source": [
        "# Define an input sequence.\n",
        "encoder_inputs = keras.layers.Input(shape=(None, num_input_features))\n",
        "\n",
        "# Create a list of RNN Cells, these are then concatenated into a single layer\n",
        "# with the RNN layer.\n",
        "encoder_cells = []\n",
        "for hidden_neurons in layers:\n",
        "    \"\"\"encoder_cells.append(keras.layers.GRUCell(hidden_neurons,\n",
        "                                              kernel_regularizer=regulariser,\n",
        "                                              recurrent_regularizer=regulariser,\n",
        "                                              bias_regularizer=regulariser))\"\"\"\n",
        "    encoder_cells.append(keras.layers.LSTMCell(hidden_neurons,\n",
        "                                              kernel_regularizer=regulariser,\n",
        "                                              recurrent_regularizer=regulariser,\n",
        "                                              bias_regularizer=regulariser))\n",
        "print(encoder_cells[0])\n",
        "encoder = keras.layers.RNN(encoder_cells, return_state=True)\n",
        "#encoder = keras.layers.LSTM(encoder_cells, return_state=True)\n",
        "\n",
        "encoder_outputs_and_states = encoder(encoder_inputs)\n",
        "\n",
        "# Discard encoder outputs and only keep the states.\n",
        "# The outputs are of no interest to us, the encoder's\n",
        "# job is to create a state describing the input sequence.\n",
        "encoder_states = encoder_outputs_and_states[1:]"
      ],
      "execution_count": 10,
      "outputs": [
        {
          "output_type": "stream",
          "text": [
            "<tensorflow.python.keras.layers.recurrent_v2.LSTMCell object at 0x7f248fde9f60>\n"
          ],
          "name": "stdout"
        }
      ]
    },
    {
      "cell_type": "markdown",
      "metadata": {
        "id": "0necRDHxxcT1"
      },
      "source": [
        "**Model Decoder neural network using LSTM**"
      ]
    },
    {
      "cell_type": "code",
      "metadata": {
        "id": "7nb8fLegDppi"
      },
      "source": [
        "# The decoder input will be set to zero (see random_sine function of the utils module).\n",
        "# Do not worry about the input size being 1, I will explain that in the next cell.\n",
        "decoder_inputs = keras.layers.Input(shape=(None, 1))\n",
        "\n",
        "decoder_cells = []\n",
        "for hidden_neurons in layers:\n",
        "    \"\"\"decoder_cells.append(keras.layers.GRUCell(hidden_neurons,\n",
        "                                              kernel_regularizer=regulariser,\n",
        "                                              recurrent_regularizer=regulariser,\n",
        "                                              bias_regularizer=regulariser))\"\"\"\n",
        "    decoder_cells.append(keras.layers.LSTMCell(hidden_neurons,\n",
        "                                              kernel_regularizer=regulariser,\n",
        "                                              recurrent_regularizer=regulariser,\n",
        "                                              bias_regularizer=regulariser))\n",
        "\n",
        "decoder = keras.layers.RNN(decoder_cells, return_sequences=True, return_state=True)\n",
        "#decoder = keras.layers.LSTM(decoder_cells, return_sequences=True, return_state=True)\n",
        "\n",
        "# Set the initial state of the decoder to be the ouput state of the encoder.\n",
        "# This is the fundamental part of the encoder-decoder.\n",
        "decoder_outputs_and_states = decoder(decoder_inputs, initial_state=encoder_states)\n",
        "\n",
        "# Only select the output of the decoder (not the states)\n",
        "decoder_outputs = decoder_outputs_and_states[0]\n",
        "\n",
        "# Apply a dense layer with linear activation to set output to correct dimension\n",
        "# and scale (tanh is default activation for GRU in Keras, our output sine function can be larger then 1)\n",
        "decoder_dense = keras.layers.Dense(num_output_features,\n",
        "                                   activation='linear',\n",
        "                                   kernel_regularizer=regulariser,\n",
        "                                   bias_regularizer=regulariser)\n",
        "\n",
        "decoder_outputs = decoder_dense(decoder_outputs)"
      ],
      "execution_count": 11,
      "outputs": []
    },
    {
      "cell_type": "markdown",
      "metadata": {
        "id": "29lhKGimxcT1"
      },
      "source": [
        "**Generate Model**"
      ]
    },
    {
      "cell_type": "code",
      "metadata": {
        "id": "xQO7DMymD-6-"
      },
      "source": [
        "\n",
        "# Create a model using the functional API provided by Keras.\n",
        "# The functional API is great, it gives an amazing amount of freedom in architecture of your NN.\n",
        "# A read worth your time: https://keras.io/getting-started/functional-api-guide/ \n",
        "model = keras.models.Model(inputs=[encoder_inputs, decoder_inputs], outputs=decoder_outputs)\n",
        "model.compile(optimizer=optimiser, loss=loss)"
      ],
      "execution_count": 12,
      "outputs": []
    },
    {
      "cell_type": "markdown",
      "metadata": {
        "id": "EGKAVp5YxcT2"
      },
      "source": [
        "**Train Model**"
      ]
    },
    {
      "cell_type": "code",
      "metadata": {
        "colab": {
          "base_uri": "https://localhost:8080/"
        },
        "id": "kZdJErgxcCjw",
        "outputId": "9a8e7720-b7fc-4977-8622-2f0c315675e9"
      },
      "source": [
        "model.fit([x_train,decoder_input],y_train, steps_per_epoch=steps_per_epoch, epochs=epochs)"
      ],
      "execution_count": 13,
      "outputs": [
        {
          "output_type": "stream",
          "text": [
            "Epoch 1/15\n",
            "200/200 [==============================] - 3s 17ms/step - loss: 215.8395\n",
            "Epoch 2/15\n",
            "200/200 [==============================] - 3s 17ms/step - loss: 83.1314\n",
            "Epoch 3/15\n",
            "200/200 [==============================] - 3s 17ms/step - loss: 78.9653\n",
            "Epoch 4/15\n",
            "200/200 [==============================] - 3s 17ms/step - loss: 85.3553\n",
            "Epoch 5/15\n",
            "200/200 [==============================] - 3s 17ms/step - loss: 78.8016\n",
            "Epoch 6/15\n",
            "200/200 [==============================] - 3s 17ms/step - loss: 82.1004\n",
            "Epoch 7/15\n",
            "200/200 [==============================] - 3s 17ms/step - loss: 83.2313\n",
            "Epoch 8/15\n",
            "200/200 [==============================] - 3s 17ms/step - loss: 82.7362\n",
            "Epoch 9/15\n",
            "200/200 [==============================] - 3s 17ms/step - loss: 80.1051\n",
            "Epoch 10/15\n",
            "200/200 [==============================] - 3s 17ms/step - loss: 27.6203\n",
            "Epoch 11/15\n",
            "200/200 [==============================] - 3s 17ms/step - loss: 26.4007\n",
            "Epoch 12/15\n",
            "200/200 [==============================] - 3s 17ms/step - loss: 22.3694\n",
            "Epoch 13/15\n",
            "200/200 [==============================] - 3s 17ms/step - loss: 20.1257\n",
            "Epoch 14/15\n",
            "190/200 [===========================>..] - ETA: 0s - loss: 16.0086WARNING:tensorflow:Your input ran out of data; interrupting training. Make sure that your dataset or generator can generate at least `steps_per_epoch * epochs` batches (in this case, 3000 batches). You may need to use the repeat() function when building your dataset.\n",
            "190/200 [===========================>..] - 3s 17ms/step - loss: 16.0086\n"
          ],
          "name": "stdout"
        },
        {
          "output_type": "execute_result",
          "data": {
            "text/plain": [
              "<tensorflow.python.keras.callbacks.History at 0x7f248feda780>"
            ]
          },
          "metadata": {
            "tags": []
          },
          "execution_count": 13
        }
      ]
    },
    {
      "cell_type": "markdown",
      "metadata": {
        "id": "gLdoWN4IxcT2"
      },
      "source": [
        "**Generate first 15 day predictions and visualize them**"
      ]
    },
    {
      "cell_type": "code",
      "metadata": {
        "id": "ldE7dgixhHnO"
      },
      "source": [
        "new_x_test = np.array([y_train[-1]])\n",
        "new_decoded = np.array([15*[0]])\n",
        "y_test_predicted = model.predict([new_x_test,new_decoded])"
      ],
      "execution_count": 14,
      "outputs": []
    },
    {
      "cell_type": "code",
      "metadata": {
        "colab": {
          "base_uri": "https://localhost:8080/"
        },
        "id": "hdHc6JLvlZML",
        "outputId": "da6c48bc-2d81-4ca9-a896-eb88a2387b86"
      },
      "source": [
        "print(new_x_test.shape,new_decoded.shape)"
      ],
      "execution_count": 15,
      "outputs": [
        {
          "output_type": "stream",
          "text": [
            "(1, 15) (1, 15)\n"
          ],
          "name": "stdout"
        }
      ]
    },
    {
      "cell_type": "code",
      "metadata": {
        "colab": {
          "base_uri": "https://localhost:8080/"
        },
        "id": "U8RNbt7pfu_M",
        "outputId": "de83b5bc-973b-4807-be3f-b052f1b2aaab"
      },
      "source": [
        "print(y_test_predicted[0])"
      ],
      "execution_count": 16,
      "outputs": [
        {
          "output_type": "stream",
          "text": [
            "[[44.01272 ]\n",
            " [45.414314]\n",
            " [45.34811 ]\n",
            " [45.33058 ]\n",
            " [45.334698]\n",
            " [45.35222 ]\n",
            " [45.364147]\n",
            " [45.36886 ]\n",
            " [45.370834]\n",
            " [45.37181 ]\n",
            " [45.372375]\n",
            " [45.373043]\n",
            " [45.375   ]\n",
            " [45.38351 ]\n",
            " [45.41939 ]]\n"
          ],
          "name": "stdout"
        }
      ]
    },
    {
      "cell_type": "code",
      "metadata": {
        "colab": {
          "base_uri": "https://localhost:8080/"
        },
        "id": "rxDZqiGuiJD4",
        "outputId": "bb84fb25-5147-4ec4-8069-9e100c2a37fb"
      },
      "source": [
        "print(x_test[0])"
      ],
      "execution_count": 17,
      "outputs": [
        {
          "output_type": "stream",
          "text": [
            "[49.95000076 49.93500137 49.47999954 50.38750076 50.68249893 51.10250092\n",
            " 51.05749893 50.00500107 50.31000137 50.80749893 50.4375     50.82500076\n",
            " 51.30250168 51.125      50.83750153]\n"
          ],
          "name": "stdout"
        }
      ]
    },
    {
      "cell_type": "code",
      "metadata": {
        "colab": {
          "base_uri": "https://localhost:8080/",
          "height": 514
        },
        "id": "yf14g4fhfBRq",
        "outputId": "17be0874-faf3-4d36-cdab-654a498d6ad5"
      },
      "source": [
        "plt.figure(figsize=(16,8))\n",
        "#plt.plot(train_data['Close'], label='Training Data')\n",
        "#plt.plot(df['Close'], label='Training Data')\n",
        "#print(test_data.index)\n",
        "plt.plot(test_data_df.index[:15], y_test_predicted[0], color='green', label='Predicted Price')\n",
        "plt.plot(test_data_df.index[:15], x_test[0], color='red', label='Actual Price')\n",
        "plt.xlabel('Dates')\n",
        "plt.ylabel('Prices')\n",
        "plt.legend()"
      ],
      "execution_count": 18,
      "outputs": [
        {
          "output_type": "execute_result",
          "data": {
            "text/plain": [
              "<matplotlib.legend.Legend at 0x7f24853cfe10>"
            ]
          },
          "metadata": {
            "tags": []
          },
          "execution_count": 18
        },
        {
          "output_type": "display_data",
          "data": {
            "image/png": "[encoded data removed]",
            "text/plain": [
              "<Figure size 1152x576 with 1 Axes>"
            ]
          },
          "metadata": {
            "tags": [],
            "needs_background": "light"
          }
        }
      ]
    },
    {
      "cell_type": "markdown",
      "metadata": {
        "id": "FJTFdMcwxcT2"
      },
      "source": [
        "**Calculate Error**"
      ]
    },
    {
      "cell_type": "code",
      "metadata": {
        "id": "G6RLYmx9tCte"
      },
      "source": [
        "def mean_absolute_percentage_error(y_true, y_pred): \n",
        "    y_true, y_pred = np.array(y_true), np.array(y_pred)\n",
        "    return np.mean(np.abs((y_true - y_pred) / y_true)) * 100"
      ],
      "execution_count": 19,
      "outputs": []
    },
    {
      "cell_type": "code",
      "metadata": {
        "colab": {
          "base_uri": "https://localhost:8080/"
        },
        "id": "_8_Os7JXtG_7",
        "outputId": "38213b74-ed3b-4e6d-abd5-838a9354e5e5"
      },
      "source": [
        "error = mean_absolute_percentage_error(x_test[0], y_test_predicted[0])\n",
        "print(error)"
      ],
      "execution_count": 20,
      "outputs": [
        {
          "output_type": "stream",
          "text": [
            "10.416497354756258\n"
          ],
          "name": "stdout"
        }
      ]
    },
    {
      "cell_type": "code",
      "metadata": {
        "colab": {
          "base_uri": "https://localhost:8080/"
        },
        "id": "a49pkSOYulUE",
        "outputId": "c436edc5-c649-45a1-b212-2fd38bc550f5"
      },
      "source": [
        "error = mean_squared_error(x_test[0], y_test_predicted[0])\n",
        "#error = mean_absolute_error(x_test[0], y_test_predicted[0])\n",
        "print(error)"
      ],
      "execution_count": 21,
      "outputs": [
        {
          "output_type": "stream",
          "text": [
            "28.045531328966415\n"
          ],
          "name": "stdout"
        }
      ]
    },
    {
      "cell_type": "code",
      "metadata": {
        "colab": {
          "base_uri": "https://localhost:8080/"
        },
        "id": "k13XoXbrgnQy",
        "outputId": "6c169b2a-481d-4d61-cb70-52a33f0f72b5"
      },
      "source": [
        "new_test = []\n",
        "i = 15\n",
        "sp = 100\n",
        "while i:\n",
        "  new_test.append(sp)\n",
        "  sp+=1\n",
        "  i-=1\n",
        "print(new_test)\n",
        "new_x_test = np.array([new_test])\n",
        "new_decoded = np.array([15*[0]])\n",
        "new_pred = model.predict([new_x_test,new_decoded])\n",
        "print(new_pred)"
      ],
      "execution_count": 22,
      "outputs": [
        {
          "output_type": "stream",
          "text": [
            "[100, 101, 102, 103, 104, 105, 106, 107, 108, 109, 110, 111, 112, 113, 114]\n",
            "[[[43.474495]\n",
            "  [44.98653 ]\n",
            "  [45.01887 ]\n",
            "  [45.022133]\n",
            "  [45.025707]\n",
            "  [45.04045 ]\n",
            "  [45.051773]\n",
            "  [45.056488]\n",
            "  [45.058594]\n",
            "  [45.060223]\n",
            "  [45.06392 ]\n",
            "  [45.079464]\n",
            "  [45.139412]\n",
            "  [45.261135]\n",
            "  [45.31561 ]]]\n"
          ],
          "name": "stdout"
        }
      ]
    },
    {
      "cell_type": "markdown",
      "metadata": {
        "id": "g8wth2EbxcT2"
      },
      "source": [
        "**Generate predictions for the complete test data**"
      ]
    },
    {
      "cell_type": "code",
      "metadata": {
        "colab": {
          "base_uri": "https://localhost:8080/"
        },
        "id": "bRFLw0P7jnzd",
        "outputId": "54edb912-773c-41e7-a46e-5179473d98f0"
      },
      "source": [
        "y_test_predicted = []\n",
        "for window in x_test:\n",
        "  new_x_test = np.array([window])\n",
        "  cur_predicted = model.predict([new_x_test,new_decoded])\n",
        "  cur_predicted = cur_predicted.tolist()\n",
        "  #print(cur_predicted)\n",
        "  for stock in cur_predicted[0]:\n",
        "    y_test_predicted.append(stock[0])\n",
        "print(y_test_predicted)"
      ],
      "execution_count": 23,
      "outputs": [
        {
          "output_type": "stream",
          "text": [
            "[44.01287841796875, 45.41505432128906, 45.34894561767578, 45.33143615722656, 45.33556365966797, 45.35309600830078, 45.365020751953125, 45.369720458984375, 45.3717041015625, 45.372684478759766, 45.37324142456055, 45.37390899658203, 45.3758659362793, 45.3843879699707, 45.42030334472656, 43.977142333984375, 45.38811111450195, 45.327239990234375, 45.310768127441406, 45.31483459472656, 45.332210540771484, 45.3441047668457, 45.34882354736328, 45.35081100463867, 45.35179138183594, 45.35235595703125, 45.353031158447266, 45.35501480102539, 45.3636474609375, 45.400020599365234, 44.016292572021484, 45.41753005981445, 45.350914001464844, 45.33330154418945, 45.337432861328125, 45.354976654052734, 45.36690139770508, 45.371612548828125, 45.373592376708984, 45.374568939208984, 45.37512969970703, 45.37580108642578, 45.37775802612305, 45.386287689208984, 45.4222412109375, 44.028621673583984, 45.4263916015625, 45.35793685913086, 45.339969635009766, 45.344112396240234, 45.3617057800293, 45.3736457824707, 45.37834930419922, 45.38032531738281, 45.38130569458008, 45.381866455078125, 45.38253402709961, 45.38449478149414, 45.39305114746094, 45.42905807495117, 44.02910614013672, 45.426727294921875, 45.35820388793945, 45.3402214050293, 45.34436798095703, 45.36196517944336, 45.373897552490234, 45.37860107421875, 45.38058090209961, 45.38155746459961, 45.38212203979492, 45.382789611816406, 45.384765625, 45.393367767333984, 45.4295654296875, 44.02939987182617, 45.426963806152344, 45.3583984375, 45.34040451049805, 45.34455490112305, 45.36214828491211, 45.37408447265625, 45.37879180908203, 45.38077163696289, 45.38174819946289, 45.38230895996094, 45.38298416137695, 45.38499450683594, 45.39373779296875, 45.430442810058594, 44.02939987182617, 45.426963806152344, 45.3583984375, 45.34040451049805, 45.34455490112305, 45.36214828491211, 45.37408447265625, 45.37879180908203, 45.38077163696289, 45.38174819946289, 45.3823127746582, 45.382999420166016, 45.38505935668945, 45.3940544128418, 45.431663513183594, 44.029396057128906, 45.42695617675781, 45.35839080810547, 45.340396881103516, 45.34454345703125, 45.362144470214844, 45.374080657958984, 45.3787841796875, 45.380767822265625, 45.381744384765625, 45.38230514526367, 45.38299560546875, 45.38507843017578, 45.39418411254883, 45.43219757080078, 44.02937316894531, 45.42693328857422, 45.35837173461914, 45.34037780761719, 45.34452438354492, 45.36212158203125, 45.374061584472656, 45.378761291503906, 45.380741119384766, 45.38172149658203, 45.38228988647461, 45.382999420166016, 45.38518142700195, 45.3947639465332, 45.43441390991211, 44.0292854309082, 45.42683792114258, 45.3582763671875, 45.34028625488281, 45.34443664550781, 45.362030029296875, 45.37397003173828, 45.3786735534668, 45.380653381347656, 45.38163375854492, 45.38221740722656, 45.38297653198242, 45.38542556762695, 45.396263122558594, 45.440181732177734, 44.0292854309082, 45.42683792114258, 45.3582763671875, 45.34028625488281, 45.34443664550781, 45.362030029296875, 45.37397003173828, 45.3786735534668, 45.380653381347656, 45.38163375854492, 45.38221740722656, 45.382991790771484, 45.38549041748047, 45.396575927734375, 45.4412956237793, 44.029319763183594, 45.4268798828125, 45.358314514160156, 45.340328216552734, 45.34447479248047, 45.3620719909668, 45.37400436401367, 45.378719329833984, 45.380699157714844, 45.38167190551758, 45.382240295410156, 45.38295364379883, 45.38517379760742, 45.39491271972656, 45.43512725830078, 44.02939987182617, 45.426963806152344, 45.3583984375, 45.34040451049805, 45.34455490112305, 45.36214828491211, 45.37408447265625, 45.37879180908203, 45.38077163696289, 45.38174819946289, 45.3823127746582, 45.38298797607422, 45.385013580322266, 45.39383316040039, 45.43082046508789, 44.02939987182617, 45.42695999145508, 45.35839080810547, 45.340396881103516, 45.344547271728516, 45.362144470214844, 45.374080657958984, 45.37879180908203, 45.380767822265625, 45.38174819946289, 45.38230895996094, 45.38300323486328, 45.385093688964844, 45.39427185058594, 45.43248748779297, 44.02937316894531, 45.426937103271484, 45.35837173461914, 45.34037780761719, 45.34452819824219, 45.362125396728516, 45.374061584472656, 45.37876510620117, 45.38074493408203, 45.38172912597656, 45.382293701171875, 45.38301467895508, 45.385257720947266, 45.39510726928711, 45.43570327758789, 44.029273986816406, 45.42681884765625, 45.3582649230957, 45.340274810791016, 45.34442138671875, 45.36201477050781, 45.37395477294922, 45.378665924072266, 45.38064193725586, 45.381622314453125, 45.382205963134766, 45.38298416137695, 45.38551712036133, 45.396732330322266, 45.44187545776367, 44.02919387817383, 45.42673873901367, 45.35818862915039, 45.34020233154297, 45.3443489074707, 45.3619384765625, 45.373878479003906, 45.37858200073242, 45.38056564331055, 45.38155746459961, 45.38218307495117, 45.38319778442383, 45.38690948486328, 45.4034423828125, 45.464195251464844, 44.029075622558594, 45.42660140991211, 45.358062744140625, 45.34008026123047, 45.34422302246094, 45.361820220947266, 45.373748779296875, 45.37846374511719, 45.38044738769531, 45.3814582824707, 45.38218688964844, 45.38372039794922, 45.38996505737305, 45.41712951660156, 45.50041198730469, 44.027244567871094, 45.4251594543457, 45.35685729980469, 45.33892059326172, 45.343055725097656, 45.36064529418945, 45.37258529663086, 45.37730026245117, 45.37933349609375, 45.380584716796875, 45.3825569152832, 45.390201568603516, 45.422569274902344, 45.513580322265625, 45.59858703613281]\n"
          ],
          "name": "stdout"
        }
      ]
    },
    {
      "cell_type": "code",
      "metadata": {
        "id": "2VE-yBqooQqS"
      },
      "source": [
        "#final_predictions = []\n",
        "#for window in y_test_predicted:\n",
        "#  window = window.tolist()\n",
        "#  w = []\n",
        "#  #print(window)\n",
        "#  for price in window:\n",
        "#    w.append(price[0])\n",
        "#  final_predictions.extend(w)\n",
        "\n",
        "#i = 15\n",
        "#while i:\n",
        "#  final_predictions.pop()\n",
        "#  i-=1\n",
        "#print(len(final_predictions))"
      ],
      "execution_count": 27,
      "outputs": []
    },
    {
      "cell_type": "code",
      "metadata": {
        "colab": {
          "base_uri": "https://localhost:8080/"
        },
        "id": "cnbnFUrUudiP",
        "outputId": "245efab6-61d8-456f-c834-cee4bd1cc02a"
      },
      "source": [
        "len(test_data)"
      ],
      "execution_count": 25,
      "outputs": [
        {
          "output_type": "execute_result",
          "data": {
            "text/plain": [
              "286"
            ]
          },
          "metadata": {
            "tags": []
          },
          "execution_count": 25
        }
      ]
    },
    {
      "cell_type": "code",
      "metadata": {
        "colab": {
          "base_uri": "https://localhost:8080/",
          "height": 514
        },
        "id": "5G_sYAPzl8z_",
        "outputId": "4b207e0e-b580-4213-96ce-ffcff2ad6c04"
      },
      "source": [
        "plt.figure(figsize=(16,8))\n",
        "plt.plot(train_data_df.index,train_data, label='Training Data')\n",
        "#plt.plot(df['Close'], label='Training Data')\n",
        "#print(test_data.index)\n",
        "plt.plot(test_data_df.index[:-1], y_test_predicted, color='green', label='Predicted Price')\n",
        "plt.plot(test_data_df.index, test_data, color='red', label='Actual Price')\n",
        "plt.xlabel('Dates')\n",
        "plt.ylabel('Prices')\n",
        "plt.legend()"
      ],
      "execution_count": 26,
      "outputs": [
        {
          "output_type": "execute_result",
          "data": {
            "text/plain": [
              "<matplotlib.legend.Legend at 0x7f2483e1f400>"
            ]
          },
          "metadata": {
            "tags": []
          },
          "execution_count": 26
        },
        {
          "output_type": "display_data",
          "data": {
            "image/png": "[encoded data removed]",
            "text/plain": [
              "<Figure size 1152x576 with 1 Axes>"
            ]
          },
          "metadata": {
            "tags": [],
            "needs_background": "light"
          }
        }
      ]
    }
  ]
}