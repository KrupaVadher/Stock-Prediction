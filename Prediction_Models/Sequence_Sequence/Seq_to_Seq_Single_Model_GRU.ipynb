{
 "cells": [
  {
   "cell_type": "markdown",
   "metadata": {
    "id": "8XG0PdJ80rnR"
   },
   "source": [
    "<font color=\"green\">**Generate a single sequence to sequence model for the entire predictions. The model predicts the first 15 days of the test data. Then using the actual 15 day prices, predicts the next 15 days. This process continues till all the test values are predicted.**</font>"
   ]
  },
  {
   "cell_type": "code",
   "execution_count": null,
   "metadata": {
    "id": "VnPiBg4O_Rxv"
   },
   "outputs": [],
   "source": [
    "import numpy as np\n",
    "from random import randint\n",
    "from numpy import array\n",
    "from numpy import argmax\n",
    "from numpy import array_equal\n",
    "from keras.utils import to_categorical\n",
    "from keras.models import Model\n",
    "from keras.layers import Input\n",
    "from keras.layers import LSTM\n",
    "from keras.layers import Dense\n",
    "import pandas_datareader as web\n",
    "import keras\n",
    "from matplotlib import pyplot as plt\n",
    "import matplotlib.pyplot as plt\n",
    "from sklearn.metrics import mean_squared_error\n",
    "from sklearn.metrics import mean_absolute_error"
   ]
  },
  {
   "cell_type": "markdown",
   "metadata": {},
   "source": [
    "**Get stock data**"
   ]
  },
  {
   "cell_type": "code",
   "execution_count": null,
   "metadata": {
    "colab": {
     "base_uri": "https://localhost:8080/",
     "height": 225
    },
    "id": "QcZy4VU9X9Kc",
    "outputId": "84b5bef5-89f9-442d-d4a4-16d80af71141"
   },
   "outputs": [
    {
     "data": {
      "text/html": [
       "<div>\n",
       "<style scoped>\n",
       "    .dataframe tbody tr th:only-of-type {\n",
       "        vertical-align: middle;\n",
       "    }\n",
       "\n",
       "    .dataframe tbody tr th {\n",
       "        vertical-align: top;\n",
       "    }\n",
       "\n",
       "    .dataframe thead th {\n",
       "        text-align: right;\n",
       "    }\n",
       "</style>\n",
       "<table border=\"1\" class=\"dataframe\">\n",
       "  <thead>\n",
       "    <tr style=\"text-align: right;\">\n",
       "      <th></th>\n",
       "      <th>High</th>\n",
       "      <th>Low</th>\n",
       "      <th>Open</th>\n",
       "      <th>Close</th>\n",
       "      <th>Volume</th>\n",
       "      <th>Adj Close</th>\n",
       "    </tr>\n",
       "    <tr>\n",
       "      <th>Date</th>\n",
       "      <th></th>\n",
       "      <th></th>\n",
       "      <th></th>\n",
       "      <th></th>\n",
       "      <th></th>\n",
       "      <th></th>\n",
       "    </tr>\n",
       "  </thead>\n",
       "  <tbody>\n",
       "    <tr>\n",
       "      <th>2015-01-02</th>\n",
       "      <td>27.860001</td>\n",
       "      <td>26.837500</td>\n",
       "      <td>27.847500</td>\n",
       "      <td>27.332500</td>\n",
       "      <td>212818400.0</td>\n",
       "      <td>24.696352</td>\n",
       "    </tr>\n",
       "    <tr>\n",
       "      <th>2015-01-05</th>\n",
       "      <td>27.162500</td>\n",
       "      <td>26.352501</td>\n",
       "      <td>27.072500</td>\n",
       "      <td>26.562500</td>\n",
       "      <td>257142000.0</td>\n",
       "      <td>24.000614</td>\n",
       "    </tr>\n",
       "    <tr>\n",
       "      <th>2015-01-06</th>\n",
       "      <td>26.857500</td>\n",
       "      <td>26.157499</td>\n",
       "      <td>26.635000</td>\n",
       "      <td>26.565001</td>\n",
       "      <td>263188400.0</td>\n",
       "      <td>24.002876</td>\n",
       "    </tr>\n",
       "    <tr>\n",
       "      <th>2015-01-07</th>\n",
       "      <td>27.049999</td>\n",
       "      <td>26.674999</td>\n",
       "      <td>26.799999</td>\n",
       "      <td>26.937500</td>\n",
       "      <td>160423600.0</td>\n",
       "      <td>24.339447</td>\n",
       "    </tr>\n",
       "    <tr>\n",
       "      <th>2015-01-08</th>\n",
       "      <td>28.037500</td>\n",
       "      <td>27.174999</td>\n",
       "      <td>27.307501</td>\n",
       "      <td>27.972500</td>\n",
       "      <td>237458000.0</td>\n",
       "      <td>25.274624</td>\n",
       "    </tr>\n",
       "  </tbody>\n",
       "</table>\n",
       "</div>"
      ],
      "text/plain": [
       "                 High        Low       Open      Close       Volume  Adj Close\n",
       "Date                                                                          \n",
       "2015-01-02  27.860001  26.837500  27.847500  27.332500  212818400.0  24.696352\n",
       "2015-01-05  27.162500  26.352501  27.072500  26.562500  257142000.0  24.000614\n",
       "2015-01-06  26.857500  26.157499  26.635000  26.565001  263188400.0  24.002876\n",
       "2015-01-07  27.049999  26.674999  26.799999  26.937500  160423600.0  24.339447\n",
       "2015-01-08  28.037500  27.174999  27.307501  27.972500  237458000.0  25.274624"
      ]
     },
     "execution_count": 2,
     "metadata": {
      "tags": []
     },
     "output_type": "execute_result"
    }
   ],
   "source": [
    "#Get the stock quote \n",
    "df = web.DataReader('AAPL', data_source='yahoo', start='2015-01-01', end='2020-09-02') \n",
    "#Show the data \n",
    "df.head(5)"
   ]
  },
  {
   "cell_type": "markdown",
   "metadata": {},
   "source": [
    "**Train test data split and generate batches of 15 day prices. This is because a sequence to sequence model uses 15 day window to predict next 15 day prices.**"
   ]
  },
  {
   "cell_type": "code",
   "execution_count": null,
   "metadata": {
    "id": "SId6KSI8btd8"
   },
   "outputs": [],
   "source": [
    "train_data_df, test_data_df = df[0:int(len(df)*0.8)], df[int(len(df)*0.8):]\n",
    "train_data = train_data_df['Close'].values\n",
    "test_data = test_data_df['Close'].values"
   ]
  },
  {
   "cell_type": "code",
   "execution_count": null,
   "metadata": {
    "id": "X_6WesaobxhY"
   },
   "outputs": [],
   "source": [
    "trainlist = train_data.tolist()\n",
    "decoder_input = []\n",
    "x_train = []\n",
    "y_train = []\n",
    "for i in range(15,len(trainlist)-15):\n",
    "  decoder_input.append(15*[0])\n",
    "  x_train.append(trainlist[i-15:i])\n",
    "  y_train.append(trainlist[i:i+15])"
   ]
  },
  {
   "cell_type": "code",
   "execution_count": null,
   "metadata": {
    "id": "lF6_syFZb1dx"
   },
   "outputs": [],
   "source": [
    "#Convert x_train and y_train to numpy arrays\n",
    "x_train, y_train = np.array(x_train), np.array(y_train)\n",
    "decoder_input = np.array(decoder_input)"
   ]
  },
  {
   "cell_type": "code",
   "execution_count": null,
   "metadata": {
    "id": "wI_3v_ipd6lS"
   },
   "outputs": [],
   "source": [
    "testlist = test_data.tolist()\n",
    "decoder_input_test = []\n",
    "x_test = [trainlist[-15:]]\n",
    "y_test = [testlist[:15]]\n",
    "decoder_input_test.append(15*[0])\n",
    "for i in range(15,len(testlist)-15,15):\n",
    "  decoder_input_test.append(15*[0])\n",
    "  x_test.append(testlist[i-15:i])\n",
    "  y_test.append(testlist[i:i+15])"
   ]
  },
  {
   "cell_type": "code",
   "execution_count": null,
   "metadata": {
    "id": "1inHCNOkeNss"
   },
   "outputs": [],
   "source": [
    "#Convert x_train and y_train to numpy arrays\n",
    "x_test, y_test = np.array(x_test), np.array(y_test)\n",
    "decoder_input_test = np.array(decoder_input_test)"
   ]
  },
  {
   "cell_type": "code",
   "execution_count": null,
   "metadata": {
    "colab": {
     "base_uri": "https://localhost:8080/"
    },
    "id": "Lo9_ayG1j84P",
    "outputId": "414b491c-4828-4b42-ca32-b1385ede5cfe"
   },
   "outputs": [
    {
     "name": "stdout",
     "output_type": "stream",
     "text": [
      "(1112, 15)\n"
     ]
    }
   ],
   "source": [
    "print(x_train.shape)"
   ]
  },
  {
   "cell_type": "markdown",
   "metadata": {},
   "source": [
    "**Initialize hyperparameters**"
   ]
  },
  {
   "cell_type": "code",
   "execution_count": null,
   "metadata": {
    "id": "2pTtZVOjDXwE"
   },
   "outputs": [],
   "source": [
    "keras.backend.clear_session()\n",
    "\n",
    "layers = [35, 35] # Number of hidden neuros in each layer of the encoder and decoder\n",
    "\n",
    "learning_rate = 0.01\n",
    "decay = 0 # Learning rate decay\n",
    "optimiser = keras.optimizers.Adam(lr=learning_rate, decay=decay) # Other possible optimiser \"sgd\" (Stochastic Gradient Descent)\n",
    "\n",
    "num_input_features = 1 # The dimensionality of the input at each time step. In this case a 1D signal.\n",
    "num_output_features = 1 # The dimensionality of the output at each time step. In this case a 1D signal.\n",
    "# There is no reason for the input sequence to be of same dimension as the ouput sequence.\n",
    "# For instance, using 3 input signals: consumer confidence, inflation and house prices to predict the future house prices.\n",
    "\n",
    "loss = \"mse\" # Other loss functions are possible, see Keras documentation.\n",
    "\n",
    "# Regularisation isn't really needed for this application\n",
    "lambda_regulariser = 0.000001 # Will not be used if regulariser is None\n",
    "regulariser = None # Possible regulariser: keras.regularizers.l2(lambda_regulariser)\n",
    "\n",
    "batch_size = 15\n",
    "steps_per_epoch = 200 # batch_size * steps_per_epoch = total number of training examples\n",
    "epochs = 15\n",
    "\n",
    "input_sequence_length = 15 # Length of the sequence used by the encoder\n",
    "target_sequence_length = 15 # Length of the sequence predicted by the decoder\n",
    "num_steps_to_predict = 20 # Length to use when testing the model\n",
    "\n",
    "num_signals = 2 # The number of random sine waves the compose the signal. The more sine waves, the harder the problem."
   ]
  },
  {
   "cell_type": "markdown",
   "metadata": {},
   "source": [
    "**Model Encoder neural network using GRU**"
   ]
  },
  {
   "cell_type": "code",
   "execution_count": null,
   "metadata": {
    "colab": {
     "base_uri": "https://localhost:8080/"
    },
    "id": "uDbgRhgkDl3s",
    "outputId": "dea158e1-049a-4d20-a738-76bacdd943b7"
   },
   "outputs": [
    {
     "name": "stdout",
     "output_type": "stream",
     "text": [
      "<tensorflow.python.keras.layers.recurrent_v2.GRUCell object at 0x7f94535ae940>\n"
     ]
    }
   ],
   "source": [
    "# Define an input sequence.\n",
    "encoder_inputs = keras.layers.Input(shape=(None, num_input_features))\n",
    "\n",
    "# Create a list of RNN Cells, these are then concatenated into a single layer\n",
    "# with the RNN layer.\n",
    "encoder_cells = []\n",
    "for hidden_neurons in layers:\n",
    "    encoder_cells.append(keras.layers.GRUCell(hidden_neurons,\n",
    "                                              kernel_regularizer=regulariser,\n",
    "                                              recurrent_regularizer=regulariser,\n",
    "                                              bias_regularizer=regulariser))\n",
    "    \"\"\"encoder_cells.append(keras.layers.LSTMCell(hidden_neurons,\n",
    "                                              kernel_regularizer=regulariser,\n",
    "                                              recurrent_regularizer=regulariser,\n",
    "                                              bias_regularizer=regulariser))\"\"\"\n",
    "print(encoder_cells[0])\n",
    "encoder = keras.layers.RNN(encoder_cells, return_state=True)\n",
    "#encoder = keras.layers.LSTM(encoder_cells, return_state=True)\n",
    "\n",
    "encoder_outputs_and_states = encoder(encoder_inputs)\n",
    "\n",
    "# Discard encoder outputs and only keep the states.\n",
    "# The outputs are of no interest to us, the encoder's\n",
    "# job is to create a state describing the input sequence.\n",
    "encoder_states = encoder_outputs_and_states[1:]"
   ]
  },
  {
   "cell_type": "markdown",
   "metadata": {},
   "source": [
    "**Model Decoder neural network using GRU**"
   ]
  },
  {
   "cell_type": "code",
   "execution_count": null,
   "metadata": {
    "id": "7nb8fLegDppi"
   },
   "outputs": [],
   "source": [
    "# The decoder input will be set to zero (see random_sine function of the utils module).\n",
    "# Do not worry about the input size being 1, I will explain that in the next cell.\n",
    "decoder_inputs = keras.layers.Input(shape=(None, 1))\n",
    "\n",
    "decoder_cells = []\n",
    "for hidden_neurons in layers:\n",
    "    decoder_cells.append(keras.layers.GRUCell(hidden_neurons,\n",
    "                                              kernel_regularizer=regulariser,\n",
    "                                              recurrent_regularizer=regulariser,\n",
    "                                              bias_regularizer=regulariser))\n",
    "    \"\"\"decoder_cells.append(keras.layers.LSTMCell(hidden_neurons,\n",
    "                                              kernel_regularizer=regulariser,\n",
    "                                              recurrent_regularizer=regulariser,\n",
    "                                              bias_regularizer=regulariser))\"\"\"\n",
    "\n",
    "decoder = keras.layers.RNN(decoder_cells, return_sequences=True, return_state=True)\n",
    "#decoder = keras.layers.LSTM(decoder_cells, return_sequences=True, return_state=True)\n",
    "\n",
    "# Set the initial state of the decoder to be the ouput state of the encoder.\n",
    "# This is the fundamental part of the encoder-decoder.\n",
    "decoder_outputs_and_states = decoder(decoder_inputs, initial_state=encoder_states)\n",
    "\n",
    "# Only select the output of the decoder (not the states)\n",
    "decoder_outputs = decoder_outputs_and_states[0]\n",
    "\n",
    "# Apply a dense layer with linear activation to set output to correct dimension\n",
    "# and scale (tanh is default activation for GRU in Keras, our output sine function can be larger then 1)\n",
    "decoder_dense = keras.layers.Dense(num_output_features,\n",
    "                                   activation='linear',\n",
    "                                   kernel_regularizer=regulariser,\n",
    "                                   bias_regularizer=regulariser)\n",
    "\n",
    "decoder_outputs = decoder_dense(decoder_outputs)"
   ]
  },
  {
   "cell_type": "markdown",
   "metadata": {},
   "source": [
    "**Generate Model**"
   ]
  },
  {
   "cell_type": "code",
   "execution_count": 1,
   "metadata": {
    "id": "xQO7DMymD-6-"
   },
   "outputs": [
    {
     "ename": "NameError",
     "evalue": "name 'keras' is not defined",
     "output_type": "error",
     "traceback": [
      "\u001b[1;31m---------------------------------------------------------------------------\u001b[0m",
      "\u001b[1;31mNameError\u001b[0m                                 Traceback (most recent call last)",
      "\u001b[1;32m<ipython-input-1-a349f232323b>\u001b[0m in \u001b[0;36m<module>\u001b[1;34m\u001b[0m\n\u001b[0;32m      3\u001b[0m \u001b[1;31m# The functional API is great, it gives an amazing amount of freedom in architecture of your NN.\u001b[0m\u001b[1;33m\u001b[0m\u001b[1;33m\u001b[0m\u001b[1;33m\u001b[0m\u001b[0m\n\u001b[0;32m      4\u001b[0m \u001b[1;31m# A read worth your time: https://keras.io/getting-started/functional-api-guide/\u001b[0m\u001b[1;33m\u001b[0m\u001b[1;33m\u001b[0m\u001b[1;33m\u001b[0m\u001b[0m\n\u001b[1;32m----> 5\u001b[1;33m \u001b[0mmodel\u001b[0m \u001b[1;33m=\u001b[0m \u001b[0mkeras\u001b[0m\u001b[1;33m.\u001b[0m\u001b[0mmodels\u001b[0m\u001b[1;33m.\u001b[0m\u001b[0mModel\u001b[0m\u001b[1;33m(\u001b[0m\u001b[0minputs\u001b[0m\u001b[1;33m=\u001b[0m\u001b[1;33m[\u001b[0m\u001b[0mencoder_inputs\u001b[0m\u001b[1;33m,\u001b[0m \u001b[0mdecoder_inputs\u001b[0m\u001b[1;33m]\u001b[0m\u001b[1;33m,\u001b[0m \u001b[0moutputs\u001b[0m\u001b[1;33m=\u001b[0m\u001b[0mdecoder_outputs\u001b[0m\u001b[1;33m)\u001b[0m\u001b[1;33m\u001b[0m\u001b[1;33m\u001b[0m\u001b[0m\n\u001b[0m\u001b[0;32m      6\u001b[0m \u001b[0mmodel\u001b[0m\u001b[1;33m.\u001b[0m\u001b[0mcompile\u001b[0m\u001b[1;33m(\u001b[0m\u001b[0moptimizer\u001b[0m\u001b[1;33m=\u001b[0m\u001b[0moptimiser\u001b[0m\u001b[1;33m,\u001b[0m \u001b[0mloss\u001b[0m\u001b[1;33m=\u001b[0m\u001b[0mloss\u001b[0m\u001b[1;33m)\u001b[0m\u001b[1;33m\u001b[0m\u001b[1;33m\u001b[0m\u001b[0m\n",
      "\u001b[1;31mNameError\u001b[0m: name 'keras' is not defined"
     ]
    }
   ],
   "source": [
    "\n",
    "# Create a model using the functional API provided by Keras.\n",
    "# The functional API is great, it gives an amazing amount of freedom in architecture of your NN.\n",
    "# A read worth your time: https://keras.io/getting-started/functional-api-guide/ \n",
    "model = keras.models.Model(inputs=[encoder_inputs, decoder_inputs], outputs=decoder_outputs)\n",
    "model.compile(optimizer=optimiser, loss=loss)"
   ]
  },
  {
   "cell_type": "markdown",
   "metadata": {},
   "source": [
    "**Train Model**"
   ]
  },
  {
   "cell_type": "code",
   "execution_count": null,
   "metadata": {
    "colab": {
     "base_uri": "https://localhost:8080/"
    },
    "id": "kZdJErgxcCjw",
    "outputId": "6f9e5551-1bb8-4cb2-eace-0c4f82b2fd5c"
   },
   "outputs": [
    {
     "name": "stdout",
     "output_type": "stream",
     "text": [
      "Epoch 1/15\n",
      "200/200 [==============================] - 4s 20ms/step - loss: 238.1152\n",
      "Epoch 2/15\n",
      "200/200 [==============================] - 4s 20ms/step - loss: 83.3544\n",
      "Epoch 3/15\n",
      "200/200 [==============================] - 4s 20ms/step - loss: 82.0955\n",
      "Epoch 4/15\n",
      "200/200 [==============================] - 4s 21ms/step - loss: 79.0706\n",
      "Epoch 5/15\n",
      "200/200 [==============================] - 4s 20ms/step - loss: 82.2290\n",
      "Epoch 6/15\n",
      "200/200 [==============================] - 4s 20ms/step - loss: 84.8802\n",
      "Epoch 7/15\n",
      "200/200 [==============================] - 4s 20ms/step - loss: 81.5131\n",
      "Epoch 8/15\n",
      "200/200 [==============================] - 4s 20ms/step - loss: 79.7015\n",
      "Epoch 9/15\n",
      "200/200 [==============================] - 4s 20ms/step - loss: 80.8411\n",
      "Epoch 10/15\n",
      "200/200 [==============================] - 4s 22ms/step - loss: 84.3440\n",
      "Epoch 11/15\n",
      "200/200 [==============================] - 4s 22ms/step - loss: 80.0157\n",
      "Epoch 12/15\n",
      "200/200 [==============================] - 4s 20ms/step - loss: 83.1249\n",
      "Epoch 13/15\n",
      "200/200 [==============================] - 4s 20ms/step - loss: 81.6553\n",
      "Epoch 14/15\n",
      "189/200 [===========================>..] - ETA: 0s - loss: 82.0754WARNING:tensorflow:Your input ran out of data; interrupting training. Make sure that your dataset or generator can generate at least `steps_per_epoch * epochs` batches (in this case, 3000 batches). You may need to use the repeat() function when building your dataset.\n",
      "190/200 [===========================>..] - 4s 20ms/step - loss: 82.0171\n"
     ]
    },
    {
     "data": {
      "text/plain": [
       "<tensorflow.python.keras.callbacks.History at 0x7f94536406a0>"
      ]
     },
     "execution_count": 13,
     "metadata": {
      "tags": []
     },
     "output_type": "execute_result"
    }
   ],
   "source": [
    "model.fit([x_train,decoder_input],y_train, steps_per_epoch=steps_per_epoch, epochs=epochs)"
   ]
  },
  {
   "cell_type": "markdown",
   "metadata": {},
   "source": [
    "**Generate first 15 day predictions and visualize them**"
   ]
  },
  {
   "cell_type": "code",
   "execution_count": null,
   "metadata": {
    "id": "ldE7dgixhHnO"
   },
   "outputs": [],
   "source": [
    "new_x_test = np.array([y_train[-1]])\n",
    "new_decoded = np.array([15*[0]])\n",
    "y_test_predicted = model.predict([new_x_test,new_decoded])"
   ]
  },
  {
   "cell_type": "code",
   "execution_count": null,
   "metadata": {
    "colab": {
     "base_uri": "https://localhost:8080/"
    },
    "id": "hdHc6JLvlZML",
    "outputId": "350ba6f7-b143-4d5b-a385-6f7522ff3748"
   },
   "outputs": [
    {
     "name": "stdout",
     "output_type": "stream",
     "text": [
      "(1, 15) (1, 15)\n"
     ]
    }
   ],
   "source": [
    "print(new_x_test.shape,new_decoded.shape)"
   ]
  },
  {
   "cell_type": "code",
   "execution_count": null,
   "metadata": {
    "colab": {
     "base_uri": "https://localhost:8080/"
    },
    "id": "U8RNbt7pfu_M",
    "outputId": "cd9ec763-2f4d-47d5-cde8-255df9c5ed0b"
   },
   "outputs": [
    {
     "name": "stdout",
     "output_type": "stream",
     "text": [
      "[[36.894775]\n",
      " [36.89675 ]\n",
      " [36.89677 ]\n",
      " [36.89678 ]\n",
      " [36.896782]\n",
      " [36.89678 ]\n",
      " [36.89678 ]\n",
      " [36.89678 ]\n",
      " [36.89677 ]\n",
      " [36.896767]\n",
      " [36.896763]\n",
      " [36.896763]\n",
      " [36.896755]\n",
      " [36.896748]\n",
      " [36.896748]]\n"
     ]
    }
   ],
   "source": [
    "print(y_test_predicted[0])"
   ]
  },
  {
   "cell_type": "code",
   "execution_count": null,
   "metadata": {
    "colab": {
     "base_uri": "https://localhost:8080/"
    },
    "id": "rxDZqiGuiJD4",
    "outputId": "3473e48f-adec-4b75-b018-33fb31044840"
   },
   "outputs": [
    {
     "name": "stdout",
     "output_type": "stream",
     "text": [
      "[49.95000076 49.93500137 49.47999954 50.38750076 50.68249893 51.10250092\n",
      " 51.05749893 50.00500107 50.31000137 50.80749893 50.4375     50.82500076\n",
      " 51.30250168 51.125      50.83750153]\n"
     ]
    }
   ],
   "source": [
    "print(x_test[0])"
   ]
  },
  {
   "cell_type": "code",
   "execution_count": null,
   "metadata": {
    "colab": {
     "base_uri": "https://localhost:8080/",
     "height": 517
    },
    "id": "yf14g4fhfBRq",
    "outputId": "04703961-86a3-487d-9c80-563c0da06541"
   },
   "outputs": [
    {
     "data": {
      "text/plain": [
       "<matplotlib.legend.Legend at 0x7f9453640400>"
      ]
     },
     "execution_count": 18,
     "metadata": {
      "tags": []
     },
     "output_type": "execute_result"
    },
    {
     "data": {
      "image/png": "[encoded data removed]",
      "text/plain": [
       "<Figure size 1152x576 with 1 Axes>"
      ]
     },
     "metadata": {
      "needs_background": "light",
      "tags": []
     },
     "output_type": "display_data"
    }
   ],
   "source": [
    "plt.figure(figsize=(16,8))\n",
    "#plt.plot(train_data['Close'], label='Training Data')\n",
    "#plt.plot(df['Close'], label='Training Data')\n",
    "#print(test_data.index)\n",
    "plt.plot(test_data_df.index[:15], y_test_predicted[0], color='green', label='Predicted Price')\n",
    "plt.plot(test_data_df.index[:15], x_test[0], color='red', label='Actual Price')\n",
    "plt.xlabel('Dates')\n",
    "plt.ylabel('Prices')\n",
    "plt.legend()"
   ]
  },
  {
   "cell_type": "markdown",
   "metadata": {},
   "source": [
    "**Calculate Error**"
   ]
  },
  {
   "cell_type": "code",
   "execution_count": null,
   "metadata": {
    "id": "G6RLYmx9tCte"
   },
   "outputs": [],
   "source": [
    "def mean_absolute_percentage_error(y_true, y_pred): \n",
    "    y_true, y_pred = np.array(y_true), np.array(y_pred)\n",
    "    return np.mean(np.abs((y_true - y_pred) / y_true)) * 100"
   ]
  },
  {
   "cell_type": "code",
   "execution_count": null,
   "metadata": {
    "colab": {
     "base_uri": "https://localhost:8080/"
    },
    "id": "_8_Os7JXtG_7",
    "outputId": "ec651507-4824-4e00-f1eb-69edb8b62195"
   },
   "outputs": [
    {
     "name": "stdout",
     "output_type": "stream",
     "text": [
      "27.001534930384047\n"
     ]
    }
   ],
   "source": [
    "error = mean_absolute_percentage_error(x_test[0], y_test_predicted[0])\n",
    "print(error)"
   ]
  },
  {
   "cell_type": "code",
   "execution_count": null,
   "metadata": {
    "colab": {
     "base_uri": "https://localhost:8080/"
    },
    "id": "a49pkSOYulUE",
    "outputId": "0c597eda-2d7a-482d-f86c-4739420cbca3"
   },
   "outputs": [
    {
     "name": "stdout",
     "output_type": "stream",
     "text": [
      "186.67040854848844\n"
     ]
    }
   ],
   "source": [
    "error = mean_squared_error(x_test[0], y_test_predicted[0])\n",
    "#error = mean_absolute_error(x_test[0], y_test_predicted[0])\n",
    "print(error)"
   ]
  },
  {
   "cell_type": "code",
   "execution_count": null,
   "metadata": {
    "colab": {
     "base_uri": "https://localhost:8080/"
    },
    "id": "k13XoXbrgnQy",
    "outputId": "fc4cdb8a-2b92-48ea-9e0c-671f1a06eb39"
   },
   "outputs": [
    {
     "name": "stdout",
     "output_type": "stream",
     "text": [
      "[100, 101, 102, 103, 104, 105, 106, 107, 108, 109, 110, 111, 112, 113, 114]\n",
      "[[[50.441784]\n",
      "  [53.15031 ]\n",
      "  [53.802143]\n",
      "  [53.900696]\n",
      "  [53.914658]\n",
      "  [53.9166  ]\n",
      "  [53.916805]\n",
      "  [53.91671 ]\n",
      "  [53.916557]\n",
      "  [53.916393]\n",
      "  [53.916233]\n",
      "  [53.91609 ]\n",
      "  [53.915947]\n",
      "  [53.915825]\n",
      "  [53.915718]]]\n"
     ]
    }
   ],
   "source": [
    "new_test = []\n",
    "i = 15\n",
    "sp = 100\n",
    "while i:\n",
    "  new_test.append(sp)\n",
    "  sp+=1\n",
    "  i-=1\n",
    "print(new_test)\n",
    "new_x_test = np.array([new_test])\n",
    "new_decoded = np.array([15*[0]])\n",
    "new_pred = model.predict([new_x_test,new_decoded])\n",
    "print(new_pred)"
   ]
  },
  {
   "cell_type": "markdown",
   "metadata": {},
   "source": [
    "**Generate predictions for the complete test data**"
   ]
  },
  {
   "cell_type": "code",
   "execution_count": null,
   "metadata": {
    "colab": {
     "base_uri": "https://localhost:8080/"
    },
    "id": "bRFLw0P7jnzd",
    "outputId": "b646753d-0445-491c-94c1-754912decc83"
   },
   "outputs": [
    {
     "name": "stdout",
     "output_type": "stream",
     "text": [
      "[50.087894439697266, 52.07019805908203, 52.48065948486328, 52.02863311767578, 51.492252349853516, 51.30906677246094, 51.31247329711914, 51.343055725097656, 51.379638671875, 51.416446685791016, 51.45417785644531, 51.492698669433594, 51.53190994262695, 51.57167053222656, 51.61191940307617, 50.099056243896484, 52.110198974609375, 52.54246520996094, 52.1154899597168, 51.570369720458984, 51.376644134521484, 51.376976013183594, 51.40803146362305, 51.445438385009766, 51.483036041259766, 51.521514892578125, 51.560791015625, 51.60076141357422, 51.64128875732422, 51.68229675292969, 50.15067672729492, 52.290767669677734, 52.8189811706543, 52.522911071777344, 51.96826934814453, 51.723812103271484, 51.702857971191406, 51.734256744384766, 51.775150299072266, 51.81624984741211, 51.857933044433594, 51.900367736816406, 51.94349670410156, 51.987144470214844, 52.031185150146484, 50.26200485229492, 52.64691925048828, 53.315956115722656, 53.279781341552734, 52.952083587646484, 52.673255920410156, 52.577518463134766, 52.588600158691406, 52.63089370727539, 52.67665481567383, 52.721435546875, 52.76567840576172, 52.809871673583984, 52.85402297973633, 52.897945404052734, 50.33879089355469, 52.85493087768555, 53.55522155761719, 53.614505767822266, 53.509334564208984, 53.371273040771484, 53.276283264160156, 53.25308609008789, 53.273155212402344, 53.3080940246582, 53.34515380859375, 53.381126403808594, 53.415855407714844, 53.44956588745117, 53.48231506347656, 50.44388198852539, 53.138179779052734, 53.793914794921875, 53.893226623535156, 53.908485412597656, 53.91168212890625, 53.91302490234375, 53.913780212402344, 53.914207458496094, 53.91440200805664, 53.91447448730469, 53.914466857910156, 53.9144287109375, 53.91437530517578, 53.9143180847168, 50.44419860839844, 53.14931106567383, 53.801292419433594, 53.8999137878418, 53.9140510559082, 53.916114807128906, 53.91639709472656, 53.916351318359375, 53.91622543334961, 53.91607666015625, 53.91592788696289, 53.91578674316406, 53.91565704345703, 53.91554260253906, 53.915435791015625, 50.44364547729492, 53.14970779418945, 53.80159378051758, 53.900177001953125, 53.91425323486328, 53.91626739501953, 53.91651916503906, 53.91645431518555, 53.91632080078125, 53.916168212890625, 53.916015625, 53.915870666503906, 53.915740966796875, 53.915618896484375, 53.91551208496094, 50.44209671020508, 53.150394439697266, 53.802162170410156, 53.900665283203125, 53.91462707519531, 53.91656494140625, 53.91676330566406, 53.91667175292969, 53.9165153503418, 53.916351318359375, 53.91619110107422, 53.91604232788086, 53.9159049987793, 53.91578674316406, 53.915672302246094, 50.44166946411133, 53.15054702758789, 53.80229949951172, 53.900787353515625, 53.91471862792969, 53.91663360595703, 53.91682434082031, 53.916725158691406, 53.916568756103516, 53.916404724121094, 53.91624069213867, 53.91609191894531, 53.91595458984375, 53.915828704833984, 53.91571807861328, 50.441646575927734, 53.15056228637695, 53.80231475830078, 53.90080261230469, 53.91472625732422, 53.91664123535156, 53.91683578491211, 53.91673278808594, 53.91657257080078, 53.91640853881836, 53.91624450683594, 53.91609573364258, 53.91595458984375, 53.91583251953125, 53.91572189331055, 50.44286346435547, 53.15013885498047, 53.80194091796875, 53.900474548339844, 53.91447830200195, 53.91644287109375, 53.91666793823242, 53.91658401489258, 53.91643524169922, 53.91627502441406, 53.916114807128906, 53.91596984863281, 53.91583251953125, 53.91571807861328, 53.91560363769531, 50.44449234008789, 53.14100646972656, 53.795753479003906, 53.89495849609375, 53.910011291503906, 53.912940979003906, 53.91398620605469, 53.91448974609375, 53.91472625732422, 53.91480255126953, 53.91478729248047, 53.91474151611328, 53.914669036865234, 53.91459274291992, 53.914527893066406, 50.44287872314453, 53.150089263916016, 53.801902770996094, 53.90044403076172, 53.91445541381836, 53.91642761230469, 53.916648864746094, 53.916568756103516, 53.91642379760742, 53.916259765625, 53.916107177734375, 53.91596221923828, 53.91582489013672, 53.91570281982422, 53.91559600830078, 50.441810607910156, 53.15049362182617, 53.80225372314453, 53.90074920654297, 53.9146842956543, 53.91661071777344, 53.916805267333984, 53.91670608520508, 53.91654968261719, 53.916385650634766, 53.916221618652344, 53.91607666015625, 53.91593933105469, 53.915809631347656, 53.91570281982422, 50.441654205322266, 53.15055465698242, 53.80230712890625, 53.90079879760742, 53.91472244262695, 53.91664123535156, 53.916831970214844, 53.91673278808594, 53.91657257080078, 53.91640853881836, 53.91624450683594, 53.91609191894531, 53.915958404541016, 53.91583251953125, 53.91572189331055, 50.4416618347168, 53.15055847167969, 53.80230712890625, 53.90080261230469, 53.914730072021484, 53.916648864746094, 53.916839599609375, 53.9167366027832, 53.91658020019531, 53.916412353515625, 53.91625213623047, 53.916099548339844, 53.91596221923828, 53.91584014892578, 53.91572570800781, 50.44170379638672, 53.1505241394043, 53.80228805541992, 53.900787353515625, 53.91472244262695, 53.91664123535156, 53.916831970214844, 53.91673278808594, 53.91658020019531, 53.916412353515625, 53.9162483215332, 53.916099548339844, 53.91596221923828, 53.91584014892578, 53.91572952270508, 50.44175338745117, 53.150390625, 53.80219650268555, 53.900726318359375, 53.9146842956543, 53.9166145324707, 53.91681671142578, 53.916717529296875, 53.91656494140625, 53.91640090942383, 53.916236877441406, 53.91608810424805, 53.91595458984375, 53.91583251953125, 53.91572189331055]\n"
     ]
    }
   ],
   "source": [
    "y_test_predicted = []\n",
    "for window in x_test:\n",
    "  new_x_test = np.array([window])\n",
    "  cur_predicted = model.predict([new_x_test,new_decoded])\n",
    "  cur_predicted = cur_predicted.tolist()\n",
    "  #print(cur_predicted)\n",
    "  for stock in cur_predicted[0]:\n",
    "    y_test_predicted.append(stock[0])\n",
    "print(y_test_predicted)"
   ]
  },
  {
   "cell_type": "code",
   "execution_count": null,
   "metadata": {
    "colab": {
     "base_uri": "https://localhost:8080/"
    },
    "id": "2VE-yBqooQqS",
    "outputId": "435171fa-4525-41f9-8409-b0e6b00f989f"
   },
   "outputs": [
    {
     "name": "stdout",
     "output_type": "stream",
     "text": [
      "270\n"
     ]
    }
   ],
   "source": [
    "final_predictions = []\n",
    "for window in y_test_predicted:\n",
    "  window = window.tolist()\n",
    "  w = []\n",
    "  #print(window)\n",
    "  for price in window:\n",
    "    w.append(price[0])\n",
    "  final_predictions.extend(w)\n",
    "\n",
    "i = 15\n",
    "while i:\n",
    "  final_predictions.pop()\n",
    "  i-=1\n",
    "print(len(final_predictions))"
   ]
  },
  {
   "cell_type": "code",
   "execution_count": null,
   "metadata": {
    "colab": {
     "base_uri": "https://localhost:8080/"
    },
    "id": "cnbnFUrUudiP",
    "outputId": "d99adb67-dcda-4d2b-b2f0-c438136facab"
   },
   "outputs": [
    {
     "data": {
      "text/plain": [
       "286"
      ]
     },
     "execution_count": 110,
     "metadata": {
      "tags": []
     },
     "output_type": "execute_result"
    }
   ],
   "source": [
    "len(test_data)"
   ]
  },
  {
   "cell_type": "code",
   "execution_count": null,
   "metadata": {
    "colab": {
     "base_uri": "https://localhost:8080/",
     "height": 514
    },
    "id": "5G_sYAPzl8z_",
    "outputId": "31abeeb7-5373-4292-c69f-2b89bdf4a327"
   },
   "outputs": [
    {
     "data": {
      "text/plain": [
       "<matplotlib.legend.Legend at 0x7f3c5282a470>"
      ]
     },
     "execution_count": 148,
     "metadata": {
      "tags": []
     },
     "output_type": "execute_result"
    },
    {
     "data": {
      "image/png": "[encoded data removed]",
      "text/plain": [
       "<Figure size 1152x576 with 1 Axes>"
      ]
     },
     "metadata": {
      "needs_background": "light",
      "tags": []
     },
     "output_type": "display_data"
    }
   ],
   "source": [
    "plt.figure(figsize=(16,8))\n",
    "plt.plot(train_data_df.index,train_data, label='Training Data')\n",
    "#plt.plot(df['Close'], label='Training Data')\n",
    "#print(test_data.index)\n",
    "plt.plot(test_data_df.index[:-1], y_test_predicted, color='green', label='Predicted Price')\n",
    "plt.plot(test_data_df.index, test_data, color='red', label='Actual Price')\n",
    "plt.xlabel('Dates')\n",
    "plt.ylabel('Prices')\n",
    "plt.legend()"
   ]
  }
 ],
 "metadata": {
  "colab": {
   "collapsed_sections": [],
   "name": "seq2seq-2_1.ipynb",
   "provenance": []
  },
  "kernelspec": {
   "display_name": "Python 3",
   "language": "python",
   "name": "python3"
  },
  "language_info": {
   "codemirror_mode": {
    "name": "ipython",
    "version": 3
   },
   "file_extension": ".py",
   "mimetype": "text/x-python",
   "name": "python",
   "nbconvert_exporter": "python",
   "pygments_lexer": "ipython3",
   "version": "3.7.1"
  }
 },
 "nbformat": 4,
 "nbformat_minor": 1
}
