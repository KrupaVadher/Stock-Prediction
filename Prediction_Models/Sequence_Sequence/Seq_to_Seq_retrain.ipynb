{
 "cells": [
  {
   "cell_type": "markdown",
   "metadata": {
    "id": "3sjBZgQNzj8W"
   },
   "source": [
    "<font color=\"green\">**Sequence to Sequence Model. A single model generates 15 day prediction. After every 15 days new model is generated  using the actual 15 day values.**</font>"
   ]
  },
  {
   "cell_type": "code",
   "execution_count": null,
   "metadata": {
    "id": "VnPiBg4O_Rxv"
   },
   "outputs": [],
   "source": [
    "import numpy as np\n",
    "from random import randint\n",
    "from numpy import array\n",
    "from numpy import argmax\n",
    "from numpy import array_equal\n",
    "from keras.utils import to_categorical\n",
    "from keras.models import Model\n",
    "from keras.layers import Input\n",
    "from keras.layers import LSTM\n",
    "from keras.layers import Dense\n",
    "import pandas_datareader as web\n",
    "import keras\n",
    "from matplotlib import pyplot as plt\n",
    "import matplotlib.pyplot as plt\n",
    "from sklearn.metrics import mean_squared_error\n",
    "from sklearn.metrics import mean_absolute_error"
   ]
  },
  {
   "cell_type": "markdown",
   "metadata": {},
   "source": [
    "**Get stock data**"
   ]
  },
  {
   "cell_type": "code",
   "execution_count": null,
   "metadata": {
    "colab": {
     "base_uri": "https://localhost:8080/",
     "height": 225
    },
    "id": "QcZy4VU9X9Kc",
    "outputId": "ec4198ef-487a-44b3-e330-35a0fd571917"
   },
   "outputs": [
    {
     "data": {
      "text/html": [
       "<div>\n",
       "<style scoped>\n",
       "    .dataframe tbody tr th:only-of-type {\n",
       "        vertical-align: middle;\n",
       "    }\n",
       "\n",
       "    .dataframe tbody tr th {\n",
       "        vertical-align: top;\n",
       "    }\n",
       "\n",
       "    .dataframe thead th {\n",
       "        text-align: right;\n",
       "    }\n",
       "</style>\n",
       "<table border=\"1\" class=\"dataframe\">\n",
       "  <thead>\n",
       "    <tr style=\"text-align: right;\">\n",
       "      <th></th>\n",
       "      <th>High</th>\n",
       "      <th>Low</th>\n",
       "      <th>Open</th>\n",
       "      <th>Close</th>\n",
       "      <th>Volume</th>\n",
       "      <th>Adj Close</th>\n",
       "    </tr>\n",
       "    <tr>\n",
       "      <th>Date</th>\n",
       "      <th></th>\n",
       "      <th></th>\n",
       "      <th></th>\n",
       "      <th></th>\n",
       "      <th></th>\n",
       "      <th></th>\n",
       "    </tr>\n",
       "  </thead>\n",
       "  <tbody>\n",
       "    <tr>\n",
       "      <th>2015-01-02</th>\n",
       "      <td>27.860001</td>\n",
       "      <td>26.837500</td>\n",
       "      <td>27.847500</td>\n",
       "      <td>27.332500</td>\n",
       "      <td>212818400.0</td>\n",
       "      <td>24.696352</td>\n",
       "    </tr>\n",
       "    <tr>\n",
       "      <th>2015-01-05</th>\n",
       "      <td>27.162500</td>\n",
       "      <td>26.352501</td>\n",
       "      <td>27.072500</td>\n",
       "      <td>26.562500</td>\n",
       "      <td>257142000.0</td>\n",
       "      <td>24.000614</td>\n",
       "    </tr>\n",
       "    <tr>\n",
       "      <th>2015-01-06</th>\n",
       "      <td>26.857500</td>\n",
       "      <td>26.157499</td>\n",
       "      <td>26.635000</td>\n",
       "      <td>26.565001</td>\n",
       "      <td>263188400.0</td>\n",
       "      <td>24.002876</td>\n",
       "    </tr>\n",
       "    <tr>\n",
       "      <th>2015-01-07</th>\n",
       "      <td>27.049999</td>\n",
       "      <td>26.674999</td>\n",
       "      <td>26.799999</td>\n",
       "      <td>26.937500</td>\n",
       "      <td>160423600.0</td>\n",
       "      <td>24.339447</td>\n",
       "    </tr>\n",
       "    <tr>\n",
       "      <th>2015-01-08</th>\n",
       "      <td>28.037500</td>\n",
       "      <td>27.174999</td>\n",
       "      <td>27.307501</td>\n",
       "      <td>27.972500</td>\n",
       "      <td>237458000.0</td>\n",
       "      <td>25.274624</td>\n",
       "    </tr>\n",
       "  </tbody>\n",
       "</table>\n",
       "</div>"
      ],
      "text/plain": [
       "                 High        Low       Open      Close       Volume  Adj Close\n",
       "Date                                                                          \n",
       "2015-01-02  27.860001  26.837500  27.847500  27.332500  212818400.0  24.696352\n",
       "2015-01-05  27.162500  26.352501  27.072500  26.562500  257142000.0  24.000614\n",
       "2015-01-06  26.857500  26.157499  26.635000  26.565001  263188400.0  24.002876\n",
       "2015-01-07  27.049999  26.674999  26.799999  26.937500  160423600.0  24.339447\n",
       "2015-01-08  28.037500  27.174999  27.307501  27.972500  237458000.0  25.274624"
      ]
     },
     "execution_count": 3,
     "metadata": {
      "tags": []
     },
     "output_type": "execute_result"
    }
   ],
   "source": [
    "#Get the stock quote \n",
    "df = web.DataReader('AAPL', data_source='yahoo', start='2015-01-01', end='2020-11-24')\n",
    "#df = web.DataReader('AMD', data_source='yahoo', start='2015-01-01', end='2020-11-24')\n",
    "#df = web.DataReader('TSLA', data_source='yahoo', start='2015-01-01', end='2020-11-24')\n",
    "#df = web.DataReader('DIS', data_source='yahoo', start='2015-01-01', end='2020-11-24')\n",
    "#Show the data \n",
    "df.head(5)"
   ]
  },
  {
   "cell_type": "markdown",
   "metadata": {},
   "source": [
    "**Initialize hyperparameters**"
   ]
  },
  {
   "cell_type": "code",
   "execution_count": null,
   "metadata": {
    "id": "2pTtZVOjDXwE"
   },
   "outputs": [],
   "source": [
    "keras.backend.clear_session()\n",
    "\n",
    "layers = [35, 35] # Number of hidden neuros in each layer of the encoder and decoder\n",
    "\n",
    "learning_rate = 0.01\n",
    "decay = 0 # Learning rate decay\n",
    "optimiser = keras.optimizers.Adam(lr=learning_rate, decay=decay) # Other possible optimiser \"sgd\" (Stochastic Gradient Descent)\n",
    "\n",
    "num_input_features = 1 # The dimensionality of the input at each time step. In this case a 1D signal.\n",
    "num_output_features = 1 # The dimensionality of the output at each time step. In this case a 1D signal.\n",
    "# There is no reason for the input sequence to be of same dimension as the ouput sequence.\n",
    "# For instance, using 3 input signals: consumer confidence, inflation and house prices to predict the future house prices.\n",
    "\n",
    "loss = \"mse\" # Other loss functions are possible, see Keras documentation.\n",
    "\n",
    "# Regularisation isn't really needed for this application\n",
    "lambda_regulariser = 0.000001 # Will not be used if regulariser is None\n",
    "regulariser = None # Possible regulariser: keras.regularizers.l2(lambda_regulariser)\n",
    "\n",
    "batch_size = 15\n",
    "steps_per_epoch = 200 # batch_size * steps_per_epoch = total number of training examples\n",
    "epochs = 15\n",
    "\n",
    "input_sequence_length = 15 # Length of the sequence used by the encoder\n",
    "target_sequence_length = 15 # Length of the sequence predicted by the decoder\n",
    "num_steps_to_predict = 20 # Length to use when testing the model\n",
    "\n",
    "num_signals = 2 # The number of random sine waves the compose the signal. The more sine waves, the harder the problem."
   ]
  },
  {
   "cell_type": "markdown",
   "metadata": {},
   "source": [
    "**Model Encoder neural network**"
   ]
  },
  {
   "cell_type": "code",
   "execution_count": null,
   "metadata": {
    "colab": {
     "base_uri": "https://localhost:8080/"
    },
    "id": "uDbgRhgkDl3s",
    "outputId": "5aa0d412-db17-4097-a015-0cb899f75a63"
   },
   "outputs": [
    {
     "name": "stdout",
     "output_type": "stream",
     "text": [
      "<tensorflow.python.keras.layers.recurrent_v2.LSTMCell object at 0x7f63b85388d0>\n"
     ]
    }
   ],
   "source": [
    "# Define an input sequence.\n",
    "encoder_inputs = keras.layers.Input(shape=(None, num_input_features))\n",
    "\n",
    "# Create a list of RNN Cells, these are then concatenated into a single layer\n",
    "# with the RNN layer.\n",
    "encoder_cells = []\n",
    "#We use LSTM instead of GRU\n",
    "for hidden_neurons in layers:\n",
    "    \"\"\"encoder_cells.append(keras.layers.GRUCell(hidden_neurons,\n",
    "                                              kernel_regularizer=regulariser,\n",
    "                                              recurrent_regularizer=regulariser,\n",
    "                                              bias_regularizer=regulariser))\"\"\"\n",
    "    encoder_cells.append(keras.layers.LSTMCell(hidden_neurons,\n",
    "                                              kernel_regularizer=regulariser,\n",
    "                                              recurrent_regularizer=regulariser,\n",
    "                                              bias_regularizer=regulariser))\n",
    "print(encoder_cells[0])\n",
    "encoder = keras.layers.RNN(encoder_cells, return_state=True)\n",
    "#encoder = keras.layers.LSTM(encoder_cells, return_state=True)\n",
    "\n",
    "encoder_outputs_and_states = encoder(encoder_inputs)\n",
    "\n",
    "# Discard encoder outputs and only keep the states.\n",
    "# The outputs are of no interest to us, the encoder's\n",
    "# job is to create a state describing the input sequence.\n",
    "encoder_states = encoder_outputs_and_states[1:]"
   ]
  },
  {
   "cell_type": "markdown",
   "metadata": {},
   "source": [
    "**Model Decoder neural network**"
   ]
  },
  {
   "cell_type": "code",
   "execution_count": null,
   "metadata": {
    "id": "7nb8fLegDppi"
   },
   "outputs": [],
   "source": [
    "# The decoder input will be set to zero (see random_sine function of the utils module).\n",
    "# Do not worry about the input size being 1, I will explain that in the next cell.\n",
    "decoder_inputs = keras.layers.Input(shape=(None, 1))\n",
    "\n",
    "decoder_cells = []\n",
    "for hidden_neurons in layers:\n",
    "    \"\"\"decoder_cells.append(keras.layers.GRUCell(hidden_neurons,\n",
    "                                              kernel_regularizer=regulariser,\n",
    "                                              recurrent_regularizer=regulariser,\n",
    "                                              bias_regularizer=regulariser))\"\"\"\n",
    "    decoder_cells.append(keras.layers.LSTMCell(hidden_neurons,\n",
    "                                              kernel_regularizer=regulariser,\n",
    "                                              recurrent_regularizer=regulariser,\n",
    "                                              bias_regularizer=regulariser))\n",
    "\n",
    "decoder = keras.layers.RNN(decoder_cells, return_sequences=True, return_state=True)\n",
    "#decoder = keras.layers.LSTM(decoder_cells, return_sequences=True, return_state=True)\n",
    "\n",
    "# Set the initial state of the decoder to be the ouput state of the encoder.\n",
    "# This is the fundamental part of the encoder-decoder.\n",
    "decoder_outputs_and_states = decoder(decoder_inputs, initial_state=encoder_states)\n",
    "\n",
    "# Only select the output of the decoder (not the states)\n",
    "decoder_outputs = decoder_outputs_and_states[0]\n",
    "\n",
    "# Apply a dense layer with linear activation to set output to correct dimension\n",
    "# and scale (tanh is default activation for GRU in Keras, our output sine function can be larger then 1)\n",
    "decoder_dense = keras.layers.Dense(num_output_features,\n",
    "                                   activation='linear',\n",
    "                                   kernel_regularizer=regulariser,\n",
    "                                   bias_regularizer=regulariser)\n",
    "\n",
    "decoder_outputs = decoder_dense(decoder_outputs)"
   ]
  },
  {
   "cell_type": "markdown",
   "metadata": {},
   "source": [
    "**Generate Model**"
   ]
  },
  {
   "cell_type": "code",
   "execution_count": null,
   "metadata": {
    "id": "xQO7DMymD-6-"
   },
   "outputs": [],
   "source": [
    "\n",
    "# Create a model using the functional API provided by Keras.\n",
    "# The functional API is great, it gives an amazing amount of freedom in architecture of your NN.\n",
    "# A read worth your time: https://keras.io/getting-started/functional-api-guide/ \n",
    "model = keras.models.Model(inputs=[encoder_inputs, decoder_inputs], outputs=decoder_outputs)\n",
    "model.compile(optimizer=optimiser, loss=loss)"
   ]
  },
  {
   "cell_type": "markdown",
   "metadata": {},
   "source": [
    "**Generate batches of 15 day train test windows**"
   ]
  },
  {
   "cell_type": "code",
   "execution_count": null,
   "metadata": {
    "id": "8KshLg8BOYwP"
   },
   "outputs": [],
   "source": [
    "close_values = df['Close'].values\n",
    "index = int(len(df)*0.8)\n",
    "close_values = close_values.tolist()\n",
    "decoder_values = []\n",
    "x = []\n",
    "y = []\n",
    "for i in range(15,len(close_values)-15):\n",
    "  decoder_values.append(15*[0])\n",
    "  x.append(close_values[i-15:i])\n",
    "  y.append(close_values[i:i+15])"
   ]
  },
  {
   "cell_type": "code",
   "execution_count": null,
   "metadata": {
    "id": "diFKIZWY3jON"
   },
   "outputs": [],
   "source": [
    "partition = int(len(x)*0.8)"
   ]
  },
  {
   "cell_type": "markdown",
   "metadata": {},
   "source": [
    "**Model training and prediction**"
   ]
  },
  {
   "cell_type": "code",
   "execution_count": null,
   "metadata": {
    "colab": {
     "base_uri": "https://localhost:8080/",
     "height": 1000
    },
    "id": "M-6BNxq37KKm",
    "outputId": "6710ebe0-bde0-469c-a9a7-29693bb138cb"
   },
   "outputs": [
    {
     "name": "stdout",
     "output_type": "stream",
     "text": [
      "Epoch 1/15\n",
      "200/200 [==============================] - 2s 11ms/step - loss: 259.1661\n",
      "Epoch 2/15\n",
      "200/200 [==============================] - 2s 11ms/step - loss: 87.9094\n",
      "Epoch 3/15\n",
      "200/200 [==============================] - 2s 11ms/step - loss: 87.2874\n",
      "Epoch 4/15\n",
      "200/200 [==============================] - 2s 11ms/step - loss: 32.0294\n",
      "Epoch 5/15\n",
      "200/200 [==============================] - 2s 11ms/step - loss: 10.6071\n",
      "Epoch 6/15\n",
      "200/200 [==============================] - 2s 11ms/step - loss: 7.7886\n",
      "Epoch 7/15\n",
      "200/200 [==============================] - 2s 11ms/step - loss: 5.9656\n",
      "Epoch 8/15\n",
      "200/200 [==============================] - 2s 11ms/step - loss: 5.7318\n",
      "Epoch 9/15\n",
      "200/200 [==============================] - 2s 11ms/step - loss: 5.6151\n",
      "Epoch 10/15\n",
      "200/200 [==============================] - 2s 11ms/step - loss: 5.9425\n",
      "Epoch 11/15\n",
      "200/200 [==============================] - 2s 11ms/step - loss: 6.9542\n",
      "Epoch 12/15\n",
      "200/200 [==============================] - 2s 11ms/step - loss: 5.7816\n",
      "Epoch 13/15\n",
      "200/200 [==============================] - 2s 11ms/step - loss: 5.6445\n",
      "Epoch 14/15\n",
      "200/200 [==============================] - 2s 11ms/step - loss: 6.0367\n",
      "Epoch 15/15\n",
      "108/200 [===============>..............] - ETA: 1s - loss: 6.8803WARNING:tensorflow:Your input ran out of data; interrupting training. Make sure that your dataset or generator can generate at least `steps_per_epoch * epochs` batches (in this case, 3000 batches). You may need to use the repeat() function when building your dataset.\n",
      "110/200 [===============>..............] - 1s 11ms/step - loss: 6.9081\n",
      "Epoch 1/15\n",
      "200/200 [==============================] - 4s 18ms/step - loss: 6.8336\n",
      "Epoch 2/15\n",
      "200/200 [==============================] - 3s 17ms/step - loss: 5.7956\n",
      "Epoch 3/15\n",
      "200/200 [==============================] - 3s 17ms/step - loss: 5.3712\n",
      "Epoch 4/15\n",
      "200/200 [==============================] - 4s 18ms/step - loss: 5.9499\n",
      "Epoch 5/15\n",
      "200/200 [==============================] - 3s 17ms/step - loss: 5.7815\n",
      "Epoch 6/15\n",
      "200/200 [==============================] - 4s 18ms/step - loss: 5.0265\n",
      "Epoch 7/15\n",
      "200/200 [==============================] - 3s 17ms/step - loss: 5.0809\n",
      "Epoch 8/15\n",
      "200/200 [==============================] - 3s 17ms/step - loss: 5.1363\n",
      "Epoch 9/15\n",
      "200/200 [==============================] - 3s 17ms/step - loss: 5.4414\n",
      "Epoch 10/15\n",
      "200/200 [==============================] - 3s 17ms/step - loss: 5.3858\n",
      "Epoch 11/15\n",
      "200/200 [==============================] - 3s 17ms/step - loss: 5.6747\n",
      "Epoch 12/15\n",
      "200/200 [==============================] - 3s 17ms/step - loss: 5.0948\n",
      "Epoch 13/15\n",
      "200/200 [==============================] - 3s 17ms/step - loss: 4.7294\n",
      "Epoch 14/15\n",
      "200/200 [==============================] - 3s 17ms/step - loss: 4.8904\n",
      "Epoch 15/15\n",
      "154/200 [======================>.......] - ETA: 0s - loss: 5.3524WARNING:tensorflow:Your input ran out of data; interrupting training. Make sure that your dataset or generator can generate at least `steps_per_epoch * epochs` batches (in this case, 3000 batches). You may need to use the repeat() function when building your dataset.\n",
      "155/200 [======================>.......] - 3s 18ms/step - loss: 5.3549\n",
      "Epoch 1/15\n",
      "200/200 [==============================] - 2s 11ms/step - loss: 5.9395\n",
      "Epoch 2/15\n",
      "200/200 [==============================] - 2s 11ms/step - loss: 5.2258\n",
      "Epoch 3/15\n",
      "200/200 [==============================] - 2s 11ms/step - loss: 5.5941\n",
      "Epoch 4/15\n",
      "200/200 [==============================] - 2s 12ms/step - loss: 5.5466\n",
      "Epoch 5/15\n",
      "200/200 [==============================] - 2s 11ms/step - loss: 5.3092\n",
      "Epoch 6/15\n",
      "200/200 [==============================] - 2s 11ms/step - loss: 5.6421\n",
      "Epoch 7/15\n",
      "200/200 [==============================] - 2s 11ms/step - loss: 5.0541\n",
      "Epoch 8/15\n",
      "200/200 [==============================] - 2s 11ms/step - loss: 5.1104\n",
      "Epoch 9/15\n",
      "200/200 [==============================] - 2s 11ms/step - loss: 5.2296\n",
      "Epoch 10/15\n",
      "200/200 [==============================] - 2s 11ms/step - loss: 5.2186\n",
      "Epoch 11/15\n",
      "200/200 [==============================] - 2s 11ms/step - loss: 5.7997\n",
      "Epoch 12/15\n",
      "200/200 [==============================] - 2s 11ms/step - loss: 5.2527\n",
      "Epoch 13/15\n",
      "200/200 [==============================] - 2s 11ms/step - loss: 4.9691\n",
      "Epoch 14/15\n",
      "200/200 [==============================] - 2s 11ms/step - loss: 4.8208\n",
      "Epoch 15/15\n",
      "184/200 [==========================>...] - ETA: 0s - loss: 5.0426WARNING:tensorflow:Your input ran out of data; interrupting training. Make sure that your dataset or generator can generate at least `steps_per_epoch * epochs` batches (in this case, 3000 batches). You may need to use the repeat() function when building your dataset.\n",
      "185/200 [==========================>...] - 2s 12ms/step - loss: 5.0253\n",
      "Epoch 1/15\n",
      "200/200 [==============================] - 3s 17ms/step - loss: 5.3867\n",
      "Epoch 2/15\n",
      "200/200 [==============================] - 4s 18ms/step - loss: 5.4193\n",
      "Epoch 3/15\n",
      "200/200 [==============================] - 3s 17ms/step - loss: 5.3514\n",
      "Epoch 4/15\n",
      "200/200 [==============================] - 3s 17ms/step - loss: 5.2829\n",
      "Epoch 5/15\n",
      "200/200 [==============================] - 4s 18ms/step - loss: 6.0630\n",
      "Epoch 6/15\n",
      "200/200 [==============================] - 3s 17ms/step - loss: 5.5202\n",
      "Epoch 7/15\n",
      "200/200 [==============================] - 3s 17ms/step - loss: 5.3510\n",
      "Epoch 8/15\n",
      "200/200 [==============================] - 4s 18ms/step - loss: 5.4843\n",
      "Epoch 9/15\n",
      "200/200 [==============================] - 3s 17ms/step - loss: 4.6607\n",
      "Epoch 10/15\n",
      "200/200 [==============================] - 4s 18ms/step - loss: 5.1003\n",
      "Epoch 11/15\n",
      "200/200 [==============================] - 3s 17ms/step - loss: 4.7585\n",
      "Epoch 12/15\n",
      "200/200 [==============================] - 4s 18ms/step - loss: 5.0204\n",
      "Epoch 13/15\n",
      "194/200 [============================>.] - ETA: 0s - loss: 4.6269WARNING:tensorflow:Your input ran out of data; interrupting training. Make sure that your dataset or generator can generate at least `steps_per_epoch * epochs` batches (in this case, 3000 batches). You may need to use the repeat() function when building your dataset.\n",
      "195/200 [============================>.] - 3s 17ms/step - loss: 4.6179\n",
      "Epoch 1/15\n",
      "200/200 [==============================] - 4s 18ms/step - loss: 4.8157\n",
      "Epoch 2/15\n",
      "200/200 [==============================] - 3s 17ms/step - loss: 4.5125\n",
      "Epoch 3/15\n",
      "200/200 [==============================] - 4s 18ms/step - loss: 4.5684\n",
      "Epoch 4/15\n",
      "200/200 [==============================] - 3s 17ms/step - loss: 5.0644\n",
      "Epoch 5/15\n",
      "200/200 [==============================] - 3s 17ms/step - loss: 5.0361\n",
      "Epoch 6/15\n",
      "200/200 [==============================] - 3s 17ms/step - loss: 5.0868\n",
      "Epoch 7/15\n",
      "200/200 [==============================] - 4s 18ms/step - loss: 4.3445\n",
      "Epoch 8/15\n",
      "200/200 [==============================] - 3s 17ms/step - loss: 4.2789\n",
      "Epoch 9/15\n",
      "200/200 [==============================] - 4s 18ms/step - loss: 4.6879\n",
      "Epoch 10/15\n",
      "200/200 [==============================] - 4s 18ms/step - loss: 4.4618\n",
      "Epoch 11/15\n",
      "200/200 [==============================] - 3s 17ms/step - loss: 4.2003\n",
      "Epoch 12/15\n",
      "200/200 [==============================] - 4s 18ms/step - loss: 5.6941\n",
      "Epoch 13/15\n",
      "200/200 [==============================] - 3s 17ms/step - loss: 5.7265\n",
      "Epoch 14/15\n",
      " 23/200 [==>...........................] - ETA: 3s - loss: 5.7239WARNING:tensorflow:Your input ran out of data; interrupting training. Make sure that your dataset or generator can generate at least `steps_per_epoch * epochs` batches (in this case, 3000 batches). You may need to use the repeat() function when building your dataset.\n",
      " 25/200 [==>...........................] - 0s 18ms/step - loss: 5.7528\n",
      "Epoch 1/15\n",
      "200/200 [==============================] - 4s 18ms/step - loss: 5.0881\n",
      "Epoch 2/15\n",
      "200/200 [==============================] - 4s 18ms/step - loss: 5.4290\n",
      "Epoch 3/15\n",
      "200/200 [==============================] - 3s 17ms/step - loss: 5.7323\n",
      "Epoch 4/15\n",
      "200/200 [==============================] - 4s 18ms/step - loss: 5.4440\n",
      "Epoch 5/15\n",
      "200/200 [==============================] - 3s 17ms/step - loss: 4.6877\n",
      "Epoch 6/15\n",
      "200/200 [==============================] - 3s 17ms/step - loss: 5.5651\n",
      "Epoch 7/15\n",
      "200/200 [==============================] - 3s 17ms/step - loss: 4.9514\n",
      "Epoch 8/15\n",
      "200/200 [==============================] - 4s 18ms/step - loss: 4.5005\n",
      "Epoch 9/15\n",
      "200/200 [==============================] - 4s 18ms/step - loss: 4.5046\n",
      "Epoch 10/15\n",
      "200/200 [==============================] - 3s 17ms/step - loss: 4.4983\n",
      "Epoch 11/15\n",
      "200/200 [==============================] - 4s 18ms/step - loss: 5.0514\n",
      "Epoch 12/15\n",
      "200/200 [==============================] - 4s 18ms/step - loss: 4.8092\n",
      "Epoch 13/15\n",
      "200/200 [==============================] - 4s 18ms/step - loss: 4.3482\n",
      "Epoch 14/15\n",
      " 55/200 [=======>......................] - ETA: 2s - loss: 6.0398WARNING:tensorflow:Your input ran out of data; interrupting training. Make sure that your dataset or generator can generate at least `steps_per_epoch * epochs` batches (in this case, 3000 batches). You may need to use the repeat() function when building your dataset.\n",
      " 55/200 [=======>......................] - 1s 18ms/step - loss: 6.0398\n",
      "Epoch 1/15\n",
      "200/200 [==============================] - 3s 17ms/step - loss: 6.0019\n",
      "Epoch 2/15\n",
      "200/200 [==============================] - 3s 17ms/step - loss: 6.9118\n",
      "Epoch 3/15\n",
      "200/200 [==============================] - 4s 18ms/step - loss: 6.1576\n",
      "Epoch 4/15\n",
      "200/200 [==============================] - 4s 18ms/step - loss: 5.5156\n",
      "Epoch 5/15\n",
      "200/200 [==============================] - 3s 17ms/step - loss: 5.5860\n",
      "Epoch 6/15\n",
      "200/200 [==============================] - 4s 18ms/step - loss: 4.6111\n",
      "Epoch 7/15\n",
      "200/200 [==============================] - 3s 17ms/step - loss: 5.8234\n",
      "Epoch 8/15\n",
      "200/200 [==============================] - 4s 18ms/step - loss: 5.3155\n",
      "Epoch 9/15\n",
      "200/200 [==============================] - 3s 17ms/step - loss: 5.1182\n",
      "Epoch 10/15\n",
      "200/200 [==============================] - 4s 18ms/step - loss: 4.9923\n",
      "Epoch 11/15\n",
      "200/200 [==============================] - 4s 18ms/step - loss: 4.9916\n",
      "Epoch 12/15\n",
      "200/200 [==============================] - 4s 19ms/step - loss: 5.0785\n",
      "Epoch 13/15\n",
      "200/200 [==============================] - 4s 19ms/step - loss: 5.4878\n",
      "Epoch 14/15\n",
      " 99/200 [=============>................] - ETA: 1s - loss: 4.9770WARNING:tensorflow:Your input ran out of data; interrupting training. Make sure that your dataset or generator can generate at least `steps_per_epoch * epochs` batches (in this case, 3000 batches). You may need to use the repeat() function when building your dataset.\n",
      "100/200 [==============>...............] - 2s 17ms/step - loss: 4.9708\n",
      "Epoch 1/15\n",
      "200/200 [==============================] - 4s 18ms/step - loss: 5.6350\n",
      "Epoch 2/15\n",
      "200/200 [==============================] - 4s 18ms/step - loss: 5.1036\n",
      "Epoch 3/15\n",
      "200/200 [==============================] - 4s 18ms/step - loss: 4.8583\n",
      "Epoch 4/15\n",
      "200/200 [==============================] - 4s 18ms/step - loss: 4.8639\n",
      "Epoch 5/15\n",
      "200/200 [==============================] - 4s 18ms/step - loss: 4.8450\n",
      "Epoch 6/15\n",
      "200/200 [==============================] - 3s 17ms/step - loss: 4.6904\n",
      "Epoch 7/15\n",
      "200/200 [==============================] - 4s 18ms/step - loss: 4.9590\n",
      "Epoch 8/15\n",
      "200/200 [==============================] - 4s 18ms/step - loss: 5.0952\n",
      "Epoch 9/15\n",
      "200/200 [==============================] - 4s 18ms/step - loss: 4.4352\n",
      "Epoch 10/15\n",
      "200/200 [==============================] - 3s 17ms/step - loss: 4.6877\n",
      "Epoch 11/15\n",
      "200/200 [==============================] - 3s 17ms/step - loss: 4.7634\n",
      "Epoch 12/15\n",
      "200/200 [==============================] - 3s 17ms/step - loss: 5.1092\n",
      "Epoch 13/15\n",
      "200/200 [==============================] - 4s 18ms/step - loss: 4.8376\n",
      "Epoch 14/15\n",
      "129/200 [==================>...........] - ETA: 1s - loss: 5.4302WARNING:tensorflow:Your input ran out of data; interrupting training. Make sure that your dataset or generator can generate at least `steps_per_epoch * epochs` batches (in this case, 3000 batches). You may need to use the repeat() function when building your dataset.\n",
      "130/200 [==================>...........] - 2s 18ms/step - loss: 5.4220\n",
      "Epoch 1/15\n",
      "200/200 [==============================] - 3s 17ms/step - loss: 5.3340\n",
      "Epoch 2/15\n",
      "200/200 [==============================] - 4s 18ms/step - loss: 6.6490\n",
      "Epoch 3/15\n",
      "200/200 [==============================] - 4s 18ms/step - loss: 5.3852\n",
      "Epoch 4/15\n",
      "200/200 [==============================] - 3s 17ms/step - loss: 4.9246\n",
      "Epoch 5/15\n",
      "200/200 [==============================] - 4s 18ms/step - loss: 5.0572\n",
      "Epoch 6/15\n",
      "200/200 [==============================] - 4s 18ms/step - loss: 5.3624\n",
      "Epoch 7/15\n",
      "200/200 [==============================] - 4s 18ms/step - loss: 5.7954\n",
      "Epoch 8/15\n",
      "200/200 [==============================] - 4s 18ms/step - loss: 5.6844\n",
      "Epoch 9/15\n",
      "200/200 [==============================] - 3s 17ms/step - loss: 5.6308\n",
      "Epoch 10/15\n",
      "200/200 [==============================] - 4s 18ms/step - loss: 5.0319\n",
      "Epoch 11/15\n",
      "200/200 [==============================] - 4s 18ms/step - loss: 5.1123\n",
      "Epoch 12/15\n",
      "200/200 [==============================] - 4s 18ms/step - loss: 4.8791\n",
      "Epoch 13/15\n",
      "200/200 [==============================] - 4s 19ms/step - loss: 5.0945\n",
      "Epoch 14/15\n",
      "159/200 [======================>.......] - ETA: 0s - loss: 5.5930WARNING:tensorflow:Your input ran out of data; interrupting training. Make sure that your dataset or generator can generate at least `steps_per_epoch * epochs` batches (in this case, 3000 batches). You may need to use the repeat() function when building your dataset.\n",
      "160/200 [=======================>......] - 3s 18ms/step - loss: 5.5879\n",
      "Epoch 1/15\n",
      "200/200 [==============================] - 4s 18ms/step - loss: 6.7457\n",
      "Epoch 2/15\n",
      "200/200 [==============================] - 4s 18ms/step - loss: 7.2485\n",
      "Epoch 3/15\n",
      "200/200 [==============================] - 4s 18ms/step - loss: 6.2136\n",
      "Epoch 4/15\n",
      "200/200 [==============================] - 3s 17ms/step - loss: 7.8752\n",
      "Epoch 5/15\n",
      "200/200 [==============================] - 4s 18ms/step - loss: 5.8403\n",
      "Epoch 6/15\n",
      "200/200 [==============================] - 3s 17ms/step - loss: 6.6794\n",
      "Epoch 7/15\n",
      "200/200 [==============================] - 3s 17ms/step - loss: 6.7871\n",
      "Epoch 8/15\n",
      "200/200 [==============================] - 3s 17ms/step - loss: 5.8598\n",
      "Epoch 9/15\n",
      "200/200 [==============================] - 4s 18ms/step - loss: 7.8941\n",
      "Epoch 10/15\n",
      "200/200 [==============================] - 4s 19ms/step - loss: 8.0463\n",
      "Epoch 11/15\n",
      "200/200 [==============================] - 4s 18ms/step - loss: 6.4290\n",
      "Epoch 12/15\n",
      "200/200 [==============================] - 4s 18ms/step - loss: 6.6456\n",
      "Epoch 13/15\n",
      "200/200 [==============================] - 4s 18ms/step - loss: 6.6354\n",
      "Epoch 14/15\n",
      "188/200 [===========================>..] - ETA: 0s - loss: 6.9163WARNING:tensorflow:Your input ran out of data; interrupting training. Make sure that your dataset or generator can generate at least `steps_per_epoch * epochs` batches (in this case, 3000 batches). You may need to use the repeat() function when building your dataset.\n",
      "190/200 [===========================>..] - 3s 18ms/step - loss: 6.9691\n",
      "Epoch 1/15\n",
      "200/200 [==============================] - 4s 18ms/step - loss: 6.4572\n",
      "Epoch 2/15\n",
      "200/200 [==============================] - 4s 18ms/step - loss: 6.1985\n",
      "Epoch 3/15\n",
      "200/200 [==============================] - 4s 18ms/step - loss: 7.4531\n",
      "Epoch 4/15\n",
      "200/200 [==============================] - 4s 18ms/step - loss: 5.8955\n",
      "Epoch 5/15\n",
      "200/200 [==============================] - 4s 18ms/step - loss: 7.1972\n",
      "Epoch 6/15\n",
      "200/200 [==============================] - 4s 18ms/step - loss: 6.7419\n",
      "Epoch 7/15\n",
      "200/200 [==============================] - 4s 18ms/step - loss: 5.9734\n",
      "Epoch 8/15\n",
      "200/200 [==============================] - 5s 25ms/step - loss: 6.2073\n",
      "Epoch 9/15\n",
      "200/200 [==============================] - 7s 33ms/step - loss: 6.3218\n",
      "Epoch 10/15\n",
      "200/200 [==============================] - 5s 24ms/step - loss: 6.0296\n",
      "Epoch 11/15\n",
      "200/200 [==============================] - 4s 18ms/step - loss: 6.2656\n",
      "Epoch 12/15\n",
      "200/200 [==============================] - 4s 18ms/step - loss: 6.7062\n",
      "Epoch 13/15\n",
      "200/200 [==============================] - 4s 18ms/step - loss: 6.3793\n",
      "Epoch 14/15\n",
      "200/200 [==============================] - 4s 18ms/step - loss: 6.8901\n",
      "Epoch 15/15\n",
      " 19/200 [=>............................] - ETA: 3s - loss: 4.9168WARNING:tensorflow:Your input ran out of data; interrupting training. Make sure that your dataset or generator can generate at least `steps_per_epoch * epochs` batches (in this case, 3000 batches). You may need to use the repeat() function when building your dataset.\n",
      " 20/200 [==>...........................] - 0s 17ms/step - loss: 4.7890\n",
      "Epoch 1/15\n",
      "200/200 [==============================] - 4s 18ms/step - loss: 7.6225\n",
      "Epoch 2/15\n",
      "200/200 [==============================] - 4s 18ms/step - loss: 6.8019\n",
      "Epoch 3/15\n",
      "200/200 [==============================] - 4s 19ms/step - loss: 6.4127\n",
      "Epoch 4/15\n",
      "200/200 [==============================] - 4s 18ms/step - loss: 5.9262\n",
      "Epoch 5/15\n",
      "200/200 [==============================] - 4s 18ms/step - loss: 6.5574\n",
      "Epoch 6/15\n",
      "200/200 [==============================] - 4s 18ms/step - loss: 6.3025\n",
      "Epoch 7/15\n",
      "200/200 [==============================] - 4s 18ms/step - loss: 6.6696\n",
      "Epoch 8/15\n",
      "200/200 [==============================] - 4s 18ms/step - loss: 6.5323\n",
      "Epoch 9/15\n",
      "200/200 [==============================] - 4s 18ms/step - loss: 5.8121\n",
      "Epoch 10/15\n",
      "200/200 [==============================] - 4s 18ms/step - loss: 6.5413\n",
      "Epoch 11/15\n",
      "200/200 [==============================] - 4s 18ms/step - loss: 6.3166\n",
      "Epoch 12/15\n",
      "200/200 [==============================] - 4s 18ms/step - loss: 6.8779\n",
      "Epoch 13/15\n",
      "200/200 [==============================] - 4s 18ms/step - loss: 6.4739\n",
      "Epoch 14/15\n",
      "200/200 [==============================] - 4s 18ms/step - loss: 6.8490\n",
      "Epoch 15/15\n",
      " 50/200 [======>.......................] - ETA: 2s - loss: 5.6895WARNING:tensorflow:Your input ran out of data; interrupting training. Make sure that your dataset or generator can generate at least `steps_per_epoch * epochs` batches (in this case, 3000 batches). You may need to use the repeat() function when building your dataset.\n",
      " 50/200 [======>.......................] - 1s 17ms/step - loss: 5.6895\n",
      "Epoch 1/15\n",
      "200/200 [==============================] - 4s 18ms/step - loss: 6.6706\n",
      "Epoch 2/15\n",
      "200/200 [==============================] - 4s 18ms/step - loss: 7.1664\n",
      "Epoch 3/15\n",
      "200/200 [==============================] - 4s 18ms/step - loss: 6.2130\n",
      "Epoch 4/15\n",
      "200/200 [==============================] - 4s 18ms/step - loss: 6.4082\n",
      "Epoch 5/15\n",
      "200/200 [==============================] - 4s 19ms/step - loss: 6.6045\n",
      "Epoch 6/15\n",
      "200/200 [==============================] - 4s 18ms/step - loss: 6.7784\n",
      "Epoch 7/15\n",
      "200/200 [==============================] - 4s 18ms/step - loss: 6.8595\n",
      "Epoch 8/15\n",
      "200/200 [==============================] - 4s 18ms/step - loss: 6.4455\n",
      "Epoch 9/15\n",
      "200/200 [==============================] - 4s 18ms/step - loss: 6.5390\n",
      "Epoch 10/15\n",
      "200/200 [==============================] - 3s 17ms/step - loss: 7.5759\n",
      "Epoch 11/15\n",
      "200/200 [==============================] - 3s 17ms/step - loss: 6.5186\n",
      "Epoch 12/15\n",
      "200/200 [==============================] - 4s 19ms/step - loss: 7.1663\n",
      "Epoch 13/15\n",
      "200/200 [==============================] - 4s 20ms/step - loss: 6.0217\n",
      "Epoch 14/15\n",
      "200/200 [==============================] - 4s 19ms/step - loss: 7.0411\n",
      "Epoch 15/15\n",
      " 78/200 [==========>...................] - ETA: 2s - loss: 6.5798WARNING:tensorflow:Your input ran out of data; interrupting training. Make sure that your dataset or generator can generate at least `steps_per_epoch * epochs` batches (in this case, 3000 batches). You may need to use the repeat() function when building your dataset.\n",
      " 80/200 [===========>..................] - 2s 19ms/step - loss: 6.4626\n",
      "Epoch 1/15\n",
      "200/200 [==============================] - 4s 18ms/step - loss: 7.5857\n",
      "Epoch 2/15\n",
      "200/200 [==============================] - 4s 18ms/step - loss: 7.1572\n",
      "Epoch 3/15\n",
      "200/200 [==============================] - 4s 18ms/step - loss: 7.3239\n",
      "Epoch 4/15\n",
      "200/200 [==============================] - 4s 18ms/step - loss: 7.4846\n",
      "Epoch 5/15\n",
      "200/200 [==============================] - 4s 18ms/step - loss: 7.2185\n",
      "Epoch 6/15\n",
      "200/200 [==============================] - 4s 18ms/step - loss: 6.9747\n",
      "Epoch 7/15\n",
      "200/200 [==============================] - 4s 18ms/step - loss: 7.5042\n",
      "Epoch 8/15\n",
      "200/200 [==============================] - 4s 18ms/step - loss: 8.1959\n",
      "Epoch 9/15\n",
      "200/200 [==============================] - 4s 18ms/step - loss: 8.2349\n",
      "Epoch 10/15\n",
      "200/200 [==============================] - 4s 18ms/step - loss: 7.2071\n",
      "Epoch 11/15\n",
      "200/200 [==============================] - 4s 18ms/step - loss: 7.6884\n",
      "Epoch 12/15\n",
      "200/200 [==============================] - 4s 19ms/step - loss: 6.9640\n",
      "Epoch 13/15\n",
      "200/200 [==============================] - 4s 18ms/step - loss: 7.2695\n",
      "Epoch 14/15\n",
      "200/200 [==============================] - 4s 18ms/step - loss: 6.7434\n",
      "Epoch 15/15\n",
      "124/200 [=================>............] - ETA: 1s - loss: 7.4992WARNING:tensorflow:Your input ran out of data; interrupting training. Make sure that your dataset or generator can generate at least `steps_per_epoch * epochs` batches (in this case, 3000 batches). You may need to use the repeat() function when building your dataset.\n",
      "125/200 [=================>............] - 2s 18ms/step - loss: 7.4927\n",
      "Epoch 1/15\n",
      "200/200 [==============================] - 4s 18ms/step - loss: 8.4781\n",
      "Epoch 2/15\n",
      "200/200 [==============================] - 4s 19ms/step - loss: 9.5509\n",
      "Epoch 3/15\n",
      "200/200 [==============================] - 4s 18ms/step - loss: 9.2255\n",
      "Epoch 4/15\n",
      "200/200 [==============================] - 4s 18ms/step - loss: 7.9568\n",
      "Epoch 5/15\n",
      "200/200 [==============================] - 4s 18ms/step - loss: 8.7453\n",
      "Epoch 6/15\n",
      "200/200 [==============================] - 4s 19ms/step - loss: 10.0628\n",
      "Epoch 7/15\n",
      "200/200 [==============================] - 4s 18ms/step - loss: 8.4774\n",
      "Epoch 8/15\n",
      "200/200 [==============================] - 4s 18ms/step - loss: 8.8998\n",
      "Epoch 9/15\n",
      "200/200 [==============================] - 4s 18ms/step - loss: 10.2379\n",
      "Epoch 10/15\n",
      "200/200 [==============================] - 4s 18ms/step - loss: 9.0485\n",
      "Epoch 11/15\n",
      "200/200 [==============================] - 4s 18ms/step - loss: 8.2814\n",
      "Epoch 12/15\n",
      "200/200 [==============================] - 4s 18ms/step - loss: 8.1596\n",
      "Epoch 13/15\n",
      "200/200 [==============================] - 4s 18ms/step - loss: 10.0482\n",
      "Epoch 14/15\n",
      "200/200 [==============================] - 4s 18ms/step - loss: 9.8831\n",
      "Epoch 15/15\n",
      "153/200 [=====================>........] - ETA: 0s - loss: 8.6856WARNING:tensorflow:Your input ran out of data; interrupting training. Make sure that your dataset or generator can generate at least `steps_per_epoch * epochs` batches (in this case, 3000 batches). You may need to use the repeat() function when building your dataset.\n",
      "155/200 [======================>.......] - 3s 18ms/step - loss: 8.6850\n",
      "Epoch 1/15\n",
      "200/200 [==============================] - 4s 18ms/step - loss: 8.7497\n",
      "Epoch 2/15\n",
      "200/200 [==============================] - 4s 18ms/step - loss: 7.8008\n",
      "Epoch 3/15\n",
      "200/200 [==============================] - 4s 18ms/step - loss: 8.3993\n",
      "Epoch 4/15\n",
      "200/200 [==============================] - 4s 18ms/step - loss: 15.2393\n",
      "Epoch 5/15\n",
      "200/200 [==============================] - 4s 18ms/step - loss: 32.2594\n",
      "Epoch 6/15\n",
      "200/200 [==============================] - 4s 18ms/step - loss: 17.4538\n",
      "Epoch 7/15\n",
      "200/200 [==============================] - 4s 18ms/step - loss: 12.9983\n",
      "Epoch 8/15\n",
      "200/200 [==============================] - 4s 18ms/step - loss: 10.5459\n",
      "Epoch 9/15\n",
      "200/200 [==============================] - 4s 18ms/step - loss: 18.6563\n",
      "Epoch 10/15\n",
      "200/200 [==============================] - 4s 18ms/step - loss: 18.4459\n",
      "Epoch 11/15\n",
      "200/200 [==============================] - 4s 18ms/step - loss: 17.4284\n",
      "Epoch 12/15\n",
      "200/200 [==============================] - 4s 18ms/step - loss: 14.7474\n",
      "Epoch 13/15\n",
      "200/200 [==============================] - 4s 18ms/step - loss: 15.5064\n",
      "Epoch 14/15\n",
      "200/200 [==============================] - 4s 18ms/step - loss: 10.4718\n",
      "Epoch 15/15\n",
      "183/200 [==========================>...] - ETA: 0s - loss: 11.8676WARNING:tensorflow:Your input ran out of data; interrupting training. Make sure that your dataset or generator can generate at least `steps_per_epoch * epochs` batches (in this case, 3000 batches). You may need to use the repeat() function when building your dataset.\n",
      "185/200 [==========================>...] - 3s 19ms/step - loss: 11.7935\n",
      "Epoch 1/15\n",
      "200/200 [==============================] - 4s 19ms/step - loss: 31.3237\n",
      "Epoch 2/15\n",
      "200/200 [==============================] - 4s 19ms/step - loss: 55.2747\n",
      "Epoch 3/15\n",
      "200/200 [==============================] - 4s 19ms/step - loss: 18.3478\n",
      "Epoch 4/15\n",
      "200/200 [==============================] - 4s 19ms/step - loss: 13.2197\n",
      "Epoch 5/15\n",
      "200/200 [==============================] - 4s 19ms/step - loss: 10.2389\n",
      "Epoch 6/15\n",
      "200/200 [==============================] - 4s 19ms/step - loss: 11.3521\n",
      "Epoch 7/15\n",
      "200/200 [==============================] - 4s 18ms/step - loss: 11.8146\n",
      "Epoch 8/15\n",
      "200/200 [==============================] - 4s 18ms/step - loss: 16.1322\n",
      "Epoch 9/15\n",
      "200/200 [==============================] - 4s 18ms/step - loss: 16.3279\n",
      "Epoch 10/15\n",
      "200/200 [==============================] - 4s 18ms/step - loss: 14.0721\n",
      "Epoch 11/15\n",
      "200/200 [==============================] - 4s 18ms/step - loss: 14.2174\n",
      "Epoch 12/15\n",
      "200/200 [==============================] - 4s 18ms/step - loss: 12.9964\n",
      "Epoch 13/15\n",
      "200/200 [==============================] - 4s 19ms/step - loss: 13.0482\n",
      "Epoch 14/15\n",
      " 40/200 [=====>........................] - ETA: 2s - loss: 7.6980WARNING:tensorflow:Your input ran out of data; interrupting training. Make sure that your dataset or generator can generate at least `steps_per_epoch * epochs` batches (in this case, 3000 batches). You may need to use the repeat() function when building your dataset.\n",
      " 40/200 [=====>........................] - 1s 19ms/step - loss: 7.6980\n",
      "Epoch 1/15\n",
      "200/200 [==============================] - 4s 18ms/step - loss: 14.3482\n",
      "Epoch 2/15\n",
      "200/200 [==============================] - 4s 18ms/step - loss: 10.5606\n",
      "Epoch 3/15\n",
      "200/200 [==============================] - 4s 18ms/step - loss: 12.5052\n",
      "Epoch 4/15\n",
      "200/200 [==============================] - 4s 18ms/step - loss: 12.1352\n",
      "Epoch 5/15\n",
      "200/200 [==============================] - 4s 18ms/step - loss: 10.6671\n",
      "Epoch 6/15\n",
      "200/200 [==============================] - 4s 19ms/step - loss: 11.3942\n",
      "Epoch 7/15\n",
      "200/200 [==============================] - 4s 18ms/step - loss: 11.2902\n",
      "Epoch 8/15\n",
      "200/200 [==============================] - 4s 19ms/step - loss: 11.0324\n",
      "Epoch 9/15\n",
      "200/200 [==============================] - 4s 18ms/step - loss: 12.3733\n",
      "Epoch 10/15\n",
      "200/200 [==============================] - 4s 19ms/step - loss: 10.8393\n",
      "Epoch 11/15\n",
      "200/200 [==============================] - 4s 19ms/step - loss: 11.4499\n",
      "Epoch 12/15\n",
      "200/200 [==============================] - 4s 19ms/step - loss: 12.8613\n",
      "Epoch 13/15\n",
      "200/200 [==============================] - 4s 18ms/step - loss: 10.1947\n",
      "Epoch 14/15\n",
      " 70/200 [=========>....................] - ETA: 2s - loss: 9.9679 WARNING:tensorflow:Your input ran out of data; interrupting training. Make sure that your dataset or generator can generate at least `steps_per_epoch * epochs` batches (in this case, 3000 batches). You may need to use the repeat() function when building your dataset.\n",
      " 70/200 [=========>....................] - 1s 19ms/step - loss: 9.9679\n",
      "Epoch 1/15\n",
      "200/200 [==============================] - 4s 19ms/step - loss: 10.6249\n",
      "Epoch 2/15\n",
      "200/200 [==============================] - 4s 19ms/step - loss: 11.9952\n",
      "Epoch 3/15\n",
      "200/200 [==============================] - 4s 19ms/step - loss: 11.7232\n",
      "Epoch 4/15\n",
      "200/200 [==============================] - 4s 19ms/step - loss: 11.9544\n",
      "Epoch 5/15\n",
      "200/200 [==============================] - 4s 19ms/step - loss: 10.8735\n",
      "Epoch 6/15\n",
      "200/200 [==============================] - 4s 18ms/step - loss: 9.2780\n",
      "Epoch 7/15\n",
      "200/200 [==============================] - 4s 19ms/step - loss: 9.1876\n",
      "Epoch 8/15\n",
      "200/200 [==============================] - 4s 19ms/step - loss: 13.7036\n",
      "Epoch 9/15\n",
      "200/200 [==============================] - 4s 18ms/step - loss: 10.3211\n",
      "Epoch 10/15\n",
      "200/200 [==============================] - 4s 19ms/step - loss: 10.3870\n",
      "Epoch 11/15\n",
      "200/200 [==============================] - 4s 19ms/step - loss: 10.3445\n",
      "Epoch 12/15\n",
      "200/200 [==============================] - 4s 20ms/step - loss: 13.2553\n",
      "Epoch 13/15\n",
      "200/200 [==============================] - 4s 19ms/step - loss: 11.4583\n",
      "Epoch 14/15\n",
      "100/200 [==============>...............] - ETA: 1s - loss: 10.4313WARNING:tensorflow:Your input ran out of data; interrupting training. Make sure that your dataset or generator can generate at least `steps_per_epoch * epochs` batches (in this case, 3000 batches). You may need to use the repeat() function when building your dataset.\n",
      "100/200 [==============>...............] - 2s 18ms/step - loss: 10.4313\n",
      "Epoch 1/15\n",
      "200/200 [==============================] - 4s 19ms/step - loss: 10.4157\n",
      "Epoch 2/15\n",
      "200/200 [==============================] - 4s 19ms/step - loss: 11.7977\n",
      "Epoch 3/15\n",
      "200/200 [==============================] - 4s 18ms/step - loss: 11.5276\n",
      "Epoch 4/15\n",
      "200/200 [==============================] - 4s 19ms/step - loss: 11.4993\n",
      "Epoch 5/15\n",
      "200/200 [==============================] - 4s 19ms/step - loss: 10.6667\n",
      "Epoch 6/15\n",
      "200/200 [==============================] - 4s 18ms/step - loss: 8.1184\n",
      "Epoch 7/15\n",
      "200/200 [==============================] - 4s 18ms/step - loss: 10.8492\n",
      "Epoch 8/15\n",
      "200/200 [==============================] - 4s 19ms/step - loss: 12.1195\n",
      "Epoch 9/15\n",
      "200/200 [==============================] - 4s 19ms/step - loss: 12.1688\n",
      "Epoch 10/15\n",
      "200/200 [==============================] - 4s 18ms/step - loss: 19.7353\n",
      "Epoch 11/15\n",
      "200/200 [==============================] - 4s 18ms/step - loss: 13.1014\n",
      "Epoch 12/15\n",
      "200/200 [==============================] - 4s 18ms/step - loss: 12.0489\n",
      "Epoch 13/15\n",
      "200/200 [==============================] - 4s 18ms/step - loss: 13.3436\n",
      "Epoch 14/15\n",
      "129/200 [==================>...........] - ETA: 1s - loss: 11.6761WARNING:tensorflow:Your input ran out of data; interrupting training. Make sure that your dataset or generator can generate at least `steps_per_epoch * epochs` batches (in this case, 3000 batches). You may need to use the repeat() function when building your dataset.\n",
      "130/200 [==================>...........] - 2s 18ms/step - loss: 11.6708\n"
     ]
    },
    {
     "ename": "IndexError",
     "evalue": "ignored",
     "output_type": "error",
     "traceback": [
      "\u001b[0;31m---------------------------------------------------------------------------\u001b[0m",
      "\u001b[0;31mIndexError\u001b[0m                                Traceback (most recent call last)",
      "\u001b[0;32m<ipython-input-10-07b2c83a32b6>\u001b[0m in \u001b[0;36m<module>\u001b[0;34m()\u001b[0m\n\u001b[1;32m     12\u001b[0m \u001b[0;34m\u001b[0m\u001b[0m\n\u001b[1;32m     13\u001b[0m   \u001b[0my_pred\u001b[0m\u001b[0;34m.\u001b[0m\u001b[0mextend\u001b[0m\u001b[0;34m(\u001b[0m\u001b[0;34m[\u001b[0m\u001b[0mprice\u001b[0m\u001b[0;34m[\u001b[0m\u001b[0;36m0\u001b[0m\u001b[0;34m]\u001b[0m \u001b[0;32mfor\u001b[0m \u001b[0mprice\u001b[0m \u001b[0;32min\u001b[0m \u001b[0mprediction\u001b[0m\u001b[0;34m.\u001b[0m\u001b[0mtolist\u001b[0m\u001b[0;34m(\u001b[0m\u001b[0;34m)\u001b[0m\u001b[0;34m[\u001b[0m\u001b[0;36m0\u001b[0m\u001b[0;34m]\u001b[0m\u001b[0;34m]\u001b[0m\u001b[0;34m)\u001b[0m\u001b[0;34m\u001b[0m\u001b[0;34m\u001b[0m\u001b[0m\n\u001b[0;32m---> 14\u001b[0;31m   \u001b[0my_test\u001b[0m\u001b[0;34m.\u001b[0m\u001b[0mextend\u001b[0m\u001b[0;34m(\u001b[0m\u001b[0my\u001b[0m\u001b[0;34m[\u001b[0m\u001b[0mindex\u001b[0m\u001b[0;34m+\u001b[0m\u001b[0;36m15\u001b[0m\u001b[0;34m]\u001b[0m\u001b[0;34m)\u001b[0m\u001b[0;34m\u001b[0m\u001b[0;34m\u001b[0m\u001b[0m\n\u001b[0m",
      "\u001b[0;31mIndexError\u001b[0m: list index out of range"
     ]
    }
   ],
   "source": [
    "y_pred = []\n",
    "y_test = []\n",
    "cnt = 0\n",
    "for index in range(partition,len(x),15):\n",
    "  x_train, y_train = np.array(x[:index]), np.array(y[:index])\n",
    "  decoder_input = np.array(decoder_values[:index])\n",
    "  model.fit([x_train,decoder_input],y_train, steps_per_epoch=steps_per_epoch, epochs=epochs)\n",
    "\n",
    "  new_x_test = np.array([y[index]])\n",
    "  new_decoded = np.array([15*[0]])\n",
    "  prediction = model.predict([new_x_test,new_decoded])\n",
    "\n",
    "  y_pred.extend([price[0] for price in prediction.tolist()[0]])\n",
    "  y_test.extend(y[index+15])"
   ]
  },
  {
   "cell_type": "code",
   "execution_count": null,
   "metadata": {
    "colab": {
     "base_uri": "https://localhost:8080/"
    },
    "id": "jLNUWfg-zfcG",
    "outputId": "065d4c73-2a61-4505-fb0a-cf3b8cb86e28"
   },
   "outputs": [
    {
     "data": {
      "text/plain": [
       "(1449, 15)"
      ]
     },
     "execution_count": 11,
     "metadata": {
      "tags": []
     },
     "output_type": "execute_result"
    }
   ],
   "source": [
    "x_train.shape"
   ]
  },
  {
   "cell_type": "code",
   "execution_count": null,
   "metadata": {
    "colab": {
     "base_uri": "https://localhost:8080/"
    },
    "id": "brD76xdAzif3",
    "outputId": "0a433f04-b6a1-49a0-8d17-dea48f5b57b9"
   },
   "outputs": [
    {
     "data": {
      "text/plain": [
       "(1449, 15)"
      ]
     },
     "execution_count": 12,
     "metadata": {
      "tags": []
     },
     "output_type": "execute_result"
    }
   ],
   "source": [
    "y_train.shape"
   ]
  },
  {
   "cell_type": "code",
   "execution_count": null,
   "metadata": {
    "colab": {
     "base_uri": "https://localhost:8080/"
    },
    "id": "32mT-iLSzzxb",
    "outputId": "cfa5bcd0-7811-4786-a1f1-b41d71bfcfec"
   },
   "outputs": [
    {
     "data": {
      "text/plain": [
       "(1449, 15)"
      ]
     },
     "execution_count": 13,
     "metadata": {
      "tags": []
     },
     "output_type": "execute_result"
    }
   ],
   "source": [
    "decoder_input.shape"
   ]
  },
  {
   "cell_type": "markdown",
   "metadata": {},
   "source": [
    "**Prediction visualization**"
   ]
  },
  {
   "cell_type": "code",
   "execution_count": null,
   "metadata": {
    "id": "Ug1KzsV9kbWL"
   },
   "outputs": [],
   "source": [
    "training_data = []\n",
    "training_data.extend(x[0])\n",
    "for i in range(1,partition):\n",
    "  training_data.append(x[i][14])\n",
    "training_data.extend(y[partition-1])"
   ]
  },
  {
   "cell_type": "code",
   "execution_count": null,
   "metadata": {
    "colab": {
     "base_uri": "https://localhost:8080/",
     "height": 514
    },
    "id": "GAhIail9M_BC",
    "outputId": "aa10bcc8-2c4e-41bd-df05-eabbfe99d874"
   },
   "outputs": [
    {
     "data": {
      "text/plain": [
       "<matplotlib.legend.Legend at 0x7f63acb5cd68>"
      ]
     },
     "execution_count": 15,
     "metadata": {
      "tags": []
     },
     "output_type": "execute_result"
    },
    {
     "data": {
      "image/png": "[encoded data removed]",
      "text/plain": [
       "<Figure size 1152x576 with 1 Axes>"
      ]
     },
     "metadata": {
      "needs_background": "light",
      "tags": []
     },
     "output_type": "display_data"
    }
   ],
   "source": [
    "plt.figure(figsize=(16,8))\n",
    "plt.plot(df.index[:len(training_data)],training_data, label='Training Data')\n",
    "\n",
    "plt.plot(df.index[len(training_data):], y_pred[:len(df)-len(training_data)], color='green', label='Predicted Price')\n",
    "plt.plot(df.index[len(training_data):len(y_test)+len(training_data)], y_test, color='red', label='Actual Price')\n",
    "\n",
    "#plt.plot(df.index[len(training_data):len(training_data) + len(y_pred)], y_pred, color='green', label='Predicted Price')\n",
    "#plt.plot(df.index[len(training_data):len(training_data) + len(y_pred)], y_test, color='red', label='Actual Price')\n",
    "plt.xlabel('Dates')\n",
    "plt.ylabel('Prices')\n",
    "plt.legend()"
   ]
  },
  {
   "cell_type": "markdown",
   "metadata": {},
   "source": [
    "**Generate prediction error**"
   ]
  },
  {
   "cell_type": "code",
   "execution_count": null,
   "metadata": {
    "colab": {
     "base_uri": "https://localhost:8080/"
    },
    "id": "3ZXhLL-oqzMi",
    "outputId": "b4be44f0-73db-4043-a6ea-473ea970f9d9"
   },
   "outputs": [
    {
     "name": "stdout",
     "output_type": "stream",
     "text": [
      "138.75525736615523\n"
     ]
    }
   ],
   "source": [
    "error = mean_squared_error(y_test, y_pred[:len(y_test)])\n",
    "#error = mean_absolute_error(x_test[0], y_test_predicted[0])\n",
    "print(error)"
   ]
  },
  {
   "cell_type": "code",
   "execution_count": null,
   "metadata": {
    "id": "hHlDGbdbH_Ph"
   },
   "outputs": [],
   "source": [
    "def mean_absolute_percentage_error(y_true, y_pred): \n",
    "    y_true, y_pred = np.array(y_true), np.array(y_pred)\n",
    "    return np.mean(np.abs((y_true - y_pred) / y_true)) * 100"
   ]
  },
  {
   "cell_type": "code",
   "execution_count": null,
   "metadata": {
    "colab": {
     "base_uri": "https://localhost:8080/"
    },
    "id": "fWco2NGlIAKD",
    "outputId": "087e97db-025d-4689-e101-5181d13950fb"
   },
   "outputs": [
    {
     "name": "stdout",
     "output_type": "stream",
     "text": [
      "10.864489573784269\n"
     ]
    }
   ],
   "source": [
    "error = mean_absolute_percentage_error(y_test,y_pred[:len(y_test)])\n",
    "print(error)"
   ]
  }
 ],
 "metadata": {
  "colab": {
   "collapsed_sections": [],
   "name": "Apple_seq2seq.ipynb",
   "provenance": []
  },
  "kernelspec": {
   "display_name": "Python 3",
   "language": "python",
   "name": "python3"
  },
  "language_info": {
   "codemirror_mode": {
    "name": "ipython",
    "version": 3
   },
   "file_extension": ".py",
   "mimetype": "text/x-python",
   "name": "python",
   "nbconvert_exporter": "python",
   "pygments_lexer": "ipython3",
   "version": "3.7.1"
  }
 },
 "nbformat": 4,
 "nbformat_minor": 1
}
