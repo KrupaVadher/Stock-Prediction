{
  "nbformat": 4,
  "nbformat_minor": 0,
  "metadata": {
    "colab": {
      "name": "RNN_With_Semantic.ipynb",
      "provenance": [],
      "toc_visible": true
    },
    "kernelspec": {
      "name": "python3",
      "display_name": "Python 3"
    }
  },
  "cells": [
    {
      "cell_type": "markdown",
      "metadata": {
        "id": "DfQXsI4HrDf7"
      },
      "source": [
        "### <font color=\"green\"> RNN Model for Stock prediction using stock data and news semantic scores</font>"
      ]
    },
    {
      "cell_type": "markdown",
      "metadata": {
        "id": "lpG6jdsCrPFF"
      },
      "source": [
        "**Import Libraries**"
      ]
    },
    {
      "cell_type": "code",
      "metadata": {
        "id": "vbDcsDylh5RF"
      },
      "source": [
        "#Import Libraries\n",
        "import math\n",
        "import time\n",
        "import pandas_datareader as web\n",
        "import numpy as np\n",
        "import pandas as pd\n",
        "from sklearn.preprocessing import MinMaxScaler\n",
        "import sklearn.preprocessing as prep\n",
        "from keras.models import Sequential\n",
        "from keras.layers.core import Dense, Dropout, Activation\n",
        "from keras.layers.recurrent import GRU\n",
        "from sklearn.metrics import mean_squared_error\n",
        "import matplotlib.pyplot as plt\n",
        "plt.style.use('fivethirtyeight')"
      ],
      "execution_count": 1,
      "outputs": []
    },
    {
      "cell_type": "markdown",
      "metadata": {
        "id": "_LmngQz9rVli"
      },
      "source": [
        "**Get the Stock Data and Visualize**"
      ]
    },
    {
      "cell_type": "code",
      "metadata": {
        "id": "is2b_dO8h_3E",
        "colab": {
          "base_uri": "https://localhost:8080/",
          "height": 235
        },
        "outputId": "9d75be74-d2a9-4d79-ea7e-0bc40ce3ffd3"
      },
      "source": [
        "#Fetch data from Yahoo finance \n",
        "df = web.DataReader('AMD', data_source='yahoo', start='2016-07-22', end='2020-05-26') \n",
        "\n",
        "#To get the stock data for companies Apple, Tesla, AMD and Disney uncomment the respective lines below\n",
        "#df = web.DataReader('TSLA', data_source='yahoo', start='2012-01-01', end='2019-12-31') \n",
        "#df = web.DataReader('AMD', data_source='yahoo', start='2012-01-01', end='2019-12-31') \n",
        "#df = web.DataReader('AAPL', data_source='yahoo', start='2012-01-01', end='2019-12-31') \n",
        "#Show the data \n",
        "df.head(5)"
      ],
      "execution_count": 2,
      "outputs": [
        {
          "output_type": "execute_result",
          "data": {
            "text/html": [
              "<div>\n",
              "<style scoped>\n",
              "    .dataframe tbody tr th:only-of-type {\n",
              "        vertical-align: middle;\n",
              "    }\n",
              "\n",
              "    .dataframe tbody tr th {\n",
              "        vertical-align: top;\n",
              "    }\n",
              "\n",
              "    .dataframe thead th {\n",
              "        text-align: right;\n",
              "    }\n",
              "</style>\n",
              "<table border=\"1\" class=\"dataframe\">\n",
              "  <thead>\n",
              "    <tr style=\"text-align: right;\">\n",
              "      <th></th>\n",
              "      <th>High</th>\n",
              "      <th>Low</th>\n",
              "      <th>Open</th>\n",
              "      <th>Close</th>\n",
              "      <th>Volume</th>\n",
              "      <th>Adj Close</th>\n",
              "    </tr>\n",
              "    <tr>\n",
              "      <th>Date</th>\n",
              "      <th></th>\n",
              "      <th></th>\n",
              "      <th></th>\n",
              "      <th></th>\n",
              "      <th></th>\n",
              "      <th></th>\n",
              "    </tr>\n",
              "  </thead>\n",
              "  <tbody>\n",
              "    <tr>\n",
              "      <th>2016-07-22</th>\n",
              "      <td>5.97</td>\n",
              "      <td>5.45</td>\n",
              "      <td>5.73</td>\n",
              "      <td>5.84</td>\n",
              "      <td>101838300</td>\n",
              "      <td>5.84</td>\n",
              "    </tr>\n",
              "    <tr>\n",
              "      <th>2016-07-25</th>\n",
              "      <td>6.95</td>\n",
              "      <td>5.92</td>\n",
              "      <td>5.93</td>\n",
              "      <td>6.70</td>\n",
              "      <td>118328600</td>\n",
              "      <td>6.70</td>\n",
              "    </tr>\n",
              "    <tr>\n",
              "      <th>2016-07-26</th>\n",
              "      <td>7.16</td>\n",
              "      <td>6.71</td>\n",
              "      <td>6.76</td>\n",
              "      <td>6.98</td>\n",
              "      <td>81230600</td>\n",
              "      <td>6.98</td>\n",
              "    </tr>\n",
              "    <tr>\n",
              "      <th>2016-07-27</th>\n",
              "      <td>6.98</td>\n",
              "      <td>6.68</td>\n",
              "      <td>6.93</td>\n",
              "      <td>6.85</td>\n",
              "      <td>38567300</td>\n",
              "      <td>6.85</td>\n",
              "    </tr>\n",
              "    <tr>\n",
              "      <th>2016-07-28</th>\n",
              "      <td>6.98</td>\n",
              "      <td>6.74</td>\n",
              "      <td>6.79</td>\n",
              "      <td>6.82</td>\n",
              "      <td>27515600</td>\n",
              "      <td>6.82</td>\n",
              "    </tr>\n",
              "  </tbody>\n",
              "</table>\n",
              "</div>"
            ],
            "text/plain": [
              "            High   Low  Open  Close     Volume  Adj Close\n",
              "Date                                                     \n",
              "2016-07-22  5.97  5.45  5.73   5.84  101838300       5.84\n",
              "2016-07-25  6.95  5.92  5.93   6.70  118328600       6.70\n",
              "2016-07-26  7.16  6.71  6.76   6.98   81230600       6.98\n",
              "2016-07-27  6.98  6.68  6.93   6.85   38567300       6.85\n",
              "2016-07-28  6.98  6.74  6.79   6.82   27515600       6.82"
            ]
          },
          "metadata": {
            "tags": []
          },
          "execution_count": 2
        }
      ]
    },
    {
      "cell_type": "code",
      "metadata": {
        "id": "T8ADKqiRda1A",
        "colab": {
          "base_uri": "https://localhost:8080/",
          "height": 142
        },
        "outputId": "bf074b40-2814-4d2e-927e-12c9e31a1403"
      },
      "source": [
        "#import sematic scores\n",
        "newsScores=pd.read_csv('amd-scores.csv')\n",
        "newsScores.head(3)"
      ],
      "execution_count": 3,
      "outputs": [
        {
          "output_type": "execute_result",
          "data": {
            "text/html": [
              "<div>\n",
              "<style scoped>\n",
              "    .dataframe tbody tr th:only-of-type {\n",
              "        vertical-align: middle;\n",
              "    }\n",
              "\n",
              "    .dataframe tbody tr th {\n",
              "        vertical-align: top;\n",
              "    }\n",
              "\n",
              "    .dataframe thead th {\n",
              "        text-align: right;\n",
              "    }\n",
              "</style>\n",
              "<table border=\"1\" class=\"dataframe\">\n",
              "  <thead>\n",
              "    <tr style=\"text-align: right;\">\n",
              "      <th></th>\n",
              "      <th>date</th>\n",
              "      <th>final_semantic_score</th>\n",
              "    </tr>\n",
              "  </thead>\n",
              "  <tbody>\n",
              "    <tr>\n",
              "      <th>0</th>\n",
              "      <td>2016-07-22</td>\n",
              "      <td>0.291504</td>\n",
              "    </tr>\n",
              "    <tr>\n",
              "      <th>1</th>\n",
              "      <td>2016-07-23</td>\n",
              "      <td>NaN</td>\n",
              "    </tr>\n",
              "    <tr>\n",
              "      <th>2</th>\n",
              "      <td>2016-07-24</td>\n",
              "      <td>NaN</td>\n",
              "    </tr>\n",
              "  </tbody>\n",
              "</table>\n",
              "</div>"
            ],
            "text/plain": [
              "         date  final_semantic_score\n",
              "0  2016-07-22              0.291504\n",
              "1  2016-07-23                   NaN\n",
              "2  2016-07-24                   NaN"
            ]
          },
          "metadata": {
            "tags": []
          },
          "execution_count": 3
        }
      ]
    },
    {
      "cell_type": "code",
      "metadata": {
        "id": "h2kkebsldmWR",
        "colab": {
          "base_uri": "https://localhost:8080/",
          "height": 142
        },
        "outputId": "e752f5fa-44a7-408a-a504-eb619d26d472"
      },
      "source": [
        "#Eleminate Nan values by replacing with previous value\n",
        "newsScores=newsScores.ffill(axis=0)\n",
        "newsScores.head(3)"
      ],
      "execution_count": 4,
      "outputs": [
        {
          "output_type": "execute_result",
          "data": {
            "text/html": [
              "<div>\n",
              "<style scoped>\n",
              "    .dataframe tbody tr th:only-of-type {\n",
              "        vertical-align: middle;\n",
              "    }\n",
              "\n",
              "    .dataframe tbody tr th {\n",
              "        vertical-align: top;\n",
              "    }\n",
              "\n",
              "    .dataframe thead th {\n",
              "        text-align: right;\n",
              "    }\n",
              "</style>\n",
              "<table border=\"1\" class=\"dataframe\">\n",
              "  <thead>\n",
              "    <tr style=\"text-align: right;\">\n",
              "      <th></th>\n",
              "      <th>date</th>\n",
              "      <th>final_semantic_score</th>\n",
              "    </tr>\n",
              "  </thead>\n",
              "  <tbody>\n",
              "    <tr>\n",
              "      <th>0</th>\n",
              "      <td>2016-07-22</td>\n",
              "      <td>0.291504</td>\n",
              "    </tr>\n",
              "    <tr>\n",
              "      <th>1</th>\n",
              "      <td>2016-07-23</td>\n",
              "      <td>0.291504</td>\n",
              "    </tr>\n",
              "    <tr>\n",
              "      <th>2</th>\n",
              "      <td>2016-07-24</td>\n",
              "      <td>0.291504</td>\n",
              "    </tr>\n",
              "  </tbody>\n",
              "</table>\n",
              "</div>"
            ],
            "text/plain": [
              "         date  final_semantic_score\n",
              "0  2016-07-22              0.291504\n",
              "1  2016-07-23              0.291504\n",
              "2  2016-07-24              0.291504"
            ]
          },
          "metadata": {
            "tags": []
          },
          "execution_count": 4
        }
      ]
    },
    {
      "cell_type": "code",
      "metadata": {
        "id": "Lj3jnH97dt9z",
        "colab": {
          "base_uri": "https://localhost:8080/",
          "height": 142
        },
        "outputId": "7ff418a0-ac81-4f1a-a483-84cc3311bad7"
      },
      "source": [
        "df1=df.reset_index()\n",
        "df1.head(3)"
      ],
      "execution_count": 5,
      "outputs": [
        {
          "output_type": "execute_result",
          "data": {
            "text/html": [
              "<div>\n",
              "<style scoped>\n",
              "    .dataframe tbody tr th:only-of-type {\n",
              "        vertical-align: middle;\n",
              "    }\n",
              "\n",
              "    .dataframe tbody tr th {\n",
              "        vertical-align: top;\n",
              "    }\n",
              "\n",
              "    .dataframe thead th {\n",
              "        text-align: right;\n",
              "    }\n",
              "</style>\n",
              "<table border=\"1\" class=\"dataframe\">\n",
              "  <thead>\n",
              "    <tr style=\"text-align: right;\">\n",
              "      <th></th>\n",
              "      <th>Date</th>\n",
              "      <th>High</th>\n",
              "      <th>Low</th>\n",
              "      <th>Open</th>\n",
              "      <th>Close</th>\n",
              "      <th>Volume</th>\n",
              "      <th>Adj Close</th>\n",
              "    </tr>\n",
              "  </thead>\n",
              "  <tbody>\n",
              "    <tr>\n",
              "      <th>0</th>\n",
              "      <td>2016-07-22</td>\n",
              "      <td>5.97</td>\n",
              "      <td>5.45</td>\n",
              "      <td>5.73</td>\n",
              "      <td>5.84</td>\n",
              "      <td>101838300</td>\n",
              "      <td>5.84</td>\n",
              "    </tr>\n",
              "    <tr>\n",
              "      <th>1</th>\n",
              "      <td>2016-07-25</td>\n",
              "      <td>6.95</td>\n",
              "      <td>5.92</td>\n",
              "      <td>5.93</td>\n",
              "      <td>6.70</td>\n",
              "      <td>118328600</td>\n",
              "      <td>6.70</td>\n",
              "    </tr>\n",
              "    <tr>\n",
              "      <th>2</th>\n",
              "      <td>2016-07-26</td>\n",
              "      <td>7.16</td>\n",
              "      <td>6.71</td>\n",
              "      <td>6.76</td>\n",
              "      <td>6.98</td>\n",
              "      <td>81230600</td>\n",
              "      <td>6.98</td>\n",
              "    </tr>\n",
              "  </tbody>\n",
              "</table>\n",
              "</div>"
            ],
            "text/plain": [
              "        Date  High   Low  Open  Close     Volume  Adj Close\n",
              "0 2016-07-22  5.97  5.45  5.73   5.84  101838300       5.84\n",
              "1 2016-07-25  6.95  5.92  5.93   6.70  118328600       6.70\n",
              "2 2016-07-26  7.16  6.71  6.76   6.98   81230600       6.98"
            ]
          },
          "metadata": {
            "tags": []
          },
          "execution_count": 5
        }
      ]
    },
    {
      "cell_type": "code",
      "metadata": {
        "id": "PzjTLEDFd2Fm",
        "colab": {
          "base_uri": "https://localhost:8080/",
          "height": 142
        },
        "outputId": "3be36b79-022e-4ae9-84fe-fc64704a0b8b"
      },
      "source": [
        "#combine the semantic score with stock data\n",
        "newsScores['date'] = pd.to_datetime(newsScores['date'])\n",
        "merged_data = pd.merge(left=df1, right=newsScores, left_on='Date', right_on='date') #merge datasets\n",
        "merged_data.drop(['date'], axis=1,inplace=True) #remove redundant column\n",
        "merged_data.head(3)"
      ],
      "execution_count": 6,
      "outputs": [
        {
          "output_type": "execute_result",
          "data": {
            "text/html": [
              "<div>\n",
              "<style scoped>\n",
              "    .dataframe tbody tr th:only-of-type {\n",
              "        vertical-align: middle;\n",
              "    }\n",
              "\n",
              "    .dataframe tbody tr th {\n",
              "        vertical-align: top;\n",
              "    }\n",
              "\n",
              "    .dataframe thead th {\n",
              "        text-align: right;\n",
              "    }\n",
              "</style>\n",
              "<table border=\"1\" class=\"dataframe\">\n",
              "  <thead>\n",
              "    <tr style=\"text-align: right;\">\n",
              "      <th></th>\n",
              "      <th>Date</th>\n",
              "      <th>High</th>\n",
              "      <th>Low</th>\n",
              "      <th>Open</th>\n",
              "      <th>Close</th>\n",
              "      <th>Volume</th>\n",
              "      <th>Adj Close</th>\n",
              "      <th>final_semantic_score</th>\n",
              "    </tr>\n",
              "  </thead>\n",
              "  <tbody>\n",
              "    <tr>\n",
              "      <th>0</th>\n",
              "      <td>2016-07-22</td>\n",
              "      <td>5.97</td>\n",
              "      <td>5.45</td>\n",
              "      <td>5.73</td>\n",
              "      <td>5.84</td>\n",
              "      <td>101838300</td>\n",
              "      <td>5.84</td>\n",
              "      <td>0.291504</td>\n",
              "    </tr>\n",
              "    <tr>\n",
              "      <th>1</th>\n",
              "      <td>2016-07-25</td>\n",
              "      <td>6.95</td>\n",
              "      <td>5.92</td>\n",
              "      <td>5.93</td>\n",
              "      <td>6.70</td>\n",
              "      <td>118328600</td>\n",
              "      <td>6.70</td>\n",
              "      <td>0.291504</td>\n",
              "    </tr>\n",
              "    <tr>\n",
              "      <th>2</th>\n",
              "      <td>2016-07-26</td>\n",
              "      <td>7.16</td>\n",
              "      <td>6.71</td>\n",
              "      <td>6.76</td>\n",
              "      <td>6.98</td>\n",
              "      <td>81230600</td>\n",
              "      <td>6.98</td>\n",
              "      <td>0.291504</td>\n",
              "    </tr>\n",
              "  </tbody>\n",
              "</table>\n",
              "</div>"
            ],
            "text/plain": [
              "        Date  High   Low  ...     Volume  Adj Close  final_semantic_score\n",
              "0 2016-07-22  5.97  5.45  ...  101838300       5.84              0.291504\n",
              "1 2016-07-25  6.95  5.92  ...  118328600       6.70              0.291504\n",
              "2 2016-07-26  7.16  6.71  ...   81230600       6.98              0.291504\n",
              "\n",
              "[3 rows x 8 columns]"
            ]
          },
          "metadata": {
            "tags": []
          },
          "execution_count": 6
        }
      ]
    },
    {
      "cell_type": "code",
      "metadata": {
        "id": "EsS-684xiDt9",
        "colab": {
          "base_uri": "https://localhost:8080/",
          "height": 500
        },
        "outputId": "d93f38b0-12d9-41da-d9fb-e012ebbfeb1a"
      },
      "source": [
        "#Visualizing the close price \n",
        "plt.figure(figsize=(16,8))\n",
        "plt.title('Close Price History')\n",
        "plt.plot(merged_data['Date'],merged_data['Close'] )\n",
        "plt.xlabel('Date',fontsize=18)\n",
        "plt.ylabel('Close Price USD ($)',fontsize=18)\n",
        "plt.show()"
      ],
      "execution_count": 8,
      "outputs": [
        {
          "output_type": "display_data",
          "data": {
            "image/png": "[encoded data removed]",
            "text/plain": [
              "<Figure size 1152x576 with 1 Axes>"
            ]
          },
          "metadata": {
            "tags": [],
            "needs_background": "light"
          }
        }
      ]
    },
    {
      "cell_type": "markdown",
      "metadata": {
        "id": "Cnjyy8qzsY4o"
      },
      "source": [
        "**Data Preprocessing**"
      ]
    },
    {
      "cell_type": "code",
      "metadata": {
        "id": "gsMx4F0ZiHAh"
      },
      "source": [
        "#Create a new dataframe with only the 'Close' column\n",
        "data = merged_data.filter(['Close','final_semantic_score'])\n",
        "\n",
        "#Converting the dataframe to a numpy array\n",
        "new_data = merged_data.filter(['Close']).values\n",
        "dataset = data.values\n",
        "#Get /Compute the number of rows to train the model on\n",
        "training_data_len = math.ceil( len(dataset) *.8)"
      ],
      "execution_count": 37,
      "outputs": []
    },
    {
      "cell_type": "code",
      "metadata": {
        "id": "cfgqf_EIiQxC"
      },
      "source": [
        "##Data sclaing using minmax scaler\n",
        "scaler = MinMaxScaler(feature_range=(0, 1)) \n",
        "scaled_data = scaler.fit_transform(dataset)\n",
        "newScaler = MinMaxScaler(feature_range=(0, 1))\n",
        "new_scaled_date = newScaler.fit_transform(new_data)"
      ],
      "execution_count": 38,
      "outputs": []
    },
    {
      "cell_type": "markdown",
      "metadata": {
        "id": "fCRq_FY_sg2m"
      },
      "source": [
        "**Trainig Data and Test Data with Window Size 60**"
      ]
    },
    {
      "cell_type": "code",
      "metadata": {
        "id": "BdNBLXFHiS_A"
      },
      "source": [
        "#Create the scaled training data set \n",
        "train_data = scaled_data[0:training_data_len  , : ]\n",
        "#Split the data into x_train and y_train data sets\n",
        "x_train=[]\n",
        "y_train = []\n",
        "for i in range(60,len(train_data)):\n",
        "  x_train.append(train_data[i-60:i,0])\n",
        "  y_train.append(train_data[i,0])"
      ],
      "execution_count": 16,
      "outputs": []
    },
    {
      "cell_type": "code",
      "metadata": {
        "id": "ERNoADPPiWl2"
      },
      "source": [
        "#Convert x_train and y_train to numpy arrays\n",
        "x_train, y_train = np.array(x_train), np.array(y_train)"
      ],
      "execution_count": 17,
      "outputs": []
    },
    {
      "cell_type": "code",
      "metadata": {
        "id": "zVa_xc7liZ0v"
      },
      "source": [
        "#Test data set\n",
        "test_data = scaled_data[training_data_len - 60: , : ]\n",
        "#test_data = scaled_data[training_data_len: , : ]\n",
        "#Create the x_test and y_test data sets\n",
        "x_test = []\n",
        "y_test =  dataset[training_data_len : , :1 ] \n",
        "for i in range(60,len(test_data)):\n",
        "  x_test.append(test_data[i-60:i,0])"
      ],
      "execution_count": 28,
      "outputs": []
    },
    {
      "cell_type": "code",
      "metadata": {
        "id": "jKW2l2biicHi"
      },
      "source": [
        "#Convert x_test to a numpy array \n",
        "x_test = np.array(x_test)"
      ],
      "execution_count": 29,
      "outputs": []
    },
    {
      "cell_type": "code",
      "metadata": {
        "id": "NNhEcwYRkW8Z"
      },
      "source": [
        "x_train = np.reshape(x_train, (x_train.shape[0],x_train.shape[1],1))\n",
        "x_test = np.reshape(x_test, (x_test.shape[0],x_test.shape[1],1))"
      ],
      "execution_count": 30,
      "outputs": []
    },
    {
      "cell_type": "markdown",
      "metadata": {
        "id": "RD9v53O2igZg"
      },
      "source": [
        "**RNN**"
      ]
    },
    {
      "cell_type": "code",
      "metadata": {
        "id": "eJUsJ570jHVy"
      },
      "source": [
        "#Model creation\n",
        "def build_model(layers):\n",
        "    model = Sequential()\n",
        "\n",
        "    # By setting return_sequences to True we are able to stack another GRU layer\n",
        "    model.add(GRU(units=512, return_sequences=True,input_shape=(x_train.shape[1],1)))\n",
        "    model.add(Dropout(0.2))\n",
        "\n",
        "    model.add(GRU(units=256))\n",
        "    model.add(Dropout(0.2))\n",
        "    model.add(Dense(units=1))\n",
        "    model.add(Activation(\"linear\"))\n",
        "\n",
        "    start = time.time()\n",
        "    model.compile(loss=\"mse\", optimizer=\"rmsprop\", metrics=['accuracy'])\n",
        "    print(\"Compilation Time : \", time.time() - start)\n",
        "    return model"
      ],
      "execution_count": 31,
      "outputs": []
    },
    {
      "cell_type": "code",
      "metadata": {
        "id": "WwSWNgOsjL3N",
        "colab": {
          "base_uri": "https://localhost:8080/"
        },
        "outputId": "267c014a-c9a3-4f96-a87e-398108cdbe6a"
      },
      "source": [
        "#Test and Train data shape\n",
        "print(\"X_train\", x_train.shape)\n",
        "print(\"y_train\", y_train.shape)\n",
        "print(\"X_test\", x_test.shape)\n",
        "print(\"y_test\", y_test.shape)\n"
      ],
      "execution_count": 33,
      "outputs": [
        {
          "output_type": "stream",
          "text": [
            "X_train (714, 60, 1)\n",
            "y_train (714,)\n",
            "X_test (193, 60, 1)\n",
            "y_test (193, 1)\n"
          ],
          "name": "stdout"
        }
      ]
    },
    {
      "cell_type": "code",
      "metadata": {
        "id": "ifdFKR6CjOpf",
        "colab": {
          "base_uri": "https://localhost:8080/"
        },
        "outputId": "2f60c4b2-ed63-4f0b-d0e4-4cde58af6eff"
      },
      "source": [
        "#Compiling the model\n",
        "window = 60\n",
        "model = build_model([1, window, 100, 1])"
      ],
      "execution_count": 34,
      "outputs": [
        {
          "output_type": "stream",
          "text": [
            "Compilation Time :  0.012213706970214844\n"
          ],
          "name": "stdout"
        }
      ]
    },
    {
      "cell_type": "code",
      "metadata": {
        "id": "nN2gb4RhjkM0",
        "colab": {
          "base_uri": "https://localhost:8080/"
        },
        "outputId": "9f57b425-70da-4a53-8835-a0d99fc66425"
      },
      "source": [
        "#Model training\n",
        "model.fit(\n",
        "    x_train,\n",
        "    y_train,\n",
        "    batch_size=1,\n",
        "    epochs=1)"
      ],
      "execution_count": 35,
      "outputs": [
        {
          "output_type": "stream",
          "text": [
            "714/714 [==============================] - 148s 207ms/step - loss: 0.0041 - accuracy: 0.0000e+00\n"
          ],
          "name": "stdout"
        },
        {
          "output_type": "execute_result",
          "data": {
            "text/plain": [
              "<tensorflow.python.keras.callbacks.History at 0x7f25935d9b70>"
            ]
          },
          "metadata": {
            "tags": []
          },
          "execution_count": 35
        }
      ]
    },
    {
      "cell_type": "code",
      "metadata": {
        "id": "U7lTTWPvjn_Z"
      },
      "source": [
        "#Test the train model using test data\n",
        "predictions = model.predict(x_test) \n",
        "predictions = newScaler.inverse_transform(predictions)"
      ],
      "execution_count": 39,
      "outputs": []
    },
    {
      "cell_type": "code",
      "metadata": {
        "id": "PMYuwNRhlpHA",
        "colab": {
          "base_uri": "https://localhost:8080/"
        },
        "outputId": "20cd41e6-56a4-4472-bd53-77fa886c5e0e"
      },
      "source": [
        "#Calculating rmse\n",
        "rmse=np.sqrt(np.mean(((predictions- y_test)**2)))\n",
        "rmse"
      ],
      "execution_count": 40,
      "outputs": [
        {
          "output_type": "execute_result",
          "data": {
            "text/plain": [
              "2.2049199844551253"
            ]
          },
          "metadata": {
            "tags": []
          },
          "execution_count": 40
        }
      ]
    },
    {
      "cell_type": "code",
      "metadata": {
        "id": "dZ8AdRZVlupt",
        "colab": {
          "base_uri": "https://localhost:8080/",
          "height": 622
        },
        "outputId": "559065ad-d76c-483d-f921-988f4cb573d7"
      },
      "source": [
        "train = data[:training_data_len]\n",
        "valid = data[training_data_len:]\n",
        "valid['Predictions'] = predictions\n",
        "#Visualize the data\n",
        "plt.figure(figsize=(16,8))\n",
        "plt.title('RNN Model')\n",
        "plt.xlabel('Date', fontsize=18)\n",
        "plt.ylabel('Close Price USD ($)', fontsize=18)\n",
        "plt.plot(train['Close'])\n",
        "plt.plot(valid[['Close', 'Predictions']])\n",
        "plt.legend(['Train', 'Val', 'Predictions'], loc='lower right')\n",
        "plt.show()"
      ],
      "execution_count": 41,
      "outputs": [
        {
          "output_type": "stream",
          "text": [
            "/usr/local/lib/python3.6/dist-packages/ipykernel_launcher.py:3: SettingWithCopyWarning: \n",
            "A value is trying to be set on a copy of a slice from a DataFrame.\n",
            "Try using .loc[row_indexer,col_indexer] = value instead\n",
            "\n",
            "See the caveats in the documentation: https://pandas.pydata.org/pandas-docs/stable/user_guide/indexing.html#returning-a-view-versus-a-copy\n",
            "  This is separate from the ipykernel package so we can avoid doing imports until\n"
          ],
          "name": "stderr"
        },
        {
          "output_type": "display_data",
          "data": {
            "image/png": "[encoded data removed]",
            "text/plain": [
              "<Figure size 1152x576 with 1 Axes>"
            ]
          },
          "metadata": {
            "tags": [],
            "needs_background": "light"
          }
        }
      ]
    },
    {
      "cell_type": "markdown",
      "metadata": {
        "id": "mei_718Xl4q2"
      },
      "source": [
        "**SVM**"
      ]
    },
    {
      "cell_type": "code",
      "metadata": {
        "id": "Ro784E8_l86i"
      },
      "source": [
        "#Import SVM Library\n",
        "from sklearn import svm"
      ],
      "execution_count": 42,
      "outputs": []
    },
    {
      "cell_type": "code",
      "metadata": {
        "id": "QKxtk8-xmArW",
        "colab": {
          "base_uri": "https://localhost:8080/"
        },
        "outputId": "96ff2fc5-83ed-4c95-81a1-ca60e07ca3f6"
      },
      "source": [
        "#Reshape train data \n",
        "x_train_r=x_train.reshape(714,60)\n",
        "\n",
        "#Model creation\n",
        "clf = svm.SVR()\n",
        "\n",
        "#Model trainig\n",
        "clf.fit(x_train_r, y_train)"
      ],
      "execution_count": 43,
      "outputs": [
        {
          "output_type": "execute_result",
          "data": {
            "text/plain": [
              "SVR(C=1.0, cache_size=200, coef0=0.0, degree=3, epsilon=0.1, gamma='scale',\n",
              "    kernel='rbf', max_iter=-1, shrinking=True, tol=0.001, verbose=False)"
            ]
          },
          "metadata": {
            "tags": []
          },
          "execution_count": 43
        }
      ]
    },
    {
      "cell_type": "code",
      "metadata": {
        "id": "8rD234jumDe0",
        "colab": {
          "base_uri": "https://localhost:8080/"
        },
        "outputId": "e394d1ab-a6ec-407f-a9f3-977cb5f8a68a"
      },
      "source": [
        "#Reshape test data\n",
        "x_test_r=x_test.reshape(193,60)\n",
        "\n",
        "#Test trained model\n",
        "preds = clf.predict(x_test_r)\n",
        "preds = preds.reshape(-1,1)\n",
        "preds = newScaler.inverse_transform(preds)#Undo scaling\n",
        "rms=np.sqrt(np.mean(np.power((np.array(y_test)-np.array(preds)),2)))\n",
        "rms"
      ],
      "execution_count": 45,
      "outputs": [
        {
          "output_type": "execute_result",
          "data": {
            "text/plain": [
              "21.97738277755365"
            ]
          },
          "metadata": {
            "tags": []
          },
          "execution_count": 45
        }
      ]
    },
    {
      "cell_type": "code",
      "metadata": {
        "id": "2ZbfRPD9mG0L",
        "colab": {
          "base_uri": "https://localhost:8080/",
          "height": 622
        },
        "outputId": "67110ee4-15d1-47d8-bb85-102e1aa61423"
      },
      "source": [
        "#Plot/Create the data for the graph\n",
        "train = data[:training_data_len]\n",
        "valid = data[training_data_len:]\n",
        "valid['Predictions'] = preds\n",
        "#Visualize the data\n",
        "plt.figure(figsize=(16,8))\n",
        "plt.title('SVM')\n",
        "plt.xlabel('Date', fontsize=18)\n",
        "plt.ylabel('Close Price USD ($)', fontsize=18)\n",
        "plt.plot(train['Close'])\n",
        "plt.plot(valid[['Close', 'Predictions']])\n",
        "plt.legend(['Train', 'Val', 'Predictions'], loc='lower right')\n",
        "plt.show()"
      ],
      "execution_count": 46,
      "outputs": [
        {
          "output_type": "stream",
          "text": [
            "/usr/local/lib/python3.6/dist-packages/ipykernel_launcher.py:4: SettingWithCopyWarning: \n",
            "A value is trying to be set on a copy of a slice from a DataFrame.\n",
            "Try using .loc[row_indexer,col_indexer] = value instead\n",
            "\n",
            "See the caveats in the documentation: https://pandas.pydata.org/pandas-docs/stable/user_guide/indexing.html#returning-a-view-versus-a-copy\n",
            "  after removing the cwd from sys.path.\n"
          ],
          "name": "stderr"
        },
        {
          "output_type": "display_data",
          "data": {
            "image/png": "[encoded data removed]",
            "text/plain": [
              "<Figure size 1152x576 with 1 Axes>"
            ]
          },
          "metadata": {
            "tags": [],
            "needs_background": "light"
          }
        }
      ]
    },
    {
      "cell_type": "code",
      "metadata": {
        "id": "WL0N4HXzmKSB"
      },
      "source": [
        ""
      ],
      "execution_count": null,
      "outputs": []
    }
  ]
}