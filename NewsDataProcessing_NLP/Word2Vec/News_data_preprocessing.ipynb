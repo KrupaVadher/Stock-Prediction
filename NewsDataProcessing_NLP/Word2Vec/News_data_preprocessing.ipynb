{
 "cells": [
  {
   "cell_type": "markdown",
   "metadata": {},
   "source": [
    "<font color=\"green\">**Jupyter notebook for preprocessing news data**</font>"
   ]
  },
  {
   "cell_type": "code",
   "execution_count": 2,
   "metadata": {},
   "outputs": [
    {
     "name": "stderr",
     "output_type": "stream",
     "text": [
      "C:\\Users\\Pranav\\Anaconda3\\lib\\site-packages\\sklearn\\utils\\deprecation.py:144: FutureWarning: The sklearn.feature_extraction.stop_words module is  deprecated in version 0.22 and will be removed in version 0.24. The corresponding classes / functions should instead be imported from sklearn.feature_extraction.text. Anything that cannot be imported from sklearn.feature_extraction.text is now part of the private API.\n",
      "  warnings.warn(message, FutureWarning)\n"
     ]
    }
   ],
   "source": [
    "import pandas as pd\n",
    "import re\n",
    "from nltk.stem.wordnet import WordNetLemmatizer\n",
    "from sklearn.feature_extraction.stop_words import ENGLISH_STOP_WORDS"
   ]
  },
  {
   "cell_type": "markdown",
   "metadata": {},
   "source": [
    "**Read news from raw input files**"
   ]
  },
  {
   "cell_type": "code",
   "execution_count": 21,
   "metadata": {},
   "outputs": [],
   "source": [
    "#company = \"AMD\"\n",
    "#company = \"Apple\"\n",
    "#company = \"Disney\"\n",
    "company = \"Tesla\"\n",
    "input_file = \"D:\\\\cmpe295b\\\\news_data\\\\\" + company + \".csv\"\n",
    "output_file = \"processed\" + company + \".csv\""
   ]
  },
  {
   "cell_type": "code",
   "execution_count": 22,
   "metadata": {},
   "outputs": [
    {
     "data": {
      "text/html": [
       "<div>\n",
       "<style scoped>\n",
       "    .dataframe tbody tr th:only-of-type {\n",
       "        vertical-align: middle;\n",
       "    }\n",
       "\n",
       "    .dataframe tbody tr th {\n",
       "        vertical-align: top;\n",
       "    }\n",
       "\n",
       "    .dataframe thead th {\n",
       "        text-align: right;\n",
       "    }\n",
       "</style>\n",
       "<table border=\"1\" class=\"dataframe\">\n",
       "  <thead>\n",
       "    <tr style=\"text-align: right;\">\n",
       "      <th></th>\n",
       "      <th>company</th>\n",
       "      <th>news</th>\n",
       "      <th>link</th>\n",
       "      <th>date</th>\n",
       "      <th>body</th>\n",
       "    </tr>\n",
       "  </thead>\n",
       "  <tbody>\n",
       "    <tr>\n",
       "      <th>0</th>\n",
       "      <td>Tesla Inc (TSLA.OQ)</td>\n",
       "      <td>Tesla's Elon Musk calls for breakup of Amazon ...</td>\n",
       "      <td>https://www.reuters.com/article/idUSKBN23B307</td>\n",
       "      <td>2020-06-05 06:10:00</td>\n",
       "      <td>(This June 4 story corrects to read Tesla, pa...</td>\n",
       "    </tr>\n",
       "    <tr>\n",
       "      <th>1</th>\n",
       "      <td>Tesla Inc (TSLA.OQ)</td>\n",
       "      <td>CORRECTED-UPDATE 1-Tesla's Elon Musk calls for...</td>\n",
       "      <td>https://www.reuters.com/article/idUSL1N2DH2HU</td>\n",
       "      <td>2020-06-05 06:06:00</td>\n",
       "      <td>(This June 4 story corrects to read Tesla, pa...</td>\n",
       "    </tr>\n",
       "    <tr>\n",
       "      <th>2</th>\n",
       "      <td>Tesla Inc (TSLA.OQ)</td>\n",
       "      <td>CORRECTED-Tesla's Elon Musk calls for breakup ...</td>\n",
       "      <td>https://www.reuters.com/article/idUSFWN2DH0FX</td>\n",
       "      <td>2020-06-05 05:27:00</td>\n",
       "      <td>(Corrects JUNE 4 story to read Tesla, paragrap...</td>\n",
       "    </tr>\n",
       "    <tr>\n",
       "      <th>3</th>\n",
       "      <td>Tesla Inc (TSLA.OQ)</td>\n",
       "      <td>Breakingviews - Corona Capital: ZoomInfo IPO, ...</td>\n",
       "      <td>https://www.reuters.com/article/idUSKBN23B35T</td>\n",
       "      <td>2020-06-04 16:15:00</td>\n",
       "      <td>NEW YORK/LONDON/HONG KONG (Reuters Breakingvie...</td>\n",
       "    </tr>\n",
       "    <tr>\n",
       "      <th>4</th>\n",
       "      <td>Tesla Inc (TSLA.OQ)</td>\n",
       "      <td>BRIEF-Tesla Daily Has Joined Maven's Coalition...</td>\n",
       "      <td>https://www.reuters.com/article/idUSFWN2DH0DI</td>\n",
       "      <td>2020-06-04 13:34:00</td>\n",
       "      <td>June 4 (Reuters) - Themaven Inc: \\n* MAVEN - T...</td>\n",
       "    </tr>\n",
       "  </tbody>\n",
       "</table>\n",
       "</div>"
      ],
      "text/plain": [
       "               company                                               news  \\\n",
       "0  Tesla Inc (TSLA.OQ)  Tesla's Elon Musk calls for breakup of Amazon ...   \n",
       "1  Tesla Inc (TSLA.OQ)  CORRECTED-UPDATE 1-Tesla's Elon Musk calls for...   \n",
       "2  Tesla Inc (TSLA.OQ)  CORRECTED-Tesla's Elon Musk calls for breakup ...   \n",
       "3  Tesla Inc (TSLA.OQ)  Breakingviews - Corona Capital: ZoomInfo IPO, ...   \n",
       "4  Tesla Inc (TSLA.OQ)  BRIEF-Tesla Daily Has Joined Maven's Coalition...   \n",
       "\n",
       "                                            link                 date  \\\n",
       "0  https://www.reuters.com/article/idUSKBN23B307  2020-06-05 06:10:00   \n",
       "1  https://www.reuters.com/article/idUSL1N2DH2HU  2020-06-05 06:06:00   \n",
       "2  https://www.reuters.com/article/idUSFWN2DH0FX  2020-06-05 05:27:00   \n",
       "3  https://www.reuters.com/article/idUSKBN23B35T  2020-06-04 16:15:00   \n",
       "4  https://www.reuters.com/article/idUSFWN2DH0DI  2020-06-04 13:34:00   \n",
       "\n",
       "                                                body  \n",
       "0   (This June 4 story corrects to read Tesla, pa...  \n",
       "1   (This June 4 story corrects to read Tesla, pa...  \n",
       "2  (Corrects JUNE 4 story to read Tesla, paragrap...  \n",
       "3  NEW YORK/LONDON/HONG KONG (Reuters Breakingvie...  \n",
       "4  June 4 (Reuters) - Themaven Inc: \\n* MAVEN - T...  "
      ]
     },
     "execution_count": 22,
     "metadata": {},
     "output_type": "execute_result"
    }
   ],
   "source": [
    "amddata = pd.read_csv(input_file)\n",
    "amddata.head()"
   ]
  },
  {
   "cell_type": "markdown",
   "metadata": {},
   "source": [
    "**Only take data and headline news column into a new dataframe**"
   ]
  },
  {
   "cell_type": "code",
   "execution_count": 23,
   "metadata": {},
   "outputs": [
    {
     "data": {
      "text/html": [
       "<div>\n",
       "<style scoped>\n",
       "    .dataframe tbody tr th:only-of-type {\n",
       "        vertical-align: middle;\n",
       "    }\n",
       "\n",
       "    .dataframe tbody tr th {\n",
       "        vertical-align: top;\n",
       "    }\n",
       "\n",
       "    .dataframe thead th {\n",
       "        text-align: right;\n",
       "    }\n",
       "</style>\n",
       "<table border=\"1\" class=\"dataframe\">\n",
       "  <thead>\n",
       "    <tr style=\"text-align: right;\">\n",
       "      <th></th>\n",
       "      <th>date</th>\n",
       "      <th>news</th>\n",
       "    </tr>\n",
       "  </thead>\n",
       "  <tbody>\n",
       "    <tr>\n",
       "      <th>0</th>\n",
       "      <td>2020-06-05 06:10:00</td>\n",
       "      <td>Tesla's Elon Musk calls for breakup of Amazon ...</td>\n",
       "    </tr>\n",
       "    <tr>\n",
       "      <th>1</th>\n",
       "      <td>2020-06-05 06:06:00</td>\n",
       "      <td>CORRECTED-UPDATE 1-Tesla's Elon Musk calls for...</td>\n",
       "    </tr>\n",
       "    <tr>\n",
       "      <th>2</th>\n",
       "      <td>2020-06-05 05:27:00</td>\n",
       "      <td>CORRECTED-Tesla's Elon Musk calls for breakup ...</td>\n",
       "    </tr>\n",
       "    <tr>\n",
       "      <th>3</th>\n",
       "      <td>2020-06-04 16:15:00</td>\n",
       "      <td>Breakingviews - Corona Capital: ZoomInfo IPO, ...</td>\n",
       "    </tr>\n",
       "    <tr>\n",
       "      <th>4</th>\n",
       "      <td>2020-06-04 13:34:00</td>\n",
       "      <td>BRIEF-Tesla Daily Has Joined Maven's Coalition...</td>\n",
       "    </tr>\n",
       "  </tbody>\n",
       "</table>\n",
       "</div>"
      ],
      "text/plain": [
       "                  date                                               news\n",
       "0  2020-06-05 06:10:00  Tesla's Elon Musk calls for breakup of Amazon ...\n",
       "1  2020-06-05 06:06:00  CORRECTED-UPDATE 1-Tesla's Elon Musk calls for...\n",
       "2  2020-06-05 05:27:00  CORRECTED-Tesla's Elon Musk calls for breakup ...\n",
       "3  2020-06-04 16:15:00  Breakingviews - Corona Capital: ZoomInfo IPO, ...\n",
       "4  2020-06-04 13:34:00  BRIEF-Tesla Daily Has Joined Maven's Coalition..."
      ]
     },
     "execution_count": 23,
     "metadata": {},
     "output_type": "execute_result"
    }
   ],
   "source": [
    "filterData = amddata[['date','news']].copy()\n",
    "filterData.head()"
   ]
  },
  {
   "cell_type": "markdown",
   "metadata": {},
   "source": [
    "**Remove Upper case prefixes with '-'**"
   ]
  },
  {
   "cell_type": "markdown",
   "metadata": {},
   "source": [
    "**e.g. BRIEF - AMD stocks rises amid positive financial news.\n",
    "We must remove the 'BRIEF -' as it does not add any value.**"
   ]
  },
  {
   "cell_type": "code",
   "execution_count": 24,
   "metadata": {},
   "outputs": [],
   "source": [
    "def removePre(headline):\n",
    "    i = headline.find('-')\n",
    "    if i != -1 and headline[:i].isupper():\n",
    "        headline = headline[i+1:]\n",
    "    headline = headline.strip()\n",
    "    return headline\n",
    "\n",
    "filterData['news'] = filterData['news'].apply(removePre)"
   ]
  },
  {
   "cell_type": "code",
   "execution_count": 25,
   "metadata": {},
   "outputs": [
    {
     "data": {
      "text/html": [
       "<div>\n",
       "<style scoped>\n",
       "    .dataframe tbody tr th:only-of-type {\n",
       "        vertical-align: middle;\n",
       "    }\n",
       "\n",
       "    .dataframe tbody tr th {\n",
       "        vertical-align: top;\n",
       "    }\n",
       "\n",
       "    .dataframe thead th {\n",
       "        text-align: right;\n",
       "    }\n",
       "</style>\n",
       "<table border=\"1\" class=\"dataframe\">\n",
       "  <thead>\n",
       "    <tr style=\"text-align: right;\">\n",
       "      <th></th>\n",
       "      <th>date</th>\n",
       "      <th>news</th>\n",
       "    </tr>\n",
       "  </thead>\n",
       "  <tbody>\n",
       "    <tr>\n",
       "      <th>0</th>\n",
       "      <td>2020-06-05 06:10:00</td>\n",
       "      <td>Tesla's Elon Musk calls for breakup of Amazon ...</td>\n",
       "    </tr>\n",
       "    <tr>\n",
       "      <th>1</th>\n",
       "      <td>2020-06-05 06:06:00</td>\n",
       "      <td>UPDATE 1-Tesla's Elon Musk calls for breakup o...</td>\n",
       "    </tr>\n",
       "    <tr>\n",
       "      <th>2</th>\n",
       "      <td>2020-06-05 05:27:00</td>\n",
       "      <td>Tesla's Elon Musk calls for breakup of Amazon ...</td>\n",
       "    </tr>\n",
       "    <tr>\n",
       "      <th>3</th>\n",
       "      <td>2020-06-04 16:15:00</td>\n",
       "      <td>Breakingviews - Corona Capital: ZoomInfo IPO, ...</td>\n",
       "    </tr>\n",
       "    <tr>\n",
       "      <th>4</th>\n",
       "      <td>2020-06-04 13:34:00</td>\n",
       "      <td>Tesla Daily Has Joined Maven's Coalition Of In...</td>\n",
       "    </tr>\n",
       "    <tr>\n",
       "      <th>5</th>\n",
       "      <td>2020-06-04 13:12:00</td>\n",
       "      <td>Germany rebuffs gasoline auto lobby with radic...</td>\n",
       "    </tr>\n",
       "    <tr>\n",
       "      <th>6</th>\n",
       "      <td>2020-06-04 13:09:00</td>\n",
       "      <td>UPDATE 2-Germany rebuffs gasoline auto lobby w...</td>\n",
       "    </tr>\n",
       "    <tr>\n",
       "      <th>7</th>\n",
       "      <td>2020-06-04 13:06:00</td>\n",
       "      <td>America's billionaire wealth jumps by over hal...</td>\n",
       "    </tr>\n",
       "    <tr>\n",
       "      <th>8</th>\n",
       "      <td>2020-06-04 12:55:00</td>\n",
       "      <td>America's billionaire wealth jumps by over hal...</td>\n",
       "    </tr>\n",
       "    <tr>\n",
       "      <th>9</th>\n",
       "      <td>2020-06-04 12:03:00</td>\n",
       "      <td>Germany will require all petrol stations to pr...</td>\n",
       "    </tr>\n",
       "  </tbody>\n",
       "</table>\n",
       "</div>"
      ],
      "text/plain": [
       "                  date                                               news\n",
       "0  2020-06-05 06:10:00  Tesla's Elon Musk calls for breakup of Amazon ...\n",
       "1  2020-06-05 06:06:00  UPDATE 1-Tesla's Elon Musk calls for breakup o...\n",
       "2  2020-06-05 05:27:00  Tesla's Elon Musk calls for breakup of Amazon ...\n",
       "3  2020-06-04 16:15:00  Breakingviews - Corona Capital: ZoomInfo IPO, ...\n",
       "4  2020-06-04 13:34:00  Tesla Daily Has Joined Maven's Coalition Of In...\n",
       "5  2020-06-04 13:12:00  Germany rebuffs gasoline auto lobby with radic...\n",
       "6  2020-06-04 13:09:00  UPDATE 2-Germany rebuffs gasoline auto lobby w...\n",
       "7  2020-06-04 13:06:00  America's billionaire wealth jumps by over hal...\n",
       "8  2020-06-04 12:55:00  America's billionaire wealth jumps by over hal...\n",
       "9  2020-06-04 12:03:00  Germany will require all petrol stations to pr..."
      ]
     },
     "execution_count": 25,
     "metadata": {},
     "output_type": "execute_result"
    }
   ],
   "source": [
    "filterData.head(10)"
   ]
  },
  {
   "cell_type": "markdown",
   "metadata": {},
   "source": [
    "**Remove time from date column. We may need it later though.**"
   ]
  },
  {
   "cell_type": "code",
   "execution_count": 26,
   "metadata": {},
   "outputs": [],
   "source": [
    "def removeTime(datetime):\n",
    "    arr = datetime.split()\n",
    "    return arr[0]\n",
    "\n",
    "filterData['date'] = filterData['date'].apply(removeTime)"
   ]
  },
  {
   "cell_type": "markdown",
   "metadata": {},
   "source": [
    "**Remove special characters**"
   ]
  },
  {
   "cell_type": "code",
   "execution_count": 27,
   "metadata": {},
   "outputs": [],
   "source": [
    "lemmatizer = WordNetLemmatizer()\n",
    "def removeChars(news):\n",
    "    n = \" \".join(lemmatizer.lemmatize(word) for word in news.split())\n",
    "    n = \" \".join([word.strip(\",;:-\") for word in n.split() if word not in ENGLISH_STOP_WORDS])\n",
    "    n = n.replace('-','')\n",
    "    n = n.replace('\\'',' ')\n",
    "    n = \" \".join([word for word in n.split() if len(word) > 1])\n",
    "    n = n.replace('\"','')\n",
    "    return n\n",
    "    #return re.sub('[^A-Za-z0-9]+', ' ', n)\n",
    "\n",
    "filterData['news'] = filterData['news'].apply(removeChars)"
   ]
  },
  {
   "cell_type": "markdown",
   "metadata": {},
   "source": [
    "**Remove rows having same news text**"
   ]
  },
  {
   "cell_type": "code",
   "execution_count": 28,
   "metadata": {},
   "outputs": [],
   "source": [
    "filterData = filterData.drop_duplicates(subset=['news'])"
   ]
  },
  {
   "cell_type": "markdown",
   "metadata": {},
   "source": [
    "**Write the result into a new file**"
   ]
  },
  {
   "cell_type": "code",
   "execution_count": 29,
   "metadata": {},
   "outputs": [],
   "source": [
    "filterData.to_csv(output_file,index=False)"
   ]
  }
 ],
 "metadata": {
  "kernelspec": {
   "display_name": "Python 3",
   "language": "python",
   "name": "python3"
  },
  "language_info": {
   "codemirror_mode": {
    "name": "ipython",
    "version": 3
   },
   "file_extension": ".py",
   "mimetype": "text/x-python",
   "name": "python",
   "nbconvert_exporter": "python",
   "pygments_lexer": "ipython3",
   "version": "3.7.1"
  }
 },
 "nbformat": 4,
 "nbformat_minor": 2
}
