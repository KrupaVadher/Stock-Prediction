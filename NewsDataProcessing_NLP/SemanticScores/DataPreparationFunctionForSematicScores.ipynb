{
  "nbformat": 4,
  "nbformat_minor": 0,
  "metadata": {
    "kernelspec": {
      "display_name": "Python 3",
      "language": "python",
      "name": "python3"
    },
    "language_info": {
      "codemirror_mode": {
        "name": "ipython",
        "version": 3
      },
      "file_extension": ".py",
      "mimetype": "text/x-python",
      "name": "python",
      "nbconvert_exporter": "python",
      "pygments_lexer": "ipython3",
      "version": "3.7.1"
    },
    "colab": {
      "name": "DataPreparationFunctionForSematicScores.ipynb",
      "provenance": [],
      "collapsed_sections": []
    }
  },
  "cells": [
    {
      "cell_type": "markdown",
      "metadata": {
        "id": "xODo-VBNUBMZ"
      },
      "source": [
        "<font color=\"green\">**Data Prepraration model for semantic scores computations**</font>"
      ]
    },
    {
      "cell_type": "markdown",
      "metadata": {
        "id": "mSW07KqlUPtj"
      },
      "source": [
        "**Import and install required libraries**"
      ]
    },
    {
      "cell_type": "code",
      "metadata": {
        "id": "uHWB15n7Tolj",
        "outputId": "bcd802ee-eafb-41da-ba86-b354cf5485c0"
      },
      "source": [
        "#Import libraries\n",
        "import sys\n",
        "!{sys.executable} -m pip install textstat"
      ],
      "execution_count": null,
      "outputs": [
        {
          "output_type": "stream",
          "text": [
            "Requirement already satisfied: textstat in c:\\users\\adite\\anaconda3\\lib\\site-packages (0.6.2)\n",
            "Requirement already satisfied: pyphen in c:\\users\\adite\\anaconda3\\lib\\site-packages (from textstat) (0.9.5)\n"
          ],
          "name": "stdout"
        }
      ]
    },
    {
      "cell_type": "code",
      "metadata": {
        "id": "IwKqCi_2Tolk",
        "outputId": "106469d3-3468-4e17-c9d5-53d52a25403e"
      },
      "source": [
        "#Download library\n",
        "!{sys.executable} -m pip install textblob"
      ],
      "execution_count": null,
      "outputs": [
        {
          "output_type": "stream",
          "text": [
            "Requirement already satisfied: textblob in c:\\users\\adite\\anaconda3\\lib\\site-packages (0.15.3)\n",
            "Requirement already satisfied: nltk>=3.1 in c:\\users\\adite\\anaconda3\\lib\\site-packages (from textblob) (3.4)\n",
            "Requirement already satisfied: six in c:\\users\\adite\\anaconda3\\lib\\site-packages (from nltk>=3.1->textblob) (1.12.0)\n",
            "Requirement already satisfied: singledispatch in c:\\users\\adite\\anaconda3\\lib\\site-packages (from nltk>=3.1->textblob) (3.4.0.3)\n"
          ],
          "name": "stdout"
        }
      ]
    },
    {
      "cell_type": "code",
      "metadata": {
        "id": "OVP5G-HuTolk"
      },
      "source": [
        "#Import libraries\n",
        "import pandas as pd \n",
        "import numpy as np\n",
        "import textstat\n",
        "from textblob import TextBlob\n",
        "import math\n",
        "import nltk\n",
        "from nltk.tokenize import word_tokenize\n",
        "from nltk.probability import FreqDist"
      ],
      "execution_count": null,
      "outputs": []
    },
    {
      "cell_type": "markdown",
      "metadata": {
        "id": "k7C9PFGcUZ7l"
      },
      "source": [
        "**Function to prepare data**"
      ]
    },
    {
      "cell_type": "code",
      "metadata": {
        "id": "gag8tR6wTolk"
      },
      "source": [
        "def get_final_news_data(headlines,body):\n",
        "  merged_news = pd.merge(left=headlines, right=body, left_on='article', right_on='link') #merge datasets\n",
        "  merged_news.drop(['article'], axis=1,inplace=True) #remove redundant column\n",
        "  merged_news.rename(columns={\"news\": \"headlines\"},inplace=True) #rename columns for more clarifications\n",
        "  return merged_news"
      ],
      "execution_count": null,
      "outputs": []
    }
  ]
}