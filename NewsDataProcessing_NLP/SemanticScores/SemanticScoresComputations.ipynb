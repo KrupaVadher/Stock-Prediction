{
  "nbformat": 4,
  "nbformat_minor": 0,
  "metadata": {
    "kernelspec": {
      "display_name": "Python 3",
      "language": "python",
      "name": "python3"
    },
    "language_info": {
      "codemirror_mode": {
        "name": "ipython",
        "version": 3
      },
      "file_extension": ".py",
      "mimetype": "text/x-python",
      "name": "python",
      "nbconvert_exporter": "python",
      "pygments_lexer": "ipython3",
      "version": "3.7.1"
    },
    "colab": {
      "name": "SemanticScoresComputations.ipynb",
      "provenance": [],
      "collapsed_sections": []
    }
  },
  "cells": [
    {
      "cell_type": "markdown",
      "metadata": {
        "id": "cqqrpHOoWm3K"
      },
      "source": [
        "<font color=\"green\">**Semantic score computations by calling functions in other files**"
      ]
    },
    {
      "cell_type": "markdown",
      "metadata": {
        "id": "ekGxHPEGW3I5"
      },
      "source": [
        "**Import libraries and other supporting ipynb files**"
      ]
    },
    {
      "cell_type": "code",
      "metadata": {
        "id": "oainTdqZTrJ7",
        "outputId": "76e2fe66-161a-4feb-cb56-e04a69ffcc4a"
      },
      "source": [
        "#Import libraries\n",
        "import sys\n",
        "!{sys.executable} -m pip install import-ipynb"
      ],
      "execution_count": null,
      "outputs": [
        {
          "output_type": "stream",
          "text": [
            "Requirement already satisfied: import-ipynb in c:\\users\\adite\\anaconda3\\lib\\site-packages (0.1.3)\n"
          ],
          "name": "stdout"
        }
      ]
    },
    {
      "cell_type": "code",
      "metadata": {
        "id": "1qC0os-NTrJ7",
        "outputId": "84cda33c-f089-4f37-ff39-8dbc6d36e447"
      },
      "source": [
        "#Import libraries\n",
        "import pandas as pd \n",
        "import numpy as np\n",
        "import import_ipynb\n",
        "from DataPreparationFunctionForSematicScores import get_final_news_data\n",
        "from FunctionsDefinitionsForSemanticScores import compute_semantic_scores, normalize_semantic_scores, compute_final_score"
      ],
      "execution_count": null,
      "outputs": [
        {
          "output_type": "stream",
          "text": [
            "importing Jupyter notebook from Data_Preparation.ipynb\n",
            "Requirement already satisfied: textstat in c:\\users\\adite\\anaconda3\\lib\\site-packages (0.6.2)\n",
            "Requirement already satisfied: pyphen in c:\\users\\adite\\anaconda3\\lib\\site-packages (from textstat) (0.9.5)\n",
            "Requirement already satisfied: textblob in c:\\users\\adite\\anaconda3\\lib\\site-packages (0.15.3)\n",
            "Requirement already satisfied: nltk>=3.1 in c:\\users\\adite\\anaconda3\\lib\\site-packages (from textblob) (3.4)\n",
            "Requirement already satisfied: six in c:\\users\\adite\\anaconda3\\lib\\site-packages (from nltk>=3.1->textblob) (1.12.0)\n",
            "Requirement already satisfied: singledispatch in c:\\users\\adite\\anaconda3\\lib\\site-packages (from nltk>=3.1->textblob) (3.4.0.3)\n",
            "importing Jupyter notebook from Semantic_Scores.ipynb\n"
          ],
          "name": "stdout"
        },
        {
          "output_type": "stream",
          "text": [
            "[nltk_data] Downloading package punkt to\n",
            "[nltk_data]     C:\\Users\\adite\\AppData\\Roaming\\nltk_data...\n",
            "[nltk_data]   Package punkt is already up-to-date!\n"
          ],
          "name": "stderr"
        }
      ]
    },
    {
      "cell_type": "markdown",
      "metadata": {
        "id": "-CI5GExZW9EQ"
      },
      "source": [
        "**Read data**"
      ]
    },
    {
      "cell_type": "code",
      "metadata": {
        "id": "cNzTmFM5TrJ7",
        "outputId": "bb9237e0-1842-4667-ab94-9d95bd762715"
      },
      "source": [
        "#Read data from file\n",
        "headlines = pd.read_json('headlines_Apple Inc (AAPL.OQ).json')\n",
        "body=pd.read_json('body_Apple Inc (AAPL.OQ).json')"
      ],
      "execution_count": null,
      "outputs": [
        {
          "output_type": "stream",
          "text": [
            "C:\\Users\\adite\\Anaconda3\\lib\\site-packages\\dateutil\\parser\\_parser.py:1204: UnknownTimezoneWarning: tzname EDT identified but not understood.  Pass `tzinfos` argument in order to correctly return a timezone-aware datetime.  In a future version, this will raise an exception.\n",
            "  category=UnknownTimezoneWarning)\n",
            "C:\\Users\\adite\\Anaconda3\\lib\\site-packages\\dateutil\\parser\\_parser.py:1204: UnknownTimezoneWarning: tzname EST identified but not understood.  Pass `tzinfos` argument in order to correctly return a timezone-aware datetime.  In a future version, this will raise an exception.\n",
            "  category=UnknownTimezoneWarning)\n"
          ],
          "name": "stderr"
        }
      ]
    },
    {
      "cell_type": "code",
      "metadata": {
        "id": "knAUM3CATrJ8",
        "outputId": "273fa607-81a2-4f93-f6dd-15895e7df03d"
      },
      "source": [
        "headlines.head(3)"
      ],
      "execution_count": null,
      "outputs": [
        {
          "output_type": "execute_result",
          "data": {
            "text/html": [
              "<div>\n",
              "<style scoped>\n",
              "    .dataframe tbody tr th:only-of-type {\n",
              "        vertical-align: middle;\n",
              "    }\n",
              "\n",
              "    .dataframe tbody tr th {\n",
              "        vertical-align: top;\n",
              "    }\n",
              "\n",
              "    .dataframe thead th {\n",
              "        text-align: right;\n",
              "    }\n",
              "</style>\n",
              "<table border=\"1\" class=\"dataframe\">\n",
              "  <thead>\n",
              "    <tr style=\"text-align: right;\">\n",
              "      <th></th>\n",
              "      <th>article</th>\n",
              "      <th>company</th>\n",
              "      <th>date</th>\n",
              "      <th>news</th>\n",
              "    </tr>\n",
              "  </thead>\n",
              "  <tbody>\n",
              "    <tr>\n",
              "      <th>0</th>\n",
              "      <td>https://www.reuters.com/article/idUSKBN23F2PL</td>\n",
              "      <td>Apple Inc (AAPL.OQ)</td>\n",
              "      <td>2020-06-08 16:27:00</td>\n",
              "      <td>Nasdaq hits record high as U.S. recession beco...</td>\n",
              "    </tr>\n",
              "    <tr>\n",
              "      <th>1</th>\n",
              "      <td>https://www.reuters.com/article/idUSL1N2DL281</td>\n",
              "      <td>Apple Inc (AAPL.OQ)</td>\n",
              "      <td>2020-06-08 16:22:00</td>\n",
              "      <td>UPDATE 1-GRAPHIC-Nasdaq hits record high as U....</td>\n",
              "    </tr>\n",
              "    <tr>\n",
              "      <th>2</th>\n",
              "      <td>https://www.reuters.com/article/idUSKBN23F2NA</td>\n",
              "      <td>Apple Inc (AAPL.OQ)</td>\n",
              "      <td>2020-06-08 15:50:00</td>\n",
              "      <td>Trump says U.S. police will not be disbanded</td>\n",
              "    </tr>\n",
              "  </tbody>\n",
              "</table>\n",
              "</div>"
            ],
            "text/plain": [
              "                                         article              company  \\\n",
              "0  https://www.reuters.com/article/idUSKBN23F2PL  Apple Inc (AAPL.OQ)   \n",
              "1  https://www.reuters.com/article/idUSL1N2DL281  Apple Inc (AAPL.OQ)   \n",
              "2  https://www.reuters.com/article/idUSKBN23F2NA  Apple Inc (AAPL.OQ)   \n",
              "\n",
              "                 date                                               news  \n",
              "0 2020-06-08 16:27:00  Nasdaq hits record high as U.S. recession beco...  \n",
              "1 2020-06-08 16:22:00  UPDATE 1-GRAPHIC-Nasdaq hits record high as U....  \n",
              "2 2020-06-08 15:50:00       Trump says U.S. police will not be disbanded  "
            ]
          },
          "metadata": {
            "tags": []
          },
          "execution_count": 16
        }
      ]
    },
    {
      "cell_type": "code",
      "metadata": {
        "id": "1u0CzS5lTrJ8",
        "outputId": "d84dba75-1e83-49b7-8707-ea06848a848d"
      },
      "source": [
        "body.head(3)"
      ],
      "execution_count": null,
      "outputs": [
        {
          "output_type": "execute_result",
          "data": {
            "text/html": [
              "<div>\n",
              "<style scoped>\n",
              "    .dataframe tbody tr th:only-of-type {\n",
              "        vertical-align: middle;\n",
              "    }\n",
              "\n",
              "    .dataframe tbody tr th {\n",
              "        vertical-align: top;\n",
              "    }\n",
              "\n",
              "    .dataframe thead th {\n",
              "        text-align: right;\n",
              "    }\n",
              "</style>\n",
              "<table border=\"1\" class=\"dataframe\">\n",
              "  <thead>\n",
              "    <tr style=\"text-align: right;\">\n",
              "      <th></th>\n",
              "      <th>body</th>\n",
              "      <th>link</th>\n",
              "    </tr>\n",
              "  </thead>\n",
              "  <tbody>\n",
              "    <tr>\n",
              "      <th>0</th>\n",
              "      <td>(Reuters) - On the same day that the Nasdaq ma...</td>\n",
              "      <td>https://www.reuters.com/article/idUSKBN23F2PL</td>\n",
              "    </tr>\n",
              "    <tr>\n",
              "      <th>1</th>\n",
              "      <td>(Reuters) - On the same day that the Nasdaq ma...</td>\n",
              "      <td>https://www.reuters.com/article/idUSL1N2DL281</td>\n",
              "    </tr>\n",
              "    <tr>\n",
              "      <th>2</th>\n",
              "      <td>WASHINGTON (Reuters) - President Donald Trump ...</td>\n",
              "      <td>https://www.reuters.com/article/idUSKBN23F2NA</td>\n",
              "    </tr>\n",
              "  </tbody>\n",
              "</table>\n",
              "</div>"
            ],
            "text/plain": [
              "                                                body  \\\n",
              "0  (Reuters) - On the same day that the Nasdaq ma...   \n",
              "1  (Reuters) - On the same day that the Nasdaq ma...   \n",
              "2  WASHINGTON (Reuters) - President Donald Trump ...   \n",
              "\n",
              "                                            link  \n",
              "0  https://www.reuters.com/article/idUSKBN23F2PL  \n",
              "1  https://www.reuters.com/article/idUSL1N2DL281  \n",
              "2  https://www.reuters.com/article/idUSKBN23F2NA  "
            ]
          },
          "metadata": {
            "tags": []
          },
          "execution_count": 17
        }
      ]
    },
    {
      "cell_type": "markdown",
      "metadata": {
        "id": "UFgyTbhRXFtc"
      },
      "source": [
        "**Merge headlines and body using function in other file**"
      ]
    },
    {
      "cell_type": "code",
      "metadata": {
        "id": "N4WDGxE2TrJ8",
        "outputId": "0bf537b5-fb39-48e4-d494-ab75c20393f6"
      },
      "source": [
        "#Prepare final data\n",
        "newsData=get_final_news_data(headlines,body)\n",
        "newsData.head(3)"
      ],
      "execution_count": null,
      "outputs": [
        {
          "output_type": "execute_result",
          "data": {
            "text/html": [
              "<div>\n",
              "<style scoped>\n",
              "    .dataframe tbody tr th:only-of-type {\n",
              "        vertical-align: middle;\n",
              "    }\n",
              "\n",
              "    .dataframe tbody tr th {\n",
              "        vertical-align: top;\n",
              "    }\n",
              "\n",
              "    .dataframe thead th {\n",
              "        text-align: right;\n",
              "    }\n",
              "</style>\n",
              "<table border=\"1\" class=\"dataframe\">\n",
              "  <thead>\n",
              "    <tr style=\"text-align: right;\">\n",
              "      <th></th>\n",
              "      <th>company</th>\n",
              "      <th>date</th>\n",
              "      <th>headlines</th>\n",
              "      <th>body</th>\n",
              "      <th>link</th>\n",
              "    </tr>\n",
              "  </thead>\n",
              "  <tbody>\n",
              "    <tr>\n",
              "      <th>0</th>\n",
              "      <td>Apple Inc (AAPL.OQ)</td>\n",
              "      <td>2020-06-08 16:27:00</td>\n",
              "      <td>Nasdaq hits record high as U.S. recession beco...</td>\n",
              "      <td>(Reuters) - On the same day that the Nasdaq ma...</td>\n",
              "      <td>https://www.reuters.com/article/idUSKBN23F2PL</td>\n",
              "    </tr>\n",
              "    <tr>\n",
              "      <th>1</th>\n",
              "      <td>Apple Inc (AAPL.OQ)</td>\n",
              "      <td>2020-06-08 16:22:00</td>\n",
              "      <td>UPDATE 1-GRAPHIC-Nasdaq hits record high as U....</td>\n",
              "      <td>(Reuters) - On the same day that the Nasdaq ma...</td>\n",
              "      <td>https://www.reuters.com/article/idUSL1N2DL281</td>\n",
              "    </tr>\n",
              "    <tr>\n",
              "      <th>2</th>\n",
              "      <td>Apple Inc (AAPL.OQ)</td>\n",
              "      <td>2020-06-08 15:50:00</td>\n",
              "      <td>Trump says U.S. police will not be disbanded</td>\n",
              "      <td>WASHINGTON (Reuters) - President Donald Trump ...</td>\n",
              "      <td>https://www.reuters.com/article/idUSKBN23F2NA</td>\n",
              "    </tr>\n",
              "  </tbody>\n",
              "</table>\n",
              "</div>"
            ],
            "text/plain": [
              "               company                date  \\\n",
              "0  Apple Inc (AAPL.OQ) 2020-06-08 16:27:00   \n",
              "1  Apple Inc (AAPL.OQ) 2020-06-08 16:22:00   \n",
              "2  Apple Inc (AAPL.OQ) 2020-06-08 15:50:00   \n",
              "\n",
              "                                           headlines  \\\n",
              "0  Nasdaq hits record high as U.S. recession beco...   \n",
              "1  UPDATE 1-GRAPHIC-Nasdaq hits record high as U....   \n",
              "2       Trump says U.S. police will not be disbanded   \n",
              "\n",
              "                                                body  \\\n",
              "0  (Reuters) - On the same day that the Nasdaq ma...   \n",
              "1  (Reuters) - On the same day that the Nasdaq ma...   \n",
              "2  WASHINGTON (Reuters) - President Donald Trump ...   \n",
              "\n",
              "                                            link  \n",
              "0  https://www.reuters.com/article/idUSKBN23F2PL  \n",
              "1  https://www.reuters.com/article/idUSL1N2DL281  \n",
              "2  https://www.reuters.com/article/idUSKBN23F2NA  "
            ]
          },
          "metadata": {
            "tags": []
          },
          "execution_count": 18
        }
      ]
    },
    {
      "cell_type": "code",
      "metadata": {
        "id": "uiGoDMIpTrJ8"
      },
      "source": [
        "newsData=pd.read_csv('Advanced Micro Devices Inc (AMD.OQ).csv')\n",
        "#newsData.drop(['link'], axis=1,inplace=True) #remove redundant column\n",
        "newsData.rename(columns={\"news\": \"headlines\"},inplace=True) #rename columns for more clarifications"
      ],
      "execution_count": null,
      "outputs": []
    },
    {
      "cell_type": "code",
      "metadata": {
        "id": "5lrrcLQeTrJ8",
        "outputId": "25aa4c29-8042-4139-8fa6-137e5a3f7aa6"
      },
      "source": [
        "newsData.head(3)"
      ],
      "execution_count": null,
      "outputs": [
        {
          "output_type": "execute_result",
          "data": {
            "text/html": [
              "<div>\n",
              "<style scoped>\n",
              "    .dataframe tbody tr th:only-of-type {\n",
              "        vertical-align: middle;\n",
              "    }\n",
              "\n",
              "    .dataframe tbody tr th {\n",
              "        vertical-align: top;\n",
              "    }\n",
              "\n",
              "    .dataframe thead th {\n",
              "        text-align: right;\n",
              "    }\n",
              "</style>\n",
              "<table border=\"1\" class=\"dataframe\">\n",
              "  <thead>\n",
              "    <tr style=\"text-align: right;\">\n",
              "      <th></th>\n",
              "      <th>company</th>\n",
              "      <th>headlines</th>\n",
              "      <th>link</th>\n",
              "      <th>date</th>\n",
              "      <th>body</th>\n",
              "    </tr>\n",
              "  </thead>\n",
              "  <tbody>\n",
              "    <tr>\n",
              "      <th>0</th>\n",
              "      <td>Advanced Micro Devices Inc (AMD.OQ)</td>\n",
              "      <td>FIRMEN-BLICK-Novartis-Augenarznei Beovu kommt ...</td>\n",
              "      <td>https://www.reuters.com/article/idUSL8N2D84M5</td>\n",
              "      <td>2020-05-26 10:34:00</td>\n",
              "      <td>26. Mai (Reuters) - Es folgt der Reuters-Blick...</td>\n",
              "    </tr>\n",
              "    <tr>\n",
              "      <th>1</th>\n",
              "      <td>Advanced Micro Devices Inc (AMD.OQ)</td>\n",
              "      <td>BRIEF-Brazil's stock exchange B3 to keep opera...</td>\n",
              "      <td>https://www.reuters.com/article/idUSS0N2CH00Q</td>\n",
              "      <td>2020-05-19 13:58:00</td>\n",
              "      <td>May 19 (Reuters) - \\n* BRAZIL’S STOCK EXCHANGE...</td>\n",
              "    </tr>\n",
              "    <tr>\n",
              "      <th>2</th>\n",
              "      <td>Advanced Micro Devices Inc (AMD.OQ)</td>\n",
              "      <td>BRIEF-Kodiak Sciences Announces Q1 2020 Financ...</td>\n",
              "      <td>https://www.reuters.com/article/idUSASA00P7Q</td>\n",
              "      <td>2020-05-11 07:55:00</td>\n",
              "      <td>May 11 (Reuters) - Kodiak Sciences Inc: \\n* KO...</td>\n",
              "    </tr>\n",
              "  </tbody>\n",
              "</table>\n",
              "</div>"
            ],
            "text/plain": [
              "                               company  \\\n",
              "0  Advanced Micro Devices Inc (AMD.OQ)   \n",
              "1  Advanced Micro Devices Inc (AMD.OQ)   \n",
              "2  Advanced Micro Devices Inc (AMD.OQ)   \n",
              "\n",
              "                                           headlines  \\\n",
              "0  FIRMEN-BLICK-Novartis-Augenarznei Beovu kommt ...   \n",
              "1  BRIEF-Brazil's stock exchange B3 to keep opera...   \n",
              "2  BRIEF-Kodiak Sciences Announces Q1 2020 Financ...   \n",
              "\n",
              "                                            link                 date  \\\n",
              "0  https://www.reuters.com/article/idUSL8N2D84M5  2020-05-26 10:34:00   \n",
              "1  https://www.reuters.com/article/idUSS0N2CH00Q  2020-05-19 13:58:00   \n",
              "2   https://www.reuters.com/article/idUSASA00P7Q  2020-05-11 07:55:00   \n",
              "\n",
              "                                                body  \n",
              "0  26. Mai (Reuters) - Es folgt der Reuters-Blick...  \n",
              "1  May 19 (Reuters) - \\n* BRAZIL’S STOCK EXCHANGE...  \n",
              "2  May 11 (Reuters) - Kodiak Sciences Inc: \\n* KO...  "
            ]
          },
          "metadata": {
            "tags": []
          },
          "execution_count": 5
        }
      ]
    },
    {
      "cell_type": "markdown",
      "metadata": {
        "id": "qUp2kXZHXRZ1"
      },
      "source": [
        "**Compute semantic scores by calling function defined in other file**"
      ]
    },
    {
      "cell_type": "code",
      "metadata": {
        "id": "wUEEq4T7TrJ8",
        "outputId": "e9144ec9-9db7-4ac8-926f-db4a6950a6ad"
      },
      "source": [
        "#Compute semantic scores\n",
        "newsData=compute_semantic_scores(newsData)\n",
        "newsData.head(3)"
      ],
      "execution_count": null,
      "outputs": [
        {
          "output_type": "execute_result",
          "data": {
            "text/html": [
              "<div>\n",
              "<style scoped>\n",
              "    .dataframe tbody tr th:only-of-type {\n",
              "        vertical-align: middle;\n",
              "    }\n",
              "\n",
              "    .dataframe tbody tr th {\n",
              "        vertical-align: top;\n",
              "    }\n",
              "\n",
              "    .dataframe thead th {\n",
              "        text-align: right;\n",
              "    }\n",
              "</style>\n",
              "<table border=\"1\" class=\"dataframe\">\n",
              "  <thead>\n",
              "    <tr style=\"text-align: right;\">\n",
              "      <th></th>\n",
              "      <th>company</th>\n",
              "      <th>headlines</th>\n",
              "      <th>link</th>\n",
              "      <th>date</th>\n",
              "      <th>body</th>\n",
              "      <th>subjectivity</th>\n",
              "      <th>polarity</th>\n",
              "      <th>entropy</th>\n",
              "      <th>flesch_index</th>\n",
              "      <th>dale_chall_index</th>\n",
              "      <th>sentiment</th>\n",
              "    </tr>\n",
              "  </thead>\n",
              "  <tbody>\n",
              "    <tr>\n",
              "      <th>0</th>\n",
              "      <td>Advanced Micro Devices Inc (AMD.OQ)</td>\n",
              "      <td>FIRMEN-BLICK-Novartis-Augenarznei Beovu kommt ...</td>\n",
              "      <td>https://www.reuters.com/article/idUSL8N2D84M5</td>\n",
              "      <td>2020-05-26 10:34:00</td>\n",
              "      <td>26. Mai (Reuters) - Es folgt der Reuters-Blick...</td>\n",
              "      <td>0.000000</td>\n",
              "      <td>0.00000</td>\n",
              "      <td>8.230145</td>\n",
              "      <td>13.1</td>\n",
              "      <td>9.74</td>\n",
              "      <td>neutral</td>\n",
              "    </tr>\n",
              "    <tr>\n",
              "      <th>1</th>\n",
              "      <td>Advanced Micro Devices Inc (AMD.OQ)</td>\n",
              "      <td>BRIEF-Brazil's stock exchange B3 to keep opera...</td>\n",
              "      <td>https://www.reuters.com/article/idUSS0N2CH00Q</td>\n",
              "      <td>2020-05-19 13:58:00</td>\n",
              "      <td>May 19 (Reuters) - \\n* BRAZIL’S STOCK EXCHANGE...</td>\n",
              "      <td>0.750000</td>\n",
              "      <td>-0.37500</td>\n",
              "      <td>5.369812</td>\n",
              "      <td>17.7</td>\n",
              "      <td>9.04</td>\n",
              "      <td>negative</td>\n",
              "    </tr>\n",
              "    <tr>\n",
              "      <th>2</th>\n",
              "      <td>Advanced Micro Devices Inc (AMD.OQ)</td>\n",
              "      <td>BRIEF-Kodiak Sciences Announces Q1 2020 Financ...</td>\n",
              "      <td>https://www.reuters.com/article/idUSASA00P7Q</td>\n",
              "      <td>2020-05-11 07:55:00</td>\n",
              "      <td>May 11 (Reuters) - Kodiak Sciences Inc: \\n* KO...</td>\n",
              "      <td>0.410417</td>\n",
              "      <td>0.08125</td>\n",
              "      <td>6.121220</td>\n",
              "      <td>38.8</td>\n",
              "      <td>12.49</td>\n",
              "      <td>neutral</td>\n",
              "    </tr>\n",
              "  </tbody>\n",
              "</table>\n",
              "</div>"
            ],
            "text/plain": [
              "                               company  \\\n",
              "0  Advanced Micro Devices Inc (AMD.OQ)   \n",
              "1  Advanced Micro Devices Inc (AMD.OQ)   \n",
              "2  Advanced Micro Devices Inc (AMD.OQ)   \n",
              "\n",
              "                                           headlines  \\\n",
              "0  FIRMEN-BLICK-Novartis-Augenarznei Beovu kommt ...   \n",
              "1  BRIEF-Brazil's stock exchange B3 to keep opera...   \n",
              "2  BRIEF-Kodiak Sciences Announces Q1 2020 Financ...   \n",
              "\n",
              "                                            link                 date  \\\n",
              "0  https://www.reuters.com/article/idUSL8N2D84M5  2020-05-26 10:34:00   \n",
              "1  https://www.reuters.com/article/idUSS0N2CH00Q  2020-05-19 13:58:00   \n",
              "2   https://www.reuters.com/article/idUSASA00P7Q  2020-05-11 07:55:00   \n",
              "\n",
              "                                                body  subjectivity  polarity  \\\n",
              "0  26. Mai (Reuters) - Es folgt der Reuters-Blick...      0.000000   0.00000   \n",
              "1  May 19 (Reuters) - \\n* BRAZIL’S STOCK EXCHANGE...      0.750000  -0.37500   \n",
              "2  May 11 (Reuters) - Kodiak Sciences Inc: \\n* KO...      0.410417   0.08125   \n",
              "\n",
              "    entropy  flesch_index  dale_chall_index sentiment  \n",
              "0  8.230145          13.1              9.74   neutral  \n",
              "1  5.369812          17.7              9.04  negative  \n",
              "2  6.121220          38.8             12.49   neutral  "
            ]
          },
          "metadata": {
            "tags": []
          },
          "execution_count": 6
        }
      ]
    },
    {
      "cell_type": "markdown",
      "metadata": {
        "id": "e6u8wBYFXdja"
      },
      "source": [
        "**Normalize semantic scores by calling function in other file**"
      ]
    },
    {
      "cell_type": "code",
      "metadata": {
        "id": "xWr-5DuXTrJ9",
        "outputId": "232599a2-02d2-4635-e810-4f8179cc6385"
      },
      "source": [
        "#Normalize semantic scores\n",
        "newsScoresData=newsData\n",
        "newsScoresData=normalize_semantic_scores(newsScoresData)\n",
        "newsScoresData.head(3)"
      ],
      "execution_count": null,
      "outputs": [
        {
          "output_type": "execute_result",
          "data": {
            "text/html": [
              "<div>\n",
              "<style scoped>\n",
              "    .dataframe tbody tr th:only-of-type {\n",
              "        vertical-align: middle;\n",
              "    }\n",
              "\n",
              "    .dataframe tbody tr th {\n",
              "        vertical-align: top;\n",
              "    }\n",
              "\n",
              "    .dataframe thead th {\n",
              "        text-align: right;\n",
              "    }\n",
              "</style>\n",
              "<table border=\"1\" class=\"dataframe\">\n",
              "  <thead>\n",
              "    <tr style=\"text-align: right;\">\n",
              "      <th></th>\n",
              "      <th>date</th>\n",
              "      <th>subjectivity</th>\n",
              "      <th>polarity</th>\n",
              "      <th>entropy</th>\n",
              "      <th>flesch_index</th>\n",
              "      <th>dale_chall_index</th>\n",
              "      <th>sentiment</th>\n",
              "      <th>normalized_polarity</th>\n",
              "      <th>normalized_entropy</th>\n",
              "      <th>normalized_flesch_index</th>\n",
              "      <th>normalized_dale_chall_index</th>\n",
              "    </tr>\n",
              "  </thead>\n",
              "  <tbody>\n",
              "    <tr>\n",
              "      <th>0</th>\n",
              "      <td>2020-05-26 10:34:00</td>\n",
              "      <td>0.000000</td>\n",
              "      <td>0.00000</td>\n",
              "      <td>8.230145</td>\n",
              "      <td>13.1</td>\n",
              "      <td>9.74</td>\n",
              "      <td>neutral</td>\n",
              "      <td>0.509434</td>\n",
              "      <td>1.000000</td>\n",
              "      <td>0.017514</td>\n",
              "      <td>0.075974</td>\n",
              "    </tr>\n",
              "    <tr>\n",
              "      <th>1</th>\n",
              "      <td>2020-05-19 13:58:00</td>\n",
              "      <td>0.750000</td>\n",
              "      <td>-0.37500</td>\n",
              "      <td>5.369812</td>\n",
              "      <td>17.7</td>\n",
              "      <td>9.04</td>\n",
              "      <td>negative</td>\n",
              "      <td>0.000000</td>\n",
              "      <td>0.181410</td>\n",
              "      <td>0.037164</td>\n",
              "      <td>0.053247</td>\n",
              "    </tr>\n",
              "    <tr>\n",
              "      <th>2</th>\n",
              "      <td>2020-05-11 07:55:00</td>\n",
              "      <td>0.410417</td>\n",
              "      <td>0.08125</td>\n",
              "      <td>6.121220</td>\n",
              "      <td>38.8</td>\n",
              "      <td>12.49</td>\n",
              "      <td>neutral</td>\n",
              "      <td>0.619811</td>\n",
              "      <td>0.396453</td>\n",
              "      <td>0.127296</td>\n",
              "      <td>0.165260</td>\n",
              "    </tr>\n",
              "  </tbody>\n",
              "</table>\n",
              "</div>"
            ],
            "text/plain": [
              "                  date  subjectivity  polarity   entropy  flesch_index  \\\n",
              "0  2020-05-26 10:34:00      0.000000   0.00000  8.230145          13.1   \n",
              "1  2020-05-19 13:58:00      0.750000  -0.37500  5.369812          17.7   \n",
              "2  2020-05-11 07:55:00      0.410417   0.08125  6.121220          38.8   \n",
              "\n",
              "   dale_chall_index sentiment  normalized_polarity  normalized_entropy  \\\n",
              "0              9.74   neutral             0.509434            1.000000   \n",
              "1              9.04  negative             0.000000            0.181410   \n",
              "2             12.49   neutral             0.619811            0.396453   \n",
              "\n",
              "   normalized_flesch_index  normalized_dale_chall_index  \n",
              "0                 0.017514                     0.075974  \n",
              "1                 0.037164                     0.053247  \n",
              "2                 0.127296                     0.165260  "
            ]
          },
          "metadata": {
            "tags": []
          },
          "execution_count": 7
        }
      ]
    },
    {
      "cell_type": "markdown",
      "metadata": {
        "id": "dnrNgwnuXk3R"
      },
      "source": [
        "**Preprocess semantic scores**"
      ]
    },
    {
      "cell_type": "code",
      "metadata": {
        "id": "fOI80FyhTrJ9",
        "outputId": "28272dd2-2dac-40e9-a8f8-55431a78193c"
      },
      "source": [
        "#Group by semantic scores to combine scores of different news on same day\n",
        "newsScoresData['date'] = pd.to_datetime(newsScoresData['date'])\n",
        "newsScoresData['date'] = newsScoresData['date'].dt.date\n",
        "grouped=newsScoresData.groupby('date').mean()\n",
        "grouped=grouped.reset_index()\n",
        "grouped.head(3)"
      ],
      "execution_count": null,
      "outputs": [
        {
          "output_type": "execute_result",
          "data": {
            "text/html": [
              "<div>\n",
              "<style scoped>\n",
              "    .dataframe tbody tr th:only-of-type {\n",
              "        vertical-align: middle;\n",
              "    }\n",
              "\n",
              "    .dataframe tbody tr th {\n",
              "        vertical-align: top;\n",
              "    }\n",
              "\n",
              "    .dataframe thead th {\n",
              "        text-align: right;\n",
              "    }\n",
              "</style>\n",
              "<table border=\"1\" class=\"dataframe\">\n",
              "  <thead>\n",
              "    <tr style=\"text-align: right;\">\n",
              "      <th></th>\n",
              "      <th>date</th>\n",
              "      <th>subjectivity</th>\n",
              "      <th>polarity</th>\n",
              "      <th>entropy</th>\n",
              "      <th>flesch_index</th>\n",
              "      <th>dale_chall_index</th>\n",
              "      <th>normalized_polarity</th>\n",
              "      <th>normalized_entropy</th>\n",
              "      <th>normalized_flesch_index</th>\n",
              "      <th>normalized_dale_chall_index</th>\n",
              "    </tr>\n",
              "  </thead>\n",
              "  <tbody>\n",
              "    <tr>\n",
              "      <th>0</th>\n",
              "      <td>2016-07-22</td>\n",
              "      <td>0.417751</td>\n",
              "      <td>0.133707</td>\n",
              "      <td>7.207807</td>\n",
              "      <td>50.3</td>\n",
              "      <td>13.015</td>\n",
              "      <td>0.691073</td>\n",
              "      <td>0.707420</td>\n",
              "      <td>0.176420</td>\n",
              "      <td>0.182305</td>\n",
              "    </tr>\n",
              "    <tr>\n",
              "      <th>1</th>\n",
              "      <td>2016-08-02</td>\n",
              "      <td>0.351389</td>\n",
              "      <td>0.034118</td>\n",
              "      <td>7.353409</td>\n",
              "      <td>30.7</td>\n",
              "      <td>10.290</td>\n",
              "      <td>0.555783</td>\n",
              "      <td>0.749090</td>\n",
              "      <td>0.092695</td>\n",
              "      <td>0.093831</td>\n",
              "    </tr>\n",
              "    <tr>\n",
              "      <th>2</th>\n",
              "      <td>2016-08-03</td>\n",
              "      <td>0.351389</td>\n",
              "      <td>0.034118</td>\n",
              "      <td>7.356924</td>\n",
              "      <td>30.7</td>\n",
              "      <td>10.290</td>\n",
              "      <td>0.555783</td>\n",
              "      <td>0.750095</td>\n",
              "      <td>0.092695</td>\n",
              "      <td>0.093831</td>\n",
              "    </tr>\n",
              "  </tbody>\n",
              "</table>\n",
              "</div>"
            ],
            "text/plain": [
              "         date  subjectivity  polarity   entropy  flesch_index  \\\n",
              "0  2016-07-22      0.417751  0.133707  7.207807          50.3   \n",
              "1  2016-08-02      0.351389  0.034118  7.353409          30.7   \n",
              "2  2016-08-03      0.351389  0.034118  7.356924          30.7   \n",
              "\n",
              "   dale_chall_index  normalized_polarity  normalized_entropy  \\\n",
              "0            13.015             0.691073            0.707420   \n",
              "1            10.290             0.555783            0.749090   \n",
              "2            10.290             0.555783            0.750095   \n",
              "\n",
              "   normalized_flesch_index  normalized_dale_chall_index  \n",
              "0                 0.176420                     0.182305  \n",
              "1                 0.092695                     0.093831  \n",
              "2                 0.092695                     0.093831  "
            ]
          },
          "metadata": {
            "tags": []
          },
          "execution_count": 9
        }
      ]
    },
    {
      "cell_type": "markdown",
      "metadata": {
        "id": "15cVag7hXx7E"
      },
      "source": [
        "**Compute final semantic scores by calling function defined in other file**"
      ]
    },
    {
      "cell_type": "code",
      "metadata": {
        "id": "f_GLCgXNTrJ9",
        "outputId": "75d4b0aa-8c6c-49c9-c82f-af747d9cf7ed"
      },
      "source": [
        "#Compute final semantic scores\n",
        "final=compute_final_score(grouped)\n",
        "final.head(3)"
      ],
      "execution_count": null,
      "outputs": [
        {
          "output_type": "execute_result",
          "data": {
            "text/html": [
              "<div>\n",
              "<style scoped>\n",
              "    .dataframe tbody tr th:only-of-type {\n",
              "        vertical-align: middle;\n",
              "    }\n",
              "\n",
              "    .dataframe tbody tr th {\n",
              "        vertical-align: top;\n",
              "    }\n",
              "\n",
              "    .dataframe thead th {\n",
              "        text-align: right;\n",
              "    }\n",
              "</style>\n",
              "<table border=\"1\" class=\"dataframe\">\n",
              "  <thead>\n",
              "    <tr style=\"text-align: right;\">\n",
              "      <th></th>\n",
              "      <th>date</th>\n",
              "      <th>subjectivity</th>\n",
              "      <th>polarity</th>\n",
              "      <th>entropy</th>\n",
              "      <th>flesch_index</th>\n",
              "      <th>dale_chall_index</th>\n",
              "      <th>normalized_polarity</th>\n",
              "      <th>normalized_entropy</th>\n",
              "      <th>normalized_flesch_index</th>\n",
              "      <th>normalized_dale_chall_index</th>\n",
              "      <th>final_semantic_score</th>\n",
              "    </tr>\n",
              "  </thead>\n",
              "  <tbody>\n",
              "    <tr>\n",
              "      <th>0</th>\n",
              "      <td>2016-07-22</td>\n",
              "      <td>0.417751</td>\n",
              "      <td>0.133707</td>\n",
              "      <td>7.207807</td>\n",
              "      <td>50.3</td>\n",
              "      <td>13.015</td>\n",
              "      <td>0.691073</td>\n",
              "      <td>0.707420</td>\n",
              "      <td>0.176420</td>\n",
              "      <td>0.182305</td>\n",
              "      <td>0.291504</td>\n",
              "    </tr>\n",
              "    <tr>\n",
              "      <th>1</th>\n",
              "      <td>2016-08-02</td>\n",
              "      <td>0.351389</td>\n",
              "      <td>0.034118</td>\n",
              "      <td>7.353409</td>\n",
              "      <td>30.7</td>\n",
              "      <td>10.290</td>\n",
              "      <td>0.555783</td>\n",
              "      <td>0.749090</td>\n",
              "      <td>0.092695</td>\n",
              "      <td>0.093831</td>\n",
              "      <td>0.293947</td>\n",
              "    </tr>\n",
              "    <tr>\n",
              "      <th>2</th>\n",
              "      <td>2016-08-03</td>\n",
              "      <td>0.351389</td>\n",
              "      <td>0.034118</td>\n",
              "      <td>7.356924</td>\n",
              "      <td>30.7</td>\n",
              "      <td>10.290</td>\n",
              "      <td>0.555783</td>\n",
              "      <td>0.750095</td>\n",
              "      <td>0.092695</td>\n",
              "      <td>0.093831</td>\n",
              "      <td>0.294148</td>\n",
              "    </tr>\n",
              "  </tbody>\n",
              "</table>\n",
              "</div>"
            ],
            "text/plain": [
              "         date  subjectivity  polarity   entropy  flesch_index  \\\n",
              "0  2016-07-22      0.417751  0.133707  7.207807          50.3   \n",
              "1  2016-08-02      0.351389  0.034118  7.353409          30.7   \n",
              "2  2016-08-03      0.351389  0.034118  7.356924          30.7   \n",
              "\n",
              "   dale_chall_index  normalized_polarity  normalized_entropy  \\\n",
              "0            13.015             0.691073            0.707420   \n",
              "1            10.290             0.555783            0.749090   \n",
              "2            10.290             0.555783            0.750095   \n",
              "\n",
              "   normalized_flesch_index  normalized_dale_chall_index  final_semantic_score  \n",
              "0                 0.176420                     0.182305              0.291504  \n",
              "1                 0.092695                     0.093831              0.293947  \n",
              "2                 0.092695                     0.093831              0.294148  "
            ]
          },
          "metadata": {
            "tags": []
          },
          "execution_count": 11
        }
      ]
    },
    {
      "cell_type": "code",
      "metadata": {
        "id": "0HW1GVQuTrJ9",
        "outputId": "fccf27c2-a564-4b64-fe4b-ff47c9fe7ae8"
      },
      "source": [
        "#final_df=final[[\"date\",\"final_semantic_score\"]]\n",
        "final_df=final[[\"date\",\"subjectivity\",\"polarity\",\"entropy\",\"flesch_index\",\"dale_chall_index\",\"final_semantic_score\"]]\n",
        "final_df.head(3)"
      ],
      "execution_count": null,
      "outputs": [
        {
          "output_type": "execute_result",
          "data": {
            "text/html": [
              "<div>\n",
              "<style scoped>\n",
              "    .dataframe tbody tr th:only-of-type {\n",
              "        vertical-align: middle;\n",
              "    }\n",
              "\n",
              "    .dataframe tbody tr th {\n",
              "        vertical-align: top;\n",
              "    }\n",
              "\n",
              "    .dataframe thead th {\n",
              "        text-align: right;\n",
              "    }\n",
              "</style>\n",
              "<table border=\"1\" class=\"dataframe\">\n",
              "  <thead>\n",
              "    <tr style=\"text-align: right;\">\n",
              "      <th></th>\n",
              "      <th>date</th>\n",
              "      <th>subjectivity</th>\n",
              "      <th>polarity</th>\n",
              "      <th>entropy</th>\n",
              "      <th>flesch_index</th>\n",
              "      <th>dale_chall_index</th>\n",
              "      <th>final_semantic_score</th>\n",
              "    </tr>\n",
              "  </thead>\n",
              "  <tbody>\n",
              "    <tr>\n",
              "      <th>0</th>\n",
              "      <td>2016-07-22</td>\n",
              "      <td>0.417751</td>\n",
              "      <td>0.133707</td>\n",
              "      <td>7.207807</td>\n",
              "      <td>50.3</td>\n",
              "      <td>13.015</td>\n",
              "      <td>0.291504</td>\n",
              "    </tr>\n",
              "    <tr>\n",
              "      <th>1</th>\n",
              "      <td>2016-08-02</td>\n",
              "      <td>0.351389</td>\n",
              "      <td>0.034118</td>\n",
              "      <td>7.353409</td>\n",
              "      <td>30.7</td>\n",
              "      <td>10.290</td>\n",
              "      <td>0.293947</td>\n",
              "    </tr>\n",
              "    <tr>\n",
              "      <th>2</th>\n",
              "      <td>2016-08-03</td>\n",
              "      <td>0.351389</td>\n",
              "      <td>0.034118</td>\n",
              "      <td>7.356924</td>\n",
              "      <td>30.7</td>\n",
              "      <td>10.290</td>\n",
              "      <td>0.294148</td>\n",
              "    </tr>\n",
              "  </tbody>\n",
              "</table>\n",
              "</div>"
            ],
            "text/plain": [
              "         date  subjectivity  polarity   entropy  flesch_index  \\\n",
              "0  2016-07-22      0.417751  0.133707  7.207807          50.3   \n",
              "1  2016-08-02      0.351389  0.034118  7.353409          30.7   \n",
              "2  2016-08-03      0.351389  0.034118  7.356924          30.7   \n",
              "\n",
              "   dale_chall_index  final_semantic_score  \n",
              "0            13.015              0.291504  \n",
              "1            10.290              0.293947  \n",
              "2            10.290              0.294148  "
            ]
          },
          "metadata": {
            "tags": []
          },
          "execution_count": 12
        }
      ]
    },
    {
      "cell_type": "markdown",
      "metadata": {
        "id": "uXTJOF70YHhq"
      },
      "source": [
        "**Preprocess on computed semantic scores**"
      ]
    },
    {
      "cell_type": "code",
      "metadata": {
        "id": "fiiGyrlOTrJ-"
      },
      "source": [
        "#Impute missing values\n",
        "r = pd.date_range(start=final_df.date.min(), end=final_df.date.max())\n",
        "final_df=final_df.set_index('date').reindex(r).rename_axis('date').reset_index()"
      ],
      "execution_count": null,
      "outputs": []
    },
    {
      "cell_type": "code",
      "metadata": {
        "id": "PlVk24euTrJ-",
        "outputId": "5e821789-8878-4047-eb1f-71cefbd6d76d"
      },
      "source": [
        "final_df.head(3)"
      ],
      "execution_count": null,
      "outputs": [
        {
          "output_type": "execute_result",
          "data": {
            "text/html": [
              "<div>\n",
              "<style scoped>\n",
              "    .dataframe tbody tr th:only-of-type {\n",
              "        vertical-align: middle;\n",
              "    }\n",
              "\n",
              "    .dataframe tbody tr th {\n",
              "        vertical-align: top;\n",
              "    }\n",
              "\n",
              "    .dataframe thead th {\n",
              "        text-align: right;\n",
              "    }\n",
              "</style>\n",
              "<table border=\"1\" class=\"dataframe\">\n",
              "  <thead>\n",
              "    <tr style=\"text-align: right;\">\n",
              "      <th></th>\n",
              "      <th>date</th>\n",
              "      <th>subjectivity</th>\n",
              "      <th>polarity</th>\n",
              "      <th>entropy</th>\n",
              "      <th>flesch_index</th>\n",
              "      <th>dale_chall_index</th>\n",
              "      <th>final_semantic_score</th>\n",
              "    </tr>\n",
              "  </thead>\n",
              "  <tbody>\n",
              "    <tr>\n",
              "      <th>0</th>\n",
              "      <td>2016-07-22</td>\n",
              "      <td>0.417751</td>\n",
              "      <td>0.133707</td>\n",
              "      <td>7.207807</td>\n",
              "      <td>50.3</td>\n",
              "      <td>13.015</td>\n",
              "      <td>0.291504</td>\n",
              "    </tr>\n",
              "    <tr>\n",
              "      <th>1</th>\n",
              "      <td>2016-07-23</td>\n",
              "      <td>NaN</td>\n",
              "      <td>NaN</td>\n",
              "      <td>NaN</td>\n",
              "      <td>NaN</td>\n",
              "      <td>NaN</td>\n",
              "      <td>NaN</td>\n",
              "    </tr>\n",
              "    <tr>\n",
              "      <th>2</th>\n",
              "      <td>2016-07-24</td>\n",
              "      <td>NaN</td>\n",
              "      <td>NaN</td>\n",
              "      <td>NaN</td>\n",
              "      <td>NaN</td>\n",
              "      <td>NaN</td>\n",
              "      <td>NaN</td>\n",
              "    </tr>\n",
              "  </tbody>\n",
              "</table>\n",
              "</div>"
            ],
            "text/plain": [
              "        date  subjectivity  polarity   entropy  flesch_index  \\\n",
              "0 2016-07-22      0.417751  0.133707  7.207807          50.3   \n",
              "1 2016-07-23           NaN       NaN       NaN           NaN   \n",
              "2 2016-07-24           NaN       NaN       NaN           NaN   \n",
              "\n",
              "   dale_chall_index  final_semantic_score  \n",
              "0            13.015              0.291504  \n",
              "1               NaN                   NaN  \n",
              "2               NaN                   NaN  "
            ]
          },
          "metadata": {
            "tags": []
          },
          "execution_count": 18
        }
      ]
    },
    {
      "cell_type": "markdown",
      "metadata": {
        "id": "KysTgDcCYO6U"
      },
      "source": [
        "**Save semantic scores data into csv file**"
      ]
    },
    {
      "cell_type": "code",
      "metadata": {
        "id": "WCZN2ElfTrJ-"
      },
      "source": [
        "#Save dataframe to csv\n",
        "final_df.to_csv(r'amd-all-scores.csv',index=False)"
      ],
      "execution_count": null,
      "outputs": []
    },
    {
      "cell_type": "markdown",
      "metadata": {
        "id": "wzNedY0PYXJi"
      },
      "source": [
        "**Read data from saved csv to ensure writing done correctly**"
      ]
    },
    {
      "cell_type": "code",
      "metadata": {
        "id": "GB-EZREZTrJ-",
        "outputId": "d773736a-f7ba-4b39-a764-78434b761ae7"
      },
      "source": [
        "#Read saved csv\n",
        "scoresAmd=pd.read_csv('amd-all-scores.csv')\n",
        "scoresAmd.head(5)"
      ],
      "execution_count": null,
      "outputs": [
        {
          "output_type": "execute_result",
          "data": {
            "text/html": [
              "<div>\n",
              "<style scoped>\n",
              "    .dataframe tbody tr th:only-of-type {\n",
              "        vertical-align: middle;\n",
              "    }\n",
              "\n",
              "    .dataframe tbody tr th {\n",
              "        vertical-align: top;\n",
              "    }\n",
              "\n",
              "    .dataframe thead th {\n",
              "        text-align: right;\n",
              "    }\n",
              "</style>\n",
              "<table border=\"1\" class=\"dataframe\">\n",
              "  <thead>\n",
              "    <tr style=\"text-align: right;\">\n",
              "      <th></th>\n",
              "      <th>date</th>\n",
              "      <th>subjectivity</th>\n",
              "      <th>polarity</th>\n",
              "      <th>entropy</th>\n",
              "      <th>flesch_index</th>\n",
              "      <th>dale_chall_index</th>\n",
              "      <th>final_semantic_score</th>\n",
              "    </tr>\n",
              "  </thead>\n",
              "  <tbody>\n",
              "    <tr>\n",
              "      <th>0</th>\n",
              "      <td>2016-07-22</td>\n",
              "      <td>0.417751</td>\n",
              "      <td>0.133707</td>\n",
              "      <td>7.207807</td>\n",
              "      <td>50.3</td>\n",
              "      <td>13.015</td>\n",
              "      <td>0.291504</td>\n",
              "    </tr>\n",
              "    <tr>\n",
              "      <th>1</th>\n",
              "      <td>2016-07-23</td>\n",
              "      <td>NaN</td>\n",
              "      <td>NaN</td>\n",
              "      <td>NaN</td>\n",
              "      <td>NaN</td>\n",
              "      <td>NaN</td>\n",
              "      <td>NaN</td>\n",
              "    </tr>\n",
              "    <tr>\n",
              "      <th>2</th>\n",
              "      <td>2016-07-24</td>\n",
              "      <td>NaN</td>\n",
              "      <td>NaN</td>\n",
              "      <td>NaN</td>\n",
              "      <td>NaN</td>\n",
              "      <td>NaN</td>\n",
              "      <td>NaN</td>\n",
              "    </tr>\n",
              "    <tr>\n",
              "      <th>3</th>\n",
              "      <td>2016-07-25</td>\n",
              "      <td>NaN</td>\n",
              "      <td>NaN</td>\n",
              "      <td>NaN</td>\n",
              "      <td>NaN</td>\n",
              "      <td>NaN</td>\n",
              "      <td>NaN</td>\n",
              "    </tr>\n",
              "    <tr>\n",
              "      <th>4</th>\n",
              "      <td>2016-07-26</td>\n",
              "      <td>NaN</td>\n",
              "      <td>NaN</td>\n",
              "      <td>NaN</td>\n",
              "      <td>NaN</td>\n",
              "      <td>NaN</td>\n",
              "      <td>NaN</td>\n",
              "    </tr>\n",
              "  </tbody>\n",
              "</table>\n",
              "</div>"
            ],
            "text/plain": [
              "         date  subjectivity  polarity   entropy  flesch_index  \\\n",
              "0  2016-07-22      0.417751  0.133707  7.207807          50.3   \n",
              "1  2016-07-23           NaN       NaN       NaN           NaN   \n",
              "2  2016-07-24           NaN       NaN       NaN           NaN   \n",
              "3  2016-07-25           NaN       NaN       NaN           NaN   \n",
              "4  2016-07-26           NaN       NaN       NaN           NaN   \n",
              "\n",
              "   dale_chall_index  final_semantic_score  \n",
              "0            13.015              0.291504  \n",
              "1               NaN                   NaN  \n",
              "2               NaN                   NaN  \n",
              "3               NaN                   NaN  \n",
              "4               NaN                   NaN  "
            ]
          },
          "metadata": {
            "tags": []
          },
          "execution_count": 20
        }
      ]
    }
  ]
}