{
  "nbformat": 4,
  "nbformat_minor": 0,
  "metadata": {
    "kernelspec": {
      "display_name": "Python 3",
      "language": "python",
      "name": "python3"
    },
    "language_info": {
      "codemirror_mode": {
        "name": "ipython",
        "version": 3
      },
      "file_extension": ".py",
      "mimetype": "text/x-python",
      "name": "python",
      "nbconvert_exporter": "python",
      "pygments_lexer": "ipython3",
      "version": "3.7.1"
    },
    "colab": {
      "name": "FunctionsDefinitionsForSemanticScores.ipynb",
      "provenance": [],
      "collapsed_sections": []
    }
  },
  "cells": [
    {
      "cell_type": "markdown",
      "metadata": {
        "id": "Luyt7fsIVPil"
      },
      "source": [
        "<font color=\"green\">**Function definitions for all semantic scores**</font>"
      ]
    },
    {
      "cell_type": "markdown",
      "metadata": {
        "id": "X3IaJ2haVbQv"
      },
      "source": [
        "**Import and download libraries**"
      ]
    },
    {
      "cell_type": "code",
      "metadata": {
        "id": "h86DYG8FTtuh"
      },
      "source": [
        "#Import libraries\n",
        "import pandas as pd \n",
        "import numpy as np\n",
        "import textstat\n",
        "from textblob import TextBlob\n",
        "import math\n",
        "import nltk\n",
        "from nltk.tokenize import word_tokenize\n",
        "from nltk.probability import FreqDist"
      ],
      "execution_count": null,
      "outputs": []
    },
    {
      "cell_type": "code",
      "metadata": {
        "id": "or1cgD_5Ttuh",
        "outputId": "23b24c61-91c2-45d3-9949-df3921416a1f"
      },
      "source": [
        "#Download libraries\n",
        "nltk.download('punkt')"
      ],
      "execution_count": null,
      "outputs": [
        {
          "output_type": "stream",
          "text": [
            "[nltk_data] Downloading package punkt to\n",
            "[nltk_data]     C:\\Users\\adite\\AppData\\Roaming\\nltk_data...\n",
            "[nltk_data]   Package punkt is already up-to-date!\n"
          ],
          "name": "stderr"
        },
        {
          "output_type": "execute_result",
          "data": {
            "text/plain": [
              "True"
            ]
          },
          "metadata": {
            "tags": []
          },
          "execution_count": 4
        }
      ]
    },
    {
      "cell_type": "markdown",
      "metadata": {
        "id": "OABR-_EGVmfe"
      },
      "source": [
        "**Function to call all score computing functions**"
      ]
    },
    {
      "cell_type": "code",
      "metadata": {
        "id": "9SHPK6EwTtuh"
      },
      "source": [
        "def compute_semantic_scores(df):\n",
        "    df=compute_subjectivity_score(df)\n",
        "    df=compute_polarity_score(df)\n",
        "    df=compute_entropy_score(df)\n",
        "    df=compute_flesch_index(df)\n",
        "    df=compute_dale_chall_index(df)\n",
        "    df=compute_sentiment_score(df)\n",
        "    return df"
      ],
      "execution_count": null,
      "outputs": []
    },
    {
      "cell_type": "markdown",
      "metadata": {
        "id": "svw5viq6VsF2"
      },
      "source": [
        "**Function to compute subjectivity score**"
      ]
    },
    {
      "cell_type": "code",
      "metadata": {
        "id": "XBWPri0DTtuh"
      },
      "source": [
        "def compute_subjectivity_score(df):\n",
        "    df['body']=df['body'].astype(str)\n",
        "    df['subjectivity']=0\n",
        "    length=len(df)\n",
        "    for i in range(length):\n",
        "        news=df.loc[i,\"body\"]\n",
        "        subjectivityScore=TextBlob(news).sentiment.subjectivity\n",
        "        df.loc[i,\"subjectivity\"]=subjectivityScore\n",
        "    return df"
      ],
      "execution_count": null,
      "outputs": []
    },
    {
      "cell_type": "markdown",
      "metadata": {
        "id": "Lfu15n97VwzZ"
      },
      "source": [
        "**Function to compute polarity score**"
      ]
    },
    {
      "cell_type": "code",
      "metadata": {
        "id": "1MrdK51CTtuh"
      },
      "source": [
        "def compute_polarity_score(df):\n",
        "    df['body']=df['body'].astype(str)\n",
        "    df['polarity']=0\n",
        "    length=len(df)\n",
        "    for i in range(length):\n",
        "        news=df.loc[i,\"body\"]\n",
        "        polarityScore=TextBlob(news).sentiment.polarity\n",
        "        df.loc[i,\"polarity\"]=polarityScore\n",
        "    return df"
      ],
      "execution_count": null,
      "outputs": []
    },
    {
      "cell_type": "markdown",
      "metadata": {
        "id": "GFA72HmxVzB7"
      },
      "source": [
        "**Function to compute entropy score**"
      ]
    },
    {
      "cell_type": "code",
      "metadata": {
        "id": "QOCm2gE2Ttui"
      },
      "source": [
        "def compute_entropy_score(df):\n",
        "    df['body']=df['body'].astype(str)\n",
        "    df['entropy']=0\n",
        "    length = len(df)\n",
        "    for i in range(length):\n",
        "        news = df.loc[i,\"body\"]\n",
        "        fdist = FreqDist()\n",
        "        for word in word_tokenize(news):\n",
        "            fdist[word.lower()] += 1\n",
        "        probs = [fdist.freq(l) for l in fdist]\n",
        "        df.loc[i,\"entropy\"] = -sum(p * math.log(p,2) for p in probs)\n",
        "    return df"
      ],
      "execution_count": null,
      "outputs": []
    },
    {
      "cell_type": "markdown",
      "metadata": {
        "id": "ChBQ7eXOV1ne"
      },
      "source": [
        "**Function to compute flesch index**"
      ]
    },
    {
      "cell_type": "code",
      "metadata": {
        "id": "V8v_KSCfTtui"
      },
      "source": [
        "def compute_flesch_index(df):\n",
        "    df['body']=df['body'].astype(str)\n",
        "    df['flesch_index']=0\n",
        "    length=len(df)\n",
        "    for i in range(length):\n",
        "        news=df.loc[i,\"body\"]\n",
        "        fleschIndex=textstat.flesch_kincaid_grade(news)\n",
        "        df.loc[i,\"flesch_index\"]=fleschIndex\n",
        "    return df"
      ],
      "execution_count": null,
      "outputs": []
    },
    {
      "cell_type": "markdown",
      "metadata": {
        "id": "-PFJCsYcV5Ff"
      },
      "source": [
        "**Function to compute dale chall index**"
      ]
    },
    {
      "cell_type": "code",
      "metadata": {
        "id": "Xcrnr0c5Ttui"
      },
      "source": [
        "def compute_dale_chall_index(df):\n",
        "    df['body']=df['body'].astype(str)\n",
        "    df['dale_chall_index']=0\n",
        "    length=len(df)\n",
        "    for i in range(length):\n",
        "        news=df.loc[i,\"body\"]\n",
        "        daleChallIndex=textstat.dale_chall_readability_score(news)\n",
        "        df.loc[i,\"dale_chall_index\"]=daleChallIndex\n",
        "    return df"
      ],
      "execution_count": null,
      "outputs": []
    },
    {
      "cell_type": "markdown",
      "metadata": {
        "id": "t-XkRXZ_V8RZ"
      },
      "source": [
        "**Function to compute sentiment score**"
      ]
    },
    {
      "cell_type": "code",
      "metadata": {
        "id": "hhlBI0a1Ttui"
      },
      "source": [
        "def compute_sentiment_score(df):\n",
        "    df['sentiment']=np.nan\n",
        "    length=len(df)\n",
        "    for i in range(length):\n",
        "        polarity=df.loc[i,\"polarity\"]\n",
        "        if polarity>=0.15:\n",
        "            df.loc[i,\"sentiment\"]='positive'\n",
        "        elif -0.15<polarity<0.15:\n",
        "            df.loc[i,\"sentiment\"]='neutral'\n",
        "        elif polarity<=-0.15:\n",
        "            df.loc[i,\"sentiment\"]='negative'\n",
        "    return df"
      ],
      "execution_count": null,
      "outputs": []
    },
    {
      "cell_type": "markdown",
      "metadata": {
        "id": "5KPy4noEV-0m"
      },
      "source": [
        "**Function to call normalization functions for all scores**"
      ]
    },
    {
      "cell_type": "code",
      "metadata": {
        "id": "46ZYx4rQTtui"
      },
      "source": [
        "def normalize_semantic_scores(df):\n",
        "    df.drop(['company','headlines','link','body'], axis=1,inplace=True)\n",
        "    #df.drop(['company','headlines','body'], axis=1,inplace=True)\n",
        "    df=normalize_polarity(df)\n",
        "    df=normalize_entropy(df)\n",
        "    df=normalize_flesch_index(df)\n",
        "    df=normalize_dale_chall_index(df)\n",
        "    return df"
      ],
      "execution_count": null,
      "outputs": []
    },
    {
      "cell_type": "markdown",
      "metadata": {
        "id": "Dsml_AxEWFwV"
      },
      "source": [
        "**Function to normalize polarity score**"
      ]
    },
    {
      "cell_type": "code",
      "metadata": {
        "id": "jMl4eiowTtui"
      },
      "source": [
        "def normalize_polarity(df):\n",
        "    df['normalized_polarity']=0\n",
        "    length=len(df)\n",
        "    minIndex=df['polarity'].min()\n",
        "    maxIndex=df['polarity'].max()\n",
        "    for i in range(length):\n",
        "        index=df.loc[i,\"polarity\"]\n",
        "        normalizedIndex=(index-minIndex)/(maxIndex-minIndex)\n",
        "        df.loc[i,\"normalized_polarity\"]=normalizedIndex\n",
        "    return df"
      ],
      "execution_count": null,
      "outputs": []
    },
    {
      "cell_type": "markdown",
      "metadata": {
        "id": "vbRd3CikWKnc"
      },
      "source": [
        "**Function to normalize entropy score**"
      ]
    },
    {
      "cell_type": "code",
      "metadata": {
        "id": "V1WPDStRTtui"
      },
      "source": [
        "def normalize_entropy(df):\n",
        "    df['normalized_entropy']=0\n",
        "    length=len(df)\n",
        "    minIndex=df['entropy'].min()\n",
        "    maxIndex=df['entropy'].max()\n",
        "    for i in range(length):\n",
        "        index=df.loc[i,\"entropy\"]\n",
        "        normalizedIndex=(index-minIndex)/(maxIndex-minIndex)\n",
        "        df.loc[i,\"normalized_entropy\"]=normalizedIndex\n",
        "    return df"
      ],
      "execution_count": null,
      "outputs": []
    },
    {
      "cell_type": "markdown",
      "metadata": {
        "id": "lRUg21E2WNJF"
      },
      "source": [
        "**Function to normalize flesch index**"
      ]
    },
    {
      "cell_type": "code",
      "metadata": {
        "id": "jey6oFQ8Ttui"
      },
      "source": [
        "def normalize_flesch_index(df):\n",
        "    df['normalized_flesch_index']=0\n",
        "    length=len(df)\n",
        "    minIndex=df['flesch_index'].min()\n",
        "    maxIndex=df['flesch_index'].max()\n",
        "    for i in range(length):\n",
        "        index=df.loc[i,\"flesch_index\"]\n",
        "        normalizedIndex=(index-minIndex)/(maxIndex-minIndex)\n",
        "        df.loc[i,\"normalized_flesch_index\"]=normalizedIndex\n",
        "    return df"
      ],
      "execution_count": null,
      "outputs": []
    },
    {
      "cell_type": "markdown",
      "metadata": {
        "id": "mkUXhx69WP3z"
      },
      "source": [
        "**Function to normalize dale chall index**"
      ]
    },
    {
      "cell_type": "code",
      "metadata": {
        "id": "TdGS06L4Ttui"
      },
      "source": [
        "def normalize_dale_chall_index(df):\n",
        "    df['normalized_dale_chall_index']=0\n",
        "    length=len(df)\n",
        "    minIndex=df['dale_chall_index'].min()\n",
        "    maxIndex=df['dale_chall_index'].max()\n",
        "    for i in range(length):\n",
        "        index=df.loc[i,\"dale_chall_index\"]\n",
        "        normalizedIndex=(index-minIndex)/(maxIndex-minIndex)\n",
        "        df.loc[i,\"normalized_dale_chall_index\"]=normalizedIndex\n",
        "    return df"
      ],
      "execution_count": null,
      "outputs": []
    },
    {
      "cell_type": "markdown",
      "metadata": {
        "id": "R5QySbr_WTll"
      },
      "source": [
        "**Function to compute final semantic score**"
      ]
    },
    {
      "cell_type": "code",
      "metadata": {
        "id": "Vbq_y06TTtui"
      },
      "source": [
        "def compute_final_score(df):\n",
        "    df['final_semantic_score']=0\n",
        "    length=len(df)\n",
        "    for i in range(length):\n",
        "        sub=df.loc[i,\"subjectivity\"]\n",
        "        pol=df.loc[i,\"normalized_polarity\"]\n",
        "        ent=df.loc[i,\"normalized_entropy\"]\n",
        "        fle=df.loc[i,\"normalized_flesch_index\"]\n",
        "        dal=df.loc[i,\"normalized_dale_chall_index\"]\n",
        "        finalScore=(sub+pol+ent-fle-dal)/(5)\n",
        "        df.loc[i,\"final_semantic_score\"]=finalScore\n",
        "    return df"
      ],
      "execution_count": null,
      "outputs": []
    }
  ]
}